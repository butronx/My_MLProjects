{
  "cells": [
    {
      "cell_type": "markdown",
      "metadata": {
        "id": "view-in-github",
        "colab_type": "text"
      },
      "source": [
        "<a href=\"https://colab.research.google.com/github/butronx/My_MLProjects/blob/master/project.ipynb\" target=\"_parent\"><img src=\"https://colab.research.google.com/assets/colab-badge.svg\" alt=\"Open In Colab\"/></a>"
      ]
    },
    {
      "cell_type": "code",
      "execution_count": null,
      "metadata": {
        "id": "Y8dqczfoLJWn"
      },
      "outputs": [],
      "source": [
        "import pandas as pd\n",
        "import numpy as np\n",
        "import seaborn as sns\n",
        "import matplotlib.pyplot as plt\n",
        "from sklearn.model_selection import train_test_split, RandomizedSearchCV\n",
        "from sklearn.preprocessing import StandardScaler\n",
        "from sklearn.ensemble import RandomForestClassifier, GradientBoostingClassifier\n",
        "from sklearn.neural_network import MLPClassifier\n",
        "from sklearn.metrics import classification_report, confusion_matrix, accuracy_score\n",
        "from imblearn.over_sampling import SMOTE\n",
        "from sklearn.decomposition import PCA"
      ]
    },
    {
      "cell_type": "code",
      "execution_count": null,
      "metadata": {
        "id": "VChqLwC4OtvA"
      },
      "outputs": [],
      "source": [
        "from google.colab import drive\n",
        "#drive.mount('/content/drive')"
      ]
    },
    {
      "cell_type": "code",
      "execution_count": null,
      "metadata": {
        "id": "EljbrVxHjYGP"
      },
      "outputs": [],
      "source": [
        "from google.colab import drive\n",
        "#drive.mount('/content/drive')"
      ]
    },
    {
      "cell_type": "code",
      "execution_count": null,
      "metadata": {
        "id": "tZWaC15ANF0c"
      },
      "outputs": [],
      "source": [
        "#path = \"/content/drive/MyDrive/dataset2/heart_disease.csv\"\n",
        "path = \"/content/gp7_v22_heart_disease_uci.csv\"\n",
        "#path = \"/content/GP7_NB_Heart_Disease_Prediction.csv\"\n",
        "\n",
        "df = pd.read_csv(path)"
      ]
    },
    {
      "cell_type": "code",
      "execution_count": null,
      "metadata": {
        "colab": {
          "base_uri": "https://localhost:8080/"
        },
        "id": "kOLWNphs-y33",
        "outputId": "45ccb3fc-c3f6-4c1b-b0d1-b8d0feceaf38"
      },
      "outputs": [
        {
          "output_type": "execute_result",
          "data": {
            "text/plain": [
              "((920, 16), pandas.core.frame.DataFrame)"
            ]
          },
          "metadata": {},
          "execution_count": 34
        }
      ],
      "source": [
        "df.shape, type(df)"
      ]
    },
    {
      "cell_type": "code",
      "execution_count": null,
      "metadata": {
        "id": "2Gk8_56-Y8ss",
        "colab": {
          "base_uri": "https://localhost:8080/",
          "height": 600
        },
        "outputId": "9bf3c23d-97f2-4d4c-b5e5-14fee774943d"
      },
      "outputs": [
        {
          "output_type": "execute_result",
          "data": {
            "text/plain": [
              "      id  age     sex        dataset               cp  trestbps   chol    fbs  \\\n",
              "0      1   63    Male      Cleveland   typical angina     145.0  233.0   True   \n",
              "1      2   67    Male      Cleveland     asymptomatic     160.0  286.0  False   \n",
              "2      3   67    Male      Cleveland     asymptomatic     120.0  229.0  False   \n",
              "3      4   37    Male      Cleveland      non-anginal     130.0  250.0  False   \n",
              "4      5   41  Female      Cleveland  atypical angina     130.0  204.0  False   \n",
              "..   ...  ...     ...            ...              ...       ...    ...    ...   \n",
              "915  916   54  Female  VA Long Beach     asymptomatic     127.0  333.0   True   \n",
              "916  917   62    Male  VA Long Beach   typical angina       NaN  139.0  False   \n",
              "917  918   55    Male  VA Long Beach     asymptomatic     122.0  223.0   True   \n",
              "918  919   58    Male  VA Long Beach     asymptomatic       NaN  385.0   True   \n",
              "919  920   62    Male  VA Long Beach  atypical angina     120.0  254.0  False   \n",
              "\n",
              "              restecg  thalch  exang  oldpeak        slope   ca  \\\n",
              "0      lv hypertrophy   150.0  False      2.3  downsloping  0.0   \n",
              "1      lv hypertrophy   108.0   True      1.5         flat  3.0   \n",
              "2      lv hypertrophy   129.0   True      2.6         flat  2.0   \n",
              "3              normal   187.0  False      3.5  downsloping  0.0   \n",
              "4      lv hypertrophy   172.0  False      1.4    upsloping  0.0   \n",
              "..                ...     ...    ...      ...          ...  ...   \n",
              "915  st-t abnormality   154.0  False      0.0          NaN  NaN   \n",
              "916  st-t abnormality     NaN    NaN      NaN          NaN  NaN   \n",
              "917  st-t abnormality   100.0  False      0.0          NaN  NaN   \n",
              "918    lv hypertrophy     NaN    NaN      NaN          NaN  NaN   \n",
              "919    lv hypertrophy    93.0   True      0.0          NaN  NaN   \n",
              "\n",
              "                  thal  num  \n",
              "0         fixed defect    0  \n",
              "1               normal    2  \n",
              "2    reversable defect    1  \n",
              "3               normal    0  \n",
              "4               normal    0  \n",
              "..                 ...  ...  \n",
              "915                NaN    1  \n",
              "916                NaN    0  \n",
              "917       fixed defect    2  \n",
              "918                NaN    0  \n",
              "919                NaN    1  \n",
              "\n",
              "[920 rows x 16 columns]"
            ],
            "text/html": [
              "\n",
              "  <div id=\"df-c96b3ea5-db6c-42d4-ab9d-bb2e943f8639\" class=\"colab-df-container\">\n",
              "    <div>\n",
              "<style scoped>\n",
              "    .dataframe tbody tr th:only-of-type {\n",
              "        vertical-align: middle;\n",
              "    }\n",
              "\n",
              "    .dataframe tbody tr th {\n",
              "        vertical-align: top;\n",
              "    }\n",
              "\n",
              "    .dataframe thead th {\n",
              "        text-align: right;\n",
              "    }\n",
              "</style>\n",
              "<table border=\"1\" class=\"dataframe\">\n",
              "  <thead>\n",
              "    <tr style=\"text-align: right;\">\n",
              "      <th></th>\n",
              "      <th>id</th>\n",
              "      <th>age</th>\n",
              "      <th>sex</th>\n",
              "      <th>dataset</th>\n",
              "      <th>cp</th>\n",
              "      <th>trestbps</th>\n",
              "      <th>chol</th>\n",
              "      <th>fbs</th>\n",
              "      <th>restecg</th>\n",
              "      <th>thalch</th>\n",
              "      <th>exang</th>\n",
              "      <th>oldpeak</th>\n",
              "      <th>slope</th>\n",
              "      <th>ca</th>\n",
              "      <th>thal</th>\n",
              "      <th>num</th>\n",
              "    </tr>\n",
              "  </thead>\n",
              "  <tbody>\n",
              "    <tr>\n",
              "      <th>0</th>\n",
              "      <td>1</td>\n",
              "      <td>63</td>\n",
              "      <td>Male</td>\n",
              "      <td>Cleveland</td>\n",
              "      <td>typical angina</td>\n",
              "      <td>145.0</td>\n",
              "      <td>233.0</td>\n",
              "      <td>True</td>\n",
              "      <td>lv hypertrophy</td>\n",
              "      <td>150.0</td>\n",
              "      <td>False</td>\n",
              "      <td>2.3</td>\n",
              "      <td>downsloping</td>\n",
              "      <td>0.0</td>\n",
              "      <td>fixed defect</td>\n",
              "      <td>0</td>\n",
              "    </tr>\n",
              "    <tr>\n",
              "      <th>1</th>\n",
              "      <td>2</td>\n",
              "      <td>67</td>\n",
              "      <td>Male</td>\n",
              "      <td>Cleveland</td>\n",
              "      <td>asymptomatic</td>\n",
              "      <td>160.0</td>\n",
              "      <td>286.0</td>\n",
              "      <td>False</td>\n",
              "      <td>lv hypertrophy</td>\n",
              "      <td>108.0</td>\n",
              "      <td>True</td>\n",
              "      <td>1.5</td>\n",
              "      <td>flat</td>\n",
              "      <td>3.0</td>\n",
              "      <td>normal</td>\n",
              "      <td>2</td>\n",
              "    </tr>\n",
              "    <tr>\n",
              "      <th>2</th>\n",
              "      <td>3</td>\n",
              "      <td>67</td>\n",
              "      <td>Male</td>\n",
              "      <td>Cleveland</td>\n",
              "      <td>asymptomatic</td>\n",
              "      <td>120.0</td>\n",
              "      <td>229.0</td>\n",
              "      <td>False</td>\n",
              "      <td>lv hypertrophy</td>\n",
              "      <td>129.0</td>\n",
              "      <td>True</td>\n",
              "      <td>2.6</td>\n",
              "      <td>flat</td>\n",
              "      <td>2.0</td>\n",
              "      <td>reversable defect</td>\n",
              "      <td>1</td>\n",
              "    </tr>\n",
              "    <tr>\n",
              "      <th>3</th>\n",
              "      <td>4</td>\n",
              "      <td>37</td>\n",
              "      <td>Male</td>\n",
              "      <td>Cleveland</td>\n",
              "      <td>non-anginal</td>\n",
              "      <td>130.0</td>\n",
              "      <td>250.0</td>\n",
              "      <td>False</td>\n",
              "      <td>normal</td>\n",
              "      <td>187.0</td>\n",
              "      <td>False</td>\n",
              "      <td>3.5</td>\n",
              "      <td>downsloping</td>\n",
              "      <td>0.0</td>\n",
              "      <td>normal</td>\n",
              "      <td>0</td>\n",
              "    </tr>\n",
              "    <tr>\n",
              "      <th>4</th>\n",
              "      <td>5</td>\n",
              "      <td>41</td>\n",
              "      <td>Female</td>\n",
              "      <td>Cleveland</td>\n",
              "      <td>atypical angina</td>\n",
              "      <td>130.0</td>\n",
              "      <td>204.0</td>\n",
              "      <td>False</td>\n",
              "      <td>lv hypertrophy</td>\n",
              "      <td>172.0</td>\n",
              "      <td>False</td>\n",
              "      <td>1.4</td>\n",
              "      <td>upsloping</td>\n",
              "      <td>0.0</td>\n",
              "      <td>normal</td>\n",
              "      <td>0</td>\n",
              "    </tr>\n",
              "    <tr>\n",
              "      <th>...</th>\n",
              "      <td>...</td>\n",
              "      <td>...</td>\n",
              "      <td>...</td>\n",
              "      <td>...</td>\n",
              "      <td>...</td>\n",
              "      <td>...</td>\n",
              "      <td>...</td>\n",
              "      <td>...</td>\n",
              "      <td>...</td>\n",
              "      <td>...</td>\n",
              "      <td>...</td>\n",
              "      <td>...</td>\n",
              "      <td>...</td>\n",
              "      <td>...</td>\n",
              "      <td>...</td>\n",
              "      <td>...</td>\n",
              "    </tr>\n",
              "    <tr>\n",
              "      <th>915</th>\n",
              "      <td>916</td>\n",
              "      <td>54</td>\n",
              "      <td>Female</td>\n",
              "      <td>VA Long Beach</td>\n",
              "      <td>asymptomatic</td>\n",
              "      <td>127.0</td>\n",
              "      <td>333.0</td>\n",
              "      <td>True</td>\n",
              "      <td>st-t abnormality</td>\n",
              "      <td>154.0</td>\n",
              "      <td>False</td>\n",
              "      <td>0.0</td>\n",
              "      <td>NaN</td>\n",
              "      <td>NaN</td>\n",
              "      <td>NaN</td>\n",
              "      <td>1</td>\n",
              "    </tr>\n",
              "    <tr>\n",
              "      <th>916</th>\n",
              "      <td>917</td>\n",
              "      <td>62</td>\n",
              "      <td>Male</td>\n",
              "      <td>VA Long Beach</td>\n",
              "      <td>typical angina</td>\n",
              "      <td>NaN</td>\n",
              "      <td>139.0</td>\n",
              "      <td>False</td>\n",
              "      <td>st-t abnormality</td>\n",
              "      <td>NaN</td>\n",
              "      <td>NaN</td>\n",
              "      <td>NaN</td>\n",
              "      <td>NaN</td>\n",
              "      <td>NaN</td>\n",
              "      <td>NaN</td>\n",
              "      <td>0</td>\n",
              "    </tr>\n",
              "    <tr>\n",
              "      <th>917</th>\n",
              "      <td>918</td>\n",
              "      <td>55</td>\n",
              "      <td>Male</td>\n",
              "      <td>VA Long Beach</td>\n",
              "      <td>asymptomatic</td>\n",
              "      <td>122.0</td>\n",
              "      <td>223.0</td>\n",
              "      <td>True</td>\n",
              "      <td>st-t abnormality</td>\n",
              "      <td>100.0</td>\n",
              "      <td>False</td>\n",
              "      <td>0.0</td>\n",
              "      <td>NaN</td>\n",
              "      <td>NaN</td>\n",
              "      <td>fixed defect</td>\n",
              "      <td>2</td>\n",
              "    </tr>\n",
              "    <tr>\n",
              "      <th>918</th>\n",
              "      <td>919</td>\n",
              "      <td>58</td>\n",
              "      <td>Male</td>\n",
              "      <td>VA Long Beach</td>\n",
              "      <td>asymptomatic</td>\n",
              "      <td>NaN</td>\n",
              "      <td>385.0</td>\n",
              "      <td>True</td>\n",
              "      <td>lv hypertrophy</td>\n",
              "      <td>NaN</td>\n",
              "      <td>NaN</td>\n",
              "      <td>NaN</td>\n",
              "      <td>NaN</td>\n",
              "      <td>NaN</td>\n",
              "      <td>NaN</td>\n",
              "      <td>0</td>\n",
              "    </tr>\n",
              "    <tr>\n",
              "      <th>919</th>\n",
              "      <td>920</td>\n",
              "      <td>62</td>\n",
              "      <td>Male</td>\n",
              "      <td>VA Long Beach</td>\n",
              "      <td>atypical angina</td>\n",
              "      <td>120.0</td>\n",
              "      <td>254.0</td>\n",
              "      <td>False</td>\n",
              "      <td>lv hypertrophy</td>\n",
              "      <td>93.0</td>\n",
              "      <td>True</td>\n",
              "      <td>0.0</td>\n",
              "      <td>NaN</td>\n",
              "      <td>NaN</td>\n",
              "      <td>NaN</td>\n",
              "      <td>1</td>\n",
              "    </tr>\n",
              "  </tbody>\n",
              "</table>\n",
              "<p>920 rows × 16 columns</p>\n",
              "</div>\n",
              "    <div class=\"colab-df-buttons\">\n",
              "\n",
              "  <div class=\"colab-df-container\">\n",
              "    <button class=\"colab-df-convert\" onclick=\"convertToInteractive('df-c96b3ea5-db6c-42d4-ab9d-bb2e943f8639')\"\n",
              "            title=\"Convert this dataframe to an interactive table.\"\n",
              "            style=\"display:none;\">\n",
              "\n",
              "  <svg xmlns=\"http://www.w3.org/2000/svg\" height=\"24px\" viewBox=\"0 -960 960 960\">\n",
              "    <path d=\"M120-120v-720h720v720H120Zm60-500h600v-160H180v160Zm220 220h160v-160H400v160Zm0 220h160v-160H400v160ZM180-400h160v-160H180v160Zm440 0h160v-160H620v160ZM180-180h160v-160H180v160Zm440 0h160v-160H620v160Z\"/>\n",
              "  </svg>\n",
              "    </button>\n",
              "\n",
              "  <style>\n",
              "    .colab-df-container {\n",
              "      display:flex;\n",
              "      gap: 12px;\n",
              "    }\n",
              "\n",
              "    .colab-df-convert {\n",
              "      background-color: #E8F0FE;\n",
              "      border: none;\n",
              "      border-radius: 50%;\n",
              "      cursor: pointer;\n",
              "      display: none;\n",
              "      fill: #1967D2;\n",
              "      height: 32px;\n",
              "      padding: 0 0 0 0;\n",
              "      width: 32px;\n",
              "    }\n",
              "\n",
              "    .colab-df-convert:hover {\n",
              "      background-color: #E2EBFA;\n",
              "      box-shadow: 0px 1px 2px rgba(60, 64, 67, 0.3), 0px 1px 3px 1px rgba(60, 64, 67, 0.15);\n",
              "      fill: #174EA6;\n",
              "    }\n",
              "\n",
              "    .colab-df-buttons div {\n",
              "      margin-bottom: 4px;\n",
              "    }\n",
              "\n",
              "    [theme=dark] .colab-df-convert {\n",
              "      background-color: #3B4455;\n",
              "      fill: #D2E3FC;\n",
              "    }\n",
              "\n",
              "    [theme=dark] .colab-df-convert:hover {\n",
              "      background-color: #434B5C;\n",
              "      box-shadow: 0px 1px 3px 1px rgba(0, 0, 0, 0.15);\n",
              "      filter: drop-shadow(0px 1px 2px rgba(0, 0, 0, 0.3));\n",
              "      fill: #FFFFFF;\n",
              "    }\n",
              "  </style>\n",
              "\n",
              "    <script>\n",
              "      const buttonEl =\n",
              "        document.querySelector('#df-c96b3ea5-db6c-42d4-ab9d-bb2e943f8639 button.colab-df-convert');\n",
              "      buttonEl.style.display =\n",
              "        google.colab.kernel.accessAllowed ? 'block' : 'none';\n",
              "\n",
              "      async function convertToInteractive(key) {\n",
              "        const element = document.querySelector('#df-c96b3ea5-db6c-42d4-ab9d-bb2e943f8639');\n",
              "        const dataTable =\n",
              "          await google.colab.kernel.invokeFunction('convertToInteractive',\n",
              "                                                    [key], {});\n",
              "        if (!dataTable) return;\n",
              "\n",
              "        const docLinkHtml = 'Like what you see? Visit the ' +\n",
              "          '<a target=\"_blank\" href=https://colab.research.google.com/notebooks/data_table.ipynb>data table notebook</a>'\n",
              "          + ' to learn more about interactive tables.';\n",
              "        element.innerHTML = '';\n",
              "        dataTable['output_type'] = 'display_data';\n",
              "        await google.colab.output.renderOutput(dataTable, element);\n",
              "        const docLink = document.createElement('div');\n",
              "        docLink.innerHTML = docLinkHtml;\n",
              "        element.appendChild(docLink);\n",
              "      }\n",
              "    </script>\n",
              "  </div>\n",
              "\n",
              "\n",
              "<div id=\"df-87a0413a-0c2c-42d6-9288-87e0d3f52bf3\">\n",
              "  <button class=\"colab-df-quickchart\" onclick=\"quickchart('df-87a0413a-0c2c-42d6-9288-87e0d3f52bf3')\"\n",
              "            title=\"Suggest charts\"\n",
              "            style=\"display:none;\">\n",
              "\n",
              "<svg xmlns=\"http://www.w3.org/2000/svg\" height=\"24px\"viewBox=\"0 0 24 24\"\n",
              "     width=\"24px\">\n",
              "    <g>\n",
              "        <path d=\"M19 3H5c-1.1 0-2 .9-2 2v14c0 1.1.9 2 2 2h14c1.1 0 2-.9 2-2V5c0-1.1-.9-2-2-2zM9 17H7v-7h2v7zm4 0h-2V7h2v10zm4 0h-2v-4h2v4z\"/>\n",
              "    </g>\n",
              "</svg>\n",
              "  </button>\n",
              "\n",
              "<style>\n",
              "  .colab-df-quickchart {\n",
              "      --bg-color: #E8F0FE;\n",
              "      --fill-color: #1967D2;\n",
              "      --hover-bg-color: #E2EBFA;\n",
              "      --hover-fill-color: #174EA6;\n",
              "      --disabled-fill-color: #AAA;\n",
              "      --disabled-bg-color: #DDD;\n",
              "  }\n",
              "\n",
              "  [theme=dark] .colab-df-quickchart {\n",
              "      --bg-color: #3B4455;\n",
              "      --fill-color: #D2E3FC;\n",
              "      --hover-bg-color: #434B5C;\n",
              "      --hover-fill-color: #FFFFFF;\n",
              "      --disabled-bg-color: #3B4455;\n",
              "      --disabled-fill-color: #666;\n",
              "  }\n",
              "\n",
              "  .colab-df-quickchart {\n",
              "    background-color: var(--bg-color);\n",
              "    border: none;\n",
              "    border-radius: 50%;\n",
              "    cursor: pointer;\n",
              "    display: none;\n",
              "    fill: var(--fill-color);\n",
              "    height: 32px;\n",
              "    padding: 0;\n",
              "    width: 32px;\n",
              "  }\n",
              "\n",
              "  .colab-df-quickchart:hover {\n",
              "    background-color: var(--hover-bg-color);\n",
              "    box-shadow: 0 1px 2px rgba(60, 64, 67, 0.3), 0 1px 3px 1px rgba(60, 64, 67, 0.15);\n",
              "    fill: var(--button-hover-fill-color);\n",
              "  }\n",
              "\n",
              "  .colab-df-quickchart-complete:disabled,\n",
              "  .colab-df-quickchart-complete:disabled:hover {\n",
              "    background-color: var(--disabled-bg-color);\n",
              "    fill: var(--disabled-fill-color);\n",
              "    box-shadow: none;\n",
              "  }\n",
              "\n",
              "  .colab-df-spinner {\n",
              "    border: 2px solid var(--fill-color);\n",
              "    border-color: transparent;\n",
              "    border-bottom-color: var(--fill-color);\n",
              "    animation:\n",
              "      spin 1s steps(1) infinite;\n",
              "  }\n",
              "\n",
              "  @keyframes spin {\n",
              "    0% {\n",
              "      border-color: transparent;\n",
              "      border-bottom-color: var(--fill-color);\n",
              "      border-left-color: var(--fill-color);\n",
              "    }\n",
              "    20% {\n",
              "      border-color: transparent;\n",
              "      border-left-color: var(--fill-color);\n",
              "      border-top-color: var(--fill-color);\n",
              "    }\n",
              "    30% {\n",
              "      border-color: transparent;\n",
              "      border-left-color: var(--fill-color);\n",
              "      border-top-color: var(--fill-color);\n",
              "      border-right-color: var(--fill-color);\n",
              "    }\n",
              "    40% {\n",
              "      border-color: transparent;\n",
              "      border-right-color: var(--fill-color);\n",
              "      border-top-color: var(--fill-color);\n",
              "    }\n",
              "    60% {\n",
              "      border-color: transparent;\n",
              "      border-right-color: var(--fill-color);\n",
              "    }\n",
              "    80% {\n",
              "      border-color: transparent;\n",
              "      border-right-color: var(--fill-color);\n",
              "      border-bottom-color: var(--fill-color);\n",
              "    }\n",
              "    90% {\n",
              "      border-color: transparent;\n",
              "      border-bottom-color: var(--fill-color);\n",
              "    }\n",
              "  }\n",
              "</style>\n",
              "\n",
              "  <script>\n",
              "    async function quickchart(key) {\n",
              "      const quickchartButtonEl =\n",
              "        document.querySelector('#' + key + ' button');\n",
              "      quickchartButtonEl.disabled = true;  // To prevent multiple clicks.\n",
              "      quickchartButtonEl.classList.add('colab-df-spinner');\n",
              "      try {\n",
              "        const charts = await google.colab.kernel.invokeFunction(\n",
              "            'suggestCharts', [key], {});\n",
              "      } catch (error) {\n",
              "        console.error('Error during call to suggestCharts:', error);\n",
              "      }\n",
              "      quickchartButtonEl.classList.remove('colab-df-spinner');\n",
              "      quickchartButtonEl.classList.add('colab-df-quickchart-complete');\n",
              "    }\n",
              "    (() => {\n",
              "      let quickchartButtonEl =\n",
              "        document.querySelector('#df-87a0413a-0c2c-42d6-9288-87e0d3f52bf3 button');\n",
              "      quickchartButtonEl.style.display =\n",
              "        google.colab.kernel.accessAllowed ? 'block' : 'none';\n",
              "    })();\n",
              "  </script>\n",
              "</div>\n",
              "\n",
              "  <div id=\"id_1922aceb-cd73-4836-b4be-d8b8ef69726f\">\n",
              "    <style>\n",
              "      .colab-df-generate {\n",
              "        background-color: #E8F0FE;\n",
              "        border: none;\n",
              "        border-radius: 50%;\n",
              "        cursor: pointer;\n",
              "        display: none;\n",
              "        fill: #1967D2;\n",
              "        height: 32px;\n",
              "        padding: 0 0 0 0;\n",
              "        width: 32px;\n",
              "      }\n",
              "\n",
              "      .colab-df-generate:hover {\n",
              "        background-color: #E2EBFA;\n",
              "        box-shadow: 0px 1px 2px rgba(60, 64, 67, 0.3), 0px 1px 3px 1px rgba(60, 64, 67, 0.15);\n",
              "        fill: #174EA6;\n",
              "      }\n",
              "\n",
              "      [theme=dark] .colab-df-generate {\n",
              "        background-color: #3B4455;\n",
              "        fill: #D2E3FC;\n",
              "      }\n",
              "\n",
              "      [theme=dark] .colab-df-generate:hover {\n",
              "        background-color: #434B5C;\n",
              "        box-shadow: 0px 1px 3px 1px rgba(0, 0, 0, 0.15);\n",
              "        filter: drop-shadow(0px 1px 2px rgba(0, 0, 0, 0.3));\n",
              "        fill: #FFFFFF;\n",
              "      }\n",
              "    </style>\n",
              "    <button class=\"colab-df-generate\" onclick=\"generateWithVariable('df')\"\n",
              "            title=\"Generate code using this dataframe.\"\n",
              "            style=\"display:none;\">\n",
              "\n",
              "  <svg xmlns=\"http://www.w3.org/2000/svg\" height=\"24px\"viewBox=\"0 0 24 24\"\n",
              "       width=\"24px\">\n",
              "    <path d=\"M7,19H8.4L18.45,9,17,7.55,7,17.6ZM5,21V16.75L18.45,3.32a2,2,0,0,1,2.83,0l1.4,1.43a1.91,1.91,0,0,1,.58,1.4,1.91,1.91,0,0,1-.58,1.4L9.25,21ZM18.45,9,17,7.55Zm-12,3A5.31,5.31,0,0,0,4.9,8.1,5.31,5.31,0,0,0,1,6.5,5.31,5.31,0,0,0,4.9,4.9,5.31,5.31,0,0,0,6.5,1,5.31,5.31,0,0,0,8.1,4.9,5.31,5.31,0,0,0,12,6.5,5.46,5.46,0,0,0,6.5,12Z\"/>\n",
              "  </svg>\n",
              "    </button>\n",
              "    <script>\n",
              "      (() => {\n",
              "      const buttonEl =\n",
              "        document.querySelector('#id_1922aceb-cd73-4836-b4be-d8b8ef69726f button.colab-df-generate');\n",
              "      buttonEl.style.display =\n",
              "        google.colab.kernel.accessAllowed ? 'block' : 'none';\n",
              "\n",
              "      buttonEl.onclick = () => {\n",
              "        google.colab.notebook.generateWithVariable('df');\n",
              "      }\n",
              "      })();\n",
              "    </script>\n",
              "  </div>\n",
              "\n",
              "    </div>\n",
              "  </div>\n"
            ],
            "application/vnd.google.colaboratory.intrinsic+json": {
              "type": "dataframe",
              "variable_name": "df",
              "summary": "{\n  \"name\": \"df\",\n  \"rows\": 920,\n  \"fields\": [\n    {\n      \"column\": \"id\",\n      \"properties\": {\n        \"dtype\": \"number\",\n        \"std\": 265,\n        \"min\": 1,\n        \"max\": 920,\n        \"num_unique_values\": 920,\n        \"samples\": [\n          320,\n          378,\n          539\n        ],\n        \"semantic_type\": \"\",\n        \"description\": \"\"\n      }\n    },\n    {\n      \"column\": \"age\",\n      \"properties\": {\n        \"dtype\": \"number\",\n        \"std\": 9,\n        \"min\": 28,\n        \"max\": 77,\n        \"num_unique_values\": 50,\n        \"samples\": [\n          64,\n          74,\n          39\n        ],\n        \"semantic_type\": \"\",\n        \"description\": \"\"\n      }\n    },\n    {\n      \"column\": \"sex\",\n      \"properties\": {\n        \"dtype\": \"category\",\n        \"num_unique_values\": 2,\n        \"samples\": [\n          \"Female\",\n          \"Male\"\n        ],\n        \"semantic_type\": \"\",\n        \"description\": \"\"\n      }\n    },\n    {\n      \"column\": \"dataset\",\n      \"properties\": {\n        \"dtype\": \"category\",\n        \"num_unique_values\": 4,\n        \"samples\": [\n          \"Hungary\",\n          \"VA Long Beach\"\n        ],\n        \"semantic_type\": \"\",\n        \"description\": \"\"\n      }\n    },\n    {\n      \"column\": \"cp\",\n      \"properties\": {\n        \"dtype\": \"category\",\n        \"num_unique_values\": 4,\n        \"samples\": [\n          \"asymptomatic\",\n          \"atypical angina\"\n        ],\n        \"semantic_type\": \"\",\n        \"description\": \"\"\n      }\n    },\n    {\n      \"column\": \"trestbps\",\n      \"properties\": {\n        \"dtype\": \"number\",\n        \"std\": 19.066069518587458,\n        \"min\": 0.0,\n        \"max\": 200.0,\n        \"num_unique_values\": 61,\n        \"samples\": [\n          145.0,\n          172.0\n        ],\n        \"semantic_type\": \"\",\n        \"description\": \"\"\n      }\n    },\n    {\n      \"column\": \"chol\",\n      \"properties\": {\n        \"dtype\": \"number\",\n        \"std\": 110.78081035323044,\n        \"min\": 0.0,\n        \"max\": 603.0,\n        \"num_unique_values\": 217,\n        \"samples\": [\n          384.0,\n          333.0\n        ],\n        \"semantic_type\": \"\",\n        \"description\": \"\"\n      }\n    },\n    {\n      \"column\": \"fbs\",\n      \"properties\": {\n        \"dtype\": \"category\",\n        \"num_unique_values\": 2,\n        \"samples\": [\n          false,\n          true\n        ],\n        \"semantic_type\": \"\",\n        \"description\": \"\"\n      }\n    },\n    {\n      \"column\": \"restecg\",\n      \"properties\": {\n        \"dtype\": \"category\",\n        \"num_unique_values\": 3,\n        \"samples\": [\n          \"lv hypertrophy\",\n          \"normal\"\n        ],\n        \"semantic_type\": \"\",\n        \"description\": \"\"\n      }\n    },\n    {\n      \"column\": \"thalch\",\n      \"properties\": {\n        \"dtype\": \"number\",\n        \"std\": 25.926276492797612,\n        \"min\": 60.0,\n        \"max\": 202.0,\n        \"num_unique_values\": 119,\n        \"samples\": [\n          185.0,\n          134.0\n        ],\n        \"semantic_type\": \"\",\n        \"description\": \"\"\n      }\n    },\n    {\n      \"column\": \"exang\",\n      \"properties\": {\n        \"dtype\": \"category\",\n        \"num_unique_values\": 2,\n        \"samples\": [\n          true,\n          false\n        ],\n        \"semantic_type\": \"\",\n        \"description\": \"\"\n      }\n    },\n    {\n      \"column\": \"oldpeak\",\n      \"properties\": {\n        \"dtype\": \"number\",\n        \"std\": 1.0912262483465265,\n        \"min\": -2.6,\n        \"max\": 6.2,\n        \"num_unique_values\": 53,\n        \"samples\": [\n          2.4,\n          -1.1\n        ],\n        \"semantic_type\": \"\",\n        \"description\": \"\"\n      }\n    },\n    {\n      \"column\": \"slope\",\n      \"properties\": {\n        \"dtype\": \"category\",\n        \"num_unique_values\": 3,\n        \"samples\": [\n          \"downsloping\",\n          \"flat\"\n        ],\n        \"semantic_type\": \"\",\n        \"description\": \"\"\n      }\n    },\n    {\n      \"column\": \"ca\",\n      \"properties\": {\n        \"dtype\": \"number\",\n        \"std\": 0.9356530125599879,\n        \"min\": 0.0,\n        \"max\": 3.0,\n        \"num_unique_values\": 4,\n        \"samples\": [\n          3.0,\n          1.0\n        ],\n        \"semantic_type\": \"\",\n        \"description\": \"\"\n      }\n    },\n    {\n      \"column\": \"thal\",\n      \"properties\": {\n        \"dtype\": \"category\",\n        \"num_unique_values\": 3,\n        \"samples\": [\n          \"fixed defect\",\n          \"normal\"\n        ],\n        \"semantic_type\": \"\",\n        \"description\": \"\"\n      }\n    },\n    {\n      \"column\": \"num\",\n      \"properties\": {\n        \"dtype\": \"number\",\n        \"std\": 1,\n        \"min\": 0,\n        \"max\": 4,\n        \"num_unique_values\": 5,\n        \"samples\": [\n          2,\n          4\n        ],\n        \"semantic_type\": \"\",\n        \"description\": \"\"\n      }\n    }\n  ]\n}"
            }
          },
          "metadata": {},
          "execution_count": 35
        }
      ],
      "source": [
        "df"
      ]
    },
    {
      "cell_type": "code",
      "execution_count": null,
      "metadata": {
        "id": "3ydAe5GQgPVS",
        "colab": {
          "base_uri": "https://localhost:8080/"
        },
        "outputId": "16451e27-2522-4069-db1d-e9a24fcd6319"
      },
      "outputs": [
        {
          "output_type": "execute_result",
          "data": {
            "text/plain": [
              "Index(['id', 'age', 'sex', 'dataset', 'cp', 'trestbps', 'chol', 'fbs',\n",
              "       'restecg', 'thalch', 'exang', 'oldpeak', 'slope', 'ca', 'thal', 'num'],\n",
              "      dtype='object')"
            ]
          },
          "metadata": {},
          "execution_count": 36
        }
      ],
      "source": [
        "COLS = df.columns\n",
        "COLS"
      ]
    },
    {
      "cell_type": "code",
      "execution_count": null,
      "metadata": {
        "id": "dsRvDDQS-jZK",
        "colab": {
          "base_uri": "https://localhost:8080/"
        },
        "outputId": "688f5220-32cb-4044-ab58-5d801c5e4eb8"
      },
      "outputs": [
        {
          "output_type": "execute_result",
          "data": {
            "text/plain": [
              "((920, 16), pandas.core.frame.DataFrame)"
            ]
          },
          "metadata": {},
          "execution_count": 37
        }
      ],
      "source": [
        "df.shape, type(df)"
      ]
    },
    {
      "cell_type": "code",
      "execution_count": null,
      "metadata": {
        "id": "9U5z_0jVc6ax",
        "colab": {
          "base_uri": "https://localhost:8080/",
          "height": 720
        },
        "outputId": "8e46c654-4245-48ce-b02d-f7deee52163b"
      },
      "outputs": [
        {
          "output_type": "stream",
          "name": "stdout",
          "text": [
            "<class 'pandas.core.frame.DataFrame'>\n",
            "RangeIndex: 920 entries, 0 to 919\n",
            "Data columns (total 16 columns):\n",
            " #   Column    Non-Null Count  Dtype  \n",
            "---  ------    --------------  -----  \n",
            " 0   id        920 non-null    int64  \n",
            " 1   age       920 non-null    int64  \n",
            " 2   sex       920 non-null    object \n",
            " 3   dataset   920 non-null    object \n",
            " 4   cp        920 non-null    object \n",
            " 5   trestbps  861 non-null    float64\n",
            " 6   chol      890 non-null    float64\n",
            " 7   fbs       830 non-null    object \n",
            " 8   restecg   918 non-null    object \n",
            " 9   thalch    865 non-null    float64\n",
            " 10  exang     865 non-null    object \n",
            " 11  oldpeak   858 non-null    float64\n",
            " 12  slope     611 non-null    object \n",
            " 13  ca        309 non-null    float64\n",
            " 14  thal      434 non-null    object \n",
            " 15  num       920 non-null    int64  \n",
            "dtypes: float64(5), int64(3), object(8)\n",
            "memory usage: 115.1+ KB\n"
          ]
        },
        {
          "output_type": "execute_result",
          "data": {
            "text/plain": [
              "               id         age    trestbps        chol      thalch     oldpeak  \\\n",
              "count  920.000000  920.000000  861.000000  890.000000  865.000000  858.000000   \n",
              "mean   460.500000   53.510870  132.132404  199.130337  137.545665    0.878788   \n",
              "std    265.725422    9.424685   19.066070  110.780810   25.926276    1.091226   \n",
              "min      1.000000   28.000000    0.000000    0.000000   60.000000   -2.600000   \n",
              "25%    230.750000   47.000000  120.000000  175.000000  120.000000    0.000000   \n",
              "50%    460.500000   54.000000  130.000000  223.000000  140.000000    0.500000   \n",
              "75%    690.250000   60.000000  140.000000  268.000000  157.000000    1.500000   \n",
              "max    920.000000   77.000000  200.000000  603.000000  202.000000    6.200000   \n",
              "\n",
              "               ca         num  \n",
              "count  309.000000  920.000000  \n",
              "mean     0.676375    0.995652  \n",
              "std      0.935653    1.142693  \n",
              "min      0.000000    0.000000  \n",
              "25%      0.000000    0.000000  \n",
              "50%      0.000000    1.000000  \n",
              "75%      1.000000    2.000000  \n",
              "max      3.000000    4.000000  "
            ],
            "text/html": [
              "\n",
              "  <div id=\"df-2c644b5b-7b66-4fce-99ba-8d13d8531016\" class=\"colab-df-container\">\n",
              "    <div>\n",
              "<style scoped>\n",
              "    .dataframe tbody tr th:only-of-type {\n",
              "        vertical-align: middle;\n",
              "    }\n",
              "\n",
              "    .dataframe tbody tr th {\n",
              "        vertical-align: top;\n",
              "    }\n",
              "\n",
              "    .dataframe thead th {\n",
              "        text-align: right;\n",
              "    }\n",
              "</style>\n",
              "<table border=\"1\" class=\"dataframe\">\n",
              "  <thead>\n",
              "    <tr style=\"text-align: right;\">\n",
              "      <th></th>\n",
              "      <th>id</th>\n",
              "      <th>age</th>\n",
              "      <th>trestbps</th>\n",
              "      <th>chol</th>\n",
              "      <th>thalch</th>\n",
              "      <th>oldpeak</th>\n",
              "      <th>ca</th>\n",
              "      <th>num</th>\n",
              "    </tr>\n",
              "  </thead>\n",
              "  <tbody>\n",
              "    <tr>\n",
              "      <th>count</th>\n",
              "      <td>920.000000</td>\n",
              "      <td>920.000000</td>\n",
              "      <td>861.000000</td>\n",
              "      <td>890.000000</td>\n",
              "      <td>865.000000</td>\n",
              "      <td>858.000000</td>\n",
              "      <td>309.000000</td>\n",
              "      <td>920.000000</td>\n",
              "    </tr>\n",
              "    <tr>\n",
              "      <th>mean</th>\n",
              "      <td>460.500000</td>\n",
              "      <td>53.510870</td>\n",
              "      <td>132.132404</td>\n",
              "      <td>199.130337</td>\n",
              "      <td>137.545665</td>\n",
              "      <td>0.878788</td>\n",
              "      <td>0.676375</td>\n",
              "      <td>0.995652</td>\n",
              "    </tr>\n",
              "    <tr>\n",
              "      <th>std</th>\n",
              "      <td>265.725422</td>\n",
              "      <td>9.424685</td>\n",
              "      <td>19.066070</td>\n",
              "      <td>110.780810</td>\n",
              "      <td>25.926276</td>\n",
              "      <td>1.091226</td>\n",
              "      <td>0.935653</td>\n",
              "      <td>1.142693</td>\n",
              "    </tr>\n",
              "    <tr>\n",
              "      <th>min</th>\n",
              "      <td>1.000000</td>\n",
              "      <td>28.000000</td>\n",
              "      <td>0.000000</td>\n",
              "      <td>0.000000</td>\n",
              "      <td>60.000000</td>\n",
              "      <td>-2.600000</td>\n",
              "      <td>0.000000</td>\n",
              "      <td>0.000000</td>\n",
              "    </tr>\n",
              "    <tr>\n",
              "      <th>25%</th>\n",
              "      <td>230.750000</td>\n",
              "      <td>47.000000</td>\n",
              "      <td>120.000000</td>\n",
              "      <td>175.000000</td>\n",
              "      <td>120.000000</td>\n",
              "      <td>0.000000</td>\n",
              "      <td>0.000000</td>\n",
              "      <td>0.000000</td>\n",
              "    </tr>\n",
              "    <tr>\n",
              "      <th>50%</th>\n",
              "      <td>460.500000</td>\n",
              "      <td>54.000000</td>\n",
              "      <td>130.000000</td>\n",
              "      <td>223.000000</td>\n",
              "      <td>140.000000</td>\n",
              "      <td>0.500000</td>\n",
              "      <td>0.000000</td>\n",
              "      <td>1.000000</td>\n",
              "    </tr>\n",
              "    <tr>\n",
              "      <th>75%</th>\n",
              "      <td>690.250000</td>\n",
              "      <td>60.000000</td>\n",
              "      <td>140.000000</td>\n",
              "      <td>268.000000</td>\n",
              "      <td>157.000000</td>\n",
              "      <td>1.500000</td>\n",
              "      <td>1.000000</td>\n",
              "      <td>2.000000</td>\n",
              "    </tr>\n",
              "    <tr>\n",
              "      <th>max</th>\n",
              "      <td>920.000000</td>\n",
              "      <td>77.000000</td>\n",
              "      <td>200.000000</td>\n",
              "      <td>603.000000</td>\n",
              "      <td>202.000000</td>\n",
              "      <td>6.200000</td>\n",
              "      <td>3.000000</td>\n",
              "      <td>4.000000</td>\n",
              "    </tr>\n",
              "  </tbody>\n",
              "</table>\n",
              "</div>\n",
              "    <div class=\"colab-df-buttons\">\n",
              "\n",
              "  <div class=\"colab-df-container\">\n",
              "    <button class=\"colab-df-convert\" onclick=\"convertToInteractive('df-2c644b5b-7b66-4fce-99ba-8d13d8531016')\"\n",
              "            title=\"Convert this dataframe to an interactive table.\"\n",
              "            style=\"display:none;\">\n",
              "\n",
              "  <svg xmlns=\"http://www.w3.org/2000/svg\" height=\"24px\" viewBox=\"0 -960 960 960\">\n",
              "    <path d=\"M120-120v-720h720v720H120Zm60-500h600v-160H180v160Zm220 220h160v-160H400v160Zm0 220h160v-160H400v160ZM180-400h160v-160H180v160Zm440 0h160v-160H620v160ZM180-180h160v-160H180v160Zm440 0h160v-160H620v160Z\"/>\n",
              "  </svg>\n",
              "    </button>\n",
              "\n",
              "  <style>\n",
              "    .colab-df-container {\n",
              "      display:flex;\n",
              "      gap: 12px;\n",
              "    }\n",
              "\n",
              "    .colab-df-convert {\n",
              "      background-color: #E8F0FE;\n",
              "      border: none;\n",
              "      border-radius: 50%;\n",
              "      cursor: pointer;\n",
              "      display: none;\n",
              "      fill: #1967D2;\n",
              "      height: 32px;\n",
              "      padding: 0 0 0 0;\n",
              "      width: 32px;\n",
              "    }\n",
              "\n",
              "    .colab-df-convert:hover {\n",
              "      background-color: #E2EBFA;\n",
              "      box-shadow: 0px 1px 2px rgba(60, 64, 67, 0.3), 0px 1px 3px 1px rgba(60, 64, 67, 0.15);\n",
              "      fill: #174EA6;\n",
              "    }\n",
              "\n",
              "    .colab-df-buttons div {\n",
              "      margin-bottom: 4px;\n",
              "    }\n",
              "\n",
              "    [theme=dark] .colab-df-convert {\n",
              "      background-color: #3B4455;\n",
              "      fill: #D2E3FC;\n",
              "    }\n",
              "\n",
              "    [theme=dark] .colab-df-convert:hover {\n",
              "      background-color: #434B5C;\n",
              "      box-shadow: 0px 1px 3px 1px rgba(0, 0, 0, 0.15);\n",
              "      filter: drop-shadow(0px 1px 2px rgba(0, 0, 0, 0.3));\n",
              "      fill: #FFFFFF;\n",
              "    }\n",
              "  </style>\n",
              "\n",
              "    <script>\n",
              "      const buttonEl =\n",
              "        document.querySelector('#df-2c644b5b-7b66-4fce-99ba-8d13d8531016 button.colab-df-convert');\n",
              "      buttonEl.style.display =\n",
              "        google.colab.kernel.accessAllowed ? 'block' : 'none';\n",
              "\n",
              "      async function convertToInteractive(key) {\n",
              "        const element = document.querySelector('#df-2c644b5b-7b66-4fce-99ba-8d13d8531016');\n",
              "        const dataTable =\n",
              "          await google.colab.kernel.invokeFunction('convertToInteractive',\n",
              "                                                    [key], {});\n",
              "        if (!dataTable) return;\n",
              "\n",
              "        const docLinkHtml = 'Like what you see? Visit the ' +\n",
              "          '<a target=\"_blank\" href=https://colab.research.google.com/notebooks/data_table.ipynb>data table notebook</a>'\n",
              "          + ' to learn more about interactive tables.';\n",
              "        element.innerHTML = '';\n",
              "        dataTable['output_type'] = 'display_data';\n",
              "        await google.colab.output.renderOutput(dataTable, element);\n",
              "        const docLink = document.createElement('div');\n",
              "        docLink.innerHTML = docLinkHtml;\n",
              "        element.appendChild(docLink);\n",
              "      }\n",
              "    </script>\n",
              "  </div>\n",
              "\n",
              "\n",
              "<div id=\"df-8daf273b-90e6-41d4-9abd-c2c764dce9ff\">\n",
              "  <button class=\"colab-df-quickchart\" onclick=\"quickchart('df-8daf273b-90e6-41d4-9abd-c2c764dce9ff')\"\n",
              "            title=\"Suggest charts\"\n",
              "            style=\"display:none;\">\n",
              "\n",
              "<svg xmlns=\"http://www.w3.org/2000/svg\" height=\"24px\"viewBox=\"0 0 24 24\"\n",
              "     width=\"24px\">\n",
              "    <g>\n",
              "        <path d=\"M19 3H5c-1.1 0-2 .9-2 2v14c0 1.1.9 2 2 2h14c1.1 0 2-.9 2-2V5c0-1.1-.9-2-2-2zM9 17H7v-7h2v7zm4 0h-2V7h2v10zm4 0h-2v-4h2v4z\"/>\n",
              "    </g>\n",
              "</svg>\n",
              "  </button>\n",
              "\n",
              "<style>\n",
              "  .colab-df-quickchart {\n",
              "      --bg-color: #E8F0FE;\n",
              "      --fill-color: #1967D2;\n",
              "      --hover-bg-color: #E2EBFA;\n",
              "      --hover-fill-color: #174EA6;\n",
              "      --disabled-fill-color: #AAA;\n",
              "      --disabled-bg-color: #DDD;\n",
              "  }\n",
              "\n",
              "  [theme=dark] .colab-df-quickchart {\n",
              "      --bg-color: #3B4455;\n",
              "      --fill-color: #D2E3FC;\n",
              "      --hover-bg-color: #434B5C;\n",
              "      --hover-fill-color: #FFFFFF;\n",
              "      --disabled-bg-color: #3B4455;\n",
              "      --disabled-fill-color: #666;\n",
              "  }\n",
              "\n",
              "  .colab-df-quickchart {\n",
              "    background-color: var(--bg-color);\n",
              "    border: none;\n",
              "    border-radius: 50%;\n",
              "    cursor: pointer;\n",
              "    display: none;\n",
              "    fill: var(--fill-color);\n",
              "    height: 32px;\n",
              "    padding: 0;\n",
              "    width: 32px;\n",
              "  }\n",
              "\n",
              "  .colab-df-quickchart:hover {\n",
              "    background-color: var(--hover-bg-color);\n",
              "    box-shadow: 0 1px 2px rgba(60, 64, 67, 0.3), 0 1px 3px 1px rgba(60, 64, 67, 0.15);\n",
              "    fill: var(--button-hover-fill-color);\n",
              "  }\n",
              "\n",
              "  .colab-df-quickchart-complete:disabled,\n",
              "  .colab-df-quickchart-complete:disabled:hover {\n",
              "    background-color: var(--disabled-bg-color);\n",
              "    fill: var(--disabled-fill-color);\n",
              "    box-shadow: none;\n",
              "  }\n",
              "\n",
              "  .colab-df-spinner {\n",
              "    border: 2px solid var(--fill-color);\n",
              "    border-color: transparent;\n",
              "    border-bottom-color: var(--fill-color);\n",
              "    animation:\n",
              "      spin 1s steps(1) infinite;\n",
              "  }\n",
              "\n",
              "  @keyframes spin {\n",
              "    0% {\n",
              "      border-color: transparent;\n",
              "      border-bottom-color: var(--fill-color);\n",
              "      border-left-color: var(--fill-color);\n",
              "    }\n",
              "    20% {\n",
              "      border-color: transparent;\n",
              "      border-left-color: var(--fill-color);\n",
              "      border-top-color: var(--fill-color);\n",
              "    }\n",
              "    30% {\n",
              "      border-color: transparent;\n",
              "      border-left-color: var(--fill-color);\n",
              "      border-top-color: var(--fill-color);\n",
              "      border-right-color: var(--fill-color);\n",
              "    }\n",
              "    40% {\n",
              "      border-color: transparent;\n",
              "      border-right-color: var(--fill-color);\n",
              "      border-top-color: var(--fill-color);\n",
              "    }\n",
              "    60% {\n",
              "      border-color: transparent;\n",
              "      border-right-color: var(--fill-color);\n",
              "    }\n",
              "    80% {\n",
              "      border-color: transparent;\n",
              "      border-right-color: var(--fill-color);\n",
              "      border-bottom-color: var(--fill-color);\n",
              "    }\n",
              "    90% {\n",
              "      border-color: transparent;\n",
              "      border-bottom-color: var(--fill-color);\n",
              "    }\n",
              "  }\n",
              "</style>\n",
              "\n",
              "  <script>\n",
              "    async function quickchart(key) {\n",
              "      const quickchartButtonEl =\n",
              "        document.querySelector('#' + key + ' button');\n",
              "      quickchartButtonEl.disabled = true;  // To prevent multiple clicks.\n",
              "      quickchartButtonEl.classList.add('colab-df-spinner');\n",
              "      try {\n",
              "        const charts = await google.colab.kernel.invokeFunction(\n",
              "            'suggestCharts', [key], {});\n",
              "      } catch (error) {\n",
              "        console.error('Error during call to suggestCharts:', error);\n",
              "      }\n",
              "      quickchartButtonEl.classList.remove('colab-df-spinner');\n",
              "      quickchartButtonEl.classList.add('colab-df-quickchart-complete');\n",
              "    }\n",
              "    (() => {\n",
              "      let quickchartButtonEl =\n",
              "        document.querySelector('#df-8daf273b-90e6-41d4-9abd-c2c764dce9ff button');\n",
              "      quickchartButtonEl.style.display =\n",
              "        google.colab.kernel.accessAllowed ? 'block' : 'none';\n",
              "    })();\n",
              "  </script>\n",
              "</div>\n",
              "\n",
              "    </div>\n",
              "  </div>\n"
            ],
            "application/vnd.google.colaboratory.intrinsic+json": {
              "type": "dataframe",
              "summary": "{\n  \"name\": \"df\",\n  \"rows\": 8,\n  \"fields\": [\n    {\n      \"column\": \"id\",\n      \"properties\": {\n        \"dtype\": \"number\",\n        \"std\": 331.2677095029219,\n        \"min\": 1.0,\n        \"max\": 920.0,\n        \"num_unique_values\": 6,\n        \"samples\": [\n          920.0,\n          460.5,\n          690.25\n        ],\n        \"semantic_type\": \"\",\n        \"description\": \"\"\n      }\n    },\n    {\n      \"column\": \"age\",\n      \"properties\": {\n        \"dtype\": \"number\",\n        \"std\": 309.3334389931605,\n        \"min\": 9.424685209576857,\n        \"max\": 920.0,\n        \"num_unique_values\": 8,\n        \"samples\": [\n          53.51086956521739,\n          54.0,\n          920.0\n        ],\n        \"semantic_type\": \"\",\n        \"description\": \"\"\n      }\n    },\n    {\n      \"column\": \"trestbps\",\n      \"properties\": {\n        \"dtype\": \"number\",\n        \"std\": 274.94505778449957,\n        \"min\": 0.0,\n        \"max\": 861.0,\n        \"num_unique_values\": 8,\n        \"samples\": [\n          132.13240418118468,\n          130.0,\n          861.0\n        ],\n        \"semantic_type\": \"\",\n        \"description\": \"\"\n      }\n    },\n    {\n      \"column\": \"chol\",\n      \"properties\": {\n        \"dtype\": \"number\",\n        \"std\": 292.2503812409585,\n        \"min\": 0.0,\n        \"max\": 890.0,\n        \"num_unique_values\": 8,\n        \"samples\": [\n          199.13033707865168,\n          223.0,\n          890.0\n        ],\n        \"semantic_type\": \"\",\n        \"description\": \"\"\n      }\n    },\n    {\n      \"column\": \"thalch\",\n      \"properties\": {\n        \"dtype\": \"number\",\n        \"std\": 268.975948988382,\n        \"min\": 25.926276492797612,\n        \"max\": 865.0,\n        \"num_unique_values\": 8,\n        \"samples\": [\n          137.5456647398844,\n          140.0,\n          865.0\n        ],\n        \"semantic_type\": \"\",\n        \"description\": \"\"\n      }\n    },\n    {\n      \"column\": \"oldpeak\",\n      \"properties\": {\n        \"dtype\": \"number\",\n        \"std\": 302.97624420626846,\n        \"min\": -2.6,\n        \"max\": 858.0,\n        \"num_unique_values\": 8,\n        \"samples\": [\n          0.8787878787878788,\n          0.5,\n          858.0\n        ],\n        \"semantic_type\": \"\",\n        \"description\": \"\"\n      }\n    },\n    {\n      \"column\": \"ca\",\n      \"properties\": {\n        \"dtype\": \"number\",\n        \"std\": 108.96902697369578,\n        \"min\": 0.0,\n        \"max\": 309.0,\n        \"num_unique_values\": 6,\n        \"samples\": [\n          309.0,\n          0.6763754045307443,\n          3.0\n        ],\n        \"semantic_type\": \"\",\n        \"description\": \"\"\n      }\n    },\n    {\n      \"column\": \"num\",\n      \"properties\": {\n        \"dtype\": \"number\",\n        \"std\": 324.8100629420021,\n        \"min\": 0.0,\n        \"max\": 920.0,\n        \"num_unique_values\": 7,\n        \"samples\": [\n          920.0,\n          0.9956521739130435,\n          2.0\n        ],\n        \"semantic_type\": \"\",\n        \"description\": \"\"\n      }\n    }\n  ]\n}"
            }
          },
          "metadata": {},
          "execution_count": 38
        }
      ],
      "source": [
        "df.info()\n",
        "df.describe()"
      ]
    },
    {
      "cell_type": "markdown",
      "metadata": {
        "id": "VNBEHsWe3aer"
      },
      "source": [
        "\n",
        "**ZERO-EFFECT FEATURE DROPPAGE.**"
      ]
    },
    {
      "cell_type": "code",
      "execution_count": null,
      "metadata": {
        "id": "xSQYLo2iZ24A"
      },
      "outputs": [],
      "source": [
        "# Droppage of Zero-effect columns.\n",
        "df_cleaned = df.drop(columns=['id', 'dataset'])"
      ]
    },
    {
      "cell_type": "code",
      "execution_count": null,
      "metadata": {
        "id": "UaJ-ZSl__Opi",
        "colab": {
          "base_uri": "https://localhost:8080/"
        },
        "outputId": "a4b63681-fd0e-4aee-bf68-118752e9e24e"
      },
      "outputs": [
        {
          "output_type": "execute_result",
          "data": {
            "text/plain": [
              "((920, 16), (920, 14))"
            ]
          },
          "metadata": {},
          "execution_count": 40
        }
      ],
      "source": [
        "df.shape, df_cleaned.shape"
      ]
    },
    {
      "cell_type": "code",
      "execution_count": null,
      "metadata": {
        "id": "m5H5OmmgZr8p",
        "colab": {
          "base_uri": "https://localhost:8080/",
          "height": 685
        },
        "outputId": "d2c9e3e0-d1bf-4ccc-d8c4-aec15ab0a538"
      },
      "outputs": [
        {
          "output_type": "stream",
          "name": "stdout",
          "text": [
            "<class 'pandas.core.frame.DataFrame'>\n",
            "RangeIndex: 920 entries, 0 to 919\n",
            "Data columns (total 14 columns):\n",
            " #   Column    Non-Null Count  Dtype  \n",
            "---  ------    --------------  -----  \n",
            " 0   age       920 non-null    int64  \n",
            " 1   sex       920 non-null    object \n",
            " 2   cp        920 non-null    object \n",
            " 3   trestbps  861 non-null    float64\n",
            " 4   chol      890 non-null    float64\n",
            " 5   fbs       830 non-null    object \n",
            " 6   restecg   918 non-null    object \n",
            " 7   thalch    865 non-null    float64\n",
            " 8   exang     865 non-null    object \n",
            " 9   oldpeak   858 non-null    float64\n",
            " 10  slope     611 non-null    object \n",
            " 11  ca        309 non-null    float64\n",
            " 12  thal      434 non-null    object \n",
            " 13  num       920 non-null    int64  \n",
            "dtypes: float64(5), int64(2), object(7)\n",
            "memory usage: 100.8+ KB\n"
          ]
        },
        {
          "output_type": "execute_result",
          "data": {
            "text/plain": [
              "              age    trestbps        chol      thalch     oldpeak          ca  \\\n",
              "count  920.000000  861.000000  890.000000  865.000000  858.000000  309.000000   \n",
              "mean    53.510870  132.132404  199.130337  137.545665    0.878788    0.676375   \n",
              "std      9.424685   19.066070  110.780810   25.926276    1.091226    0.935653   \n",
              "min     28.000000    0.000000    0.000000   60.000000   -2.600000    0.000000   \n",
              "25%     47.000000  120.000000  175.000000  120.000000    0.000000    0.000000   \n",
              "50%     54.000000  130.000000  223.000000  140.000000    0.500000    0.000000   \n",
              "75%     60.000000  140.000000  268.000000  157.000000    1.500000    1.000000   \n",
              "max     77.000000  200.000000  603.000000  202.000000    6.200000    3.000000   \n",
              "\n",
              "              num  \n",
              "count  920.000000  \n",
              "mean     0.995652  \n",
              "std      1.142693  \n",
              "min      0.000000  \n",
              "25%      0.000000  \n",
              "50%      1.000000  \n",
              "75%      2.000000  \n",
              "max      4.000000  "
            ],
            "text/html": [
              "\n",
              "  <div id=\"df-2d365419-2c34-4b3d-a444-3b472f6e4de0\" class=\"colab-df-container\">\n",
              "    <div>\n",
              "<style scoped>\n",
              "    .dataframe tbody tr th:only-of-type {\n",
              "        vertical-align: middle;\n",
              "    }\n",
              "\n",
              "    .dataframe tbody tr th {\n",
              "        vertical-align: top;\n",
              "    }\n",
              "\n",
              "    .dataframe thead th {\n",
              "        text-align: right;\n",
              "    }\n",
              "</style>\n",
              "<table border=\"1\" class=\"dataframe\">\n",
              "  <thead>\n",
              "    <tr style=\"text-align: right;\">\n",
              "      <th></th>\n",
              "      <th>age</th>\n",
              "      <th>trestbps</th>\n",
              "      <th>chol</th>\n",
              "      <th>thalch</th>\n",
              "      <th>oldpeak</th>\n",
              "      <th>ca</th>\n",
              "      <th>num</th>\n",
              "    </tr>\n",
              "  </thead>\n",
              "  <tbody>\n",
              "    <tr>\n",
              "      <th>count</th>\n",
              "      <td>920.000000</td>\n",
              "      <td>861.000000</td>\n",
              "      <td>890.000000</td>\n",
              "      <td>865.000000</td>\n",
              "      <td>858.000000</td>\n",
              "      <td>309.000000</td>\n",
              "      <td>920.000000</td>\n",
              "    </tr>\n",
              "    <tr>\n",
              "      <th>mean</th>\n",
              "      <td>53.510870</td>\n",
              "      <td>132.132404</td>\n",
              "      <td>199.130337</td>\n",
              "      <td>137.545665</td>\n",
              "      <td>0.878788</td>\n",
              "      <td>0.676375</td>\n",
              "      <td>0.995652</td>\n",
              "    </tr>\n",
              "    <tr>\n",
              "      <th>std</th>\n",
              "      <td>9.424685</td>\n",
              "      <td>19.066070</td>\n",
              "      <td>110.780810</td>\n",
              "      <td>25.926276</td>\n",
              "      <td>1.091226</td>\n",
              "      <td>0.935653</td>\n",
              "      <td>1.142693</td>\n",
              "    </tr>\n",
              "    <tr>\n",
              "      <th>min</th>\n",
              "      <td>28.000000</td>\n",
              "      <td>0.000000</td>\n",
              "      <td>0.000000</td>\n",
              "      <td>60.000000</td>\n",
              "      <td>-2.600000</td>\n",
              "      <td>0.000000</td>\n",
              "      <td>0.000000</td>\n",
              "    </tr>\n",
              "    <tr>\n",
              "      <th>25%</th>\n",
              "      <td>47.000000</td>\n",
              "      <td>120.000000</td>\n",
              "      <td>175.000000</td>\n",
              "      <td>120.000000</td>\n",
              "      <td>0.000000</td>\n",
              "      <td>0.000000</td>\n",
              "      <td>0.000000</td>\n",
              "    </tr>\n",
              "    <tr>\n",
              "      <th>50%</th>\n",
              "      <td>54.000000</td>\n",
              "      <td>130.000000</td>\n",
              "      <td>223.000000</td>\n",
              "      <td>140.000000</td>\n",
              "      <td>0.500000</td>\n",
              "      <td>0.000000</td>\n",
              "      <td>1.000000</td>\n",
              "    </tr>\n",
              "    <tr>\n",
              "      <th>75%</th>\n",
              "      <td>60.000000</td>\n",
              "      <td>140.000000</td>\n",
              "      <td>268.000000</td>\n",
              "      <td>157.000000</td>\n",
              "      <td>1.500000</td>\n",
              "      <td>1.000000</td>\n",
              "      <td>2.000000</td>\n",
              "    </tr>\n",
              "    <tr>\n",
              "      <th>max</th>\n",
              "      <td>77.000000</td>\n",
              "      <td>200.000000</td>\n",
              "      <td>603.000000</td>\n",
              "      <td>202.000000</td>\n",
              "      <td>6.200000</td>\n",
              "      <td>3.000000</td>\n",
              "      <td>4.000000</td>\n",
              "    </tr>\n",
              "  </tbody>\n",
              "</table>\n",
              "</div>\n",
              "    <div class=\"colab-df-buttons\">\n",
              "\n",
              "  <div class=\"colab-df-container\">\n",
              "    <button class=\"colab-df-convert\" onclick=\"convertToInteractive('df-2d365419-2c34-4b3d-a444-3b472f6e4de0')\"\n",
              "            title=\"Convert this dataframe to an interactive table.\"\n",
              "            style=\"display:none;\">\n",
              "\n",
              "  <svg xmlns=\"http://www.w3.org/2000/svg\" height=\"24px\" viewBox=\"0 -960 960 960\">\n",
              "    <path d=\"M120-120v-720h720v720H120Zm60-500h600v-160H180v160Zm220 220h160v-160H400v160Zm0 220h160v-160H400v160ZM180-400h160v-160H180v160Zm440 0h160v-160H620v160ZM180-180h160v-160H180v160Zm440 0h160v-160H620v160Z\"/>\n",
              "  </svg>\n",
              "    </button>\n",
              "\n",
              "  <style>\n",
              "    .colab-df-container {\n",
              "      display:flex;\n",
              "      gap: 12px;\n",
              "    }\n",
              "\n",
              "    .colab-df-convert {\n",
              "      background-color: #E8F0FE;\n",
              "      border: none;\n",
              "      border-radius: 50%;\n",
              "      cursor: pointer;\n",
              "      display: none;\n",
              "      fill: #1967D2;\n",
              "      height: 32px;\n",
              "      padding: 0 0 0 0;\n",
              "      width: 32px;\n",
              "    }\n",
              "\n",
              "    .colab-df-convert:hover {\n",
              "      background-color: #E2EBFA;\n",
              "      box-shadow: 0px 1px 2px rgba(60, 64, 67, 0.3), 0px 1px 3px 1px rgba(60, 64, 67, 0.15);\n",
              "      fill: #174EA6;\n",
              "    }\n",
              "\n",
              "    .colab-df-buttons div {\n",
              "      margin-bottom: 4px;\n",
              "    }\n",
              "\n",
              "    [theme=dark] .colab-df-convert {\n",
              "      background-color: #3B4455;\n",
              "      fill: #D2E3FC;\n",
              "    }\n",
              "\n",
              "    [theme=dark] .colab-df-convert:hover {\n",
              "      background-color: #434B5C;\n",
              "      box-shadow: 0px 1px 3px 1px rgba(0, 0, 0, 0.15);\n",
              "      filter: drop-shadow(0px 1px 2px rgba(0, 0, 0, 0.3));\n",
              "      fill: #FFFFFF;\n",
              "    }\n",
              "  </style>\n",
              "\n",
              "    <script>\n",
              "      const buttonEl =\n",
              "        document.querySelector('#df-2d365419-2c34-4b3d-a444-3b472f6e4de0 button.colab-df-convert');\n",
              "      buttonEl.style.display =\n",
              "        google.colab.kernel.accessAllowed ? 'block' : 'none';\n",
              "\n",
              "      async function convertToInteractive(key) {\n",
              "        const element = document.querySelector('#df-2d365419-2c34-4b3d-a444-3b472f6e4de0');\n",
              "        const dataTable =\n",
              "          await google.colab.kernel.invokeFunction('convertToInteractive',\n",
              "                                                    [key], {});\n",
              "        if (!dataTable) return;\n",
              "\n",
              "        const docLinkHtml = 'Like what you see? Visit the ' +\n",
              "          '<a target=\"_blank\" href=https://colab.research.google.com/notebooks/data_table.ipynb>data table notebook</a>'\n",
              "          + ' to learn more about interactive tables.';\n",
              "        element.innerHTML = '';\n",
              "        dataTable['output_type'] = 'display_data';\n",
              "        await google.colab.output.renderOutput(dataTable, element);\n",
              "        const docLink = document.createElement('div');\n",
              "        docLink.innerHTML = docLinkHtml;\n",
              "        element.appendChild(docLink);\n",
              "      }\n",
              "    </script>\n",
              "  </div>\n",
              "\n",
              "\n",
              "<div id=\"df-cba8a84e-9a2e-496f-9285-5acb413fecff\">\n",
              "  <button class=\"colab-df-quickchart\" onclick=\"quickchart('df-cba8a84e-9a2e-496f-9285-5acb413fecff')\"\n",
              "            title=\"Suggest charts\"\n",
              "            style=\"display:none;\">\n",
              "\n",
              "<svg xmlns=\"http://www.w3.org/2000/svg\" height=\"24px\"viewBox=\"0 0 24 24\"\n",
              "     width=\"24px\">\n",
              "    <g>\n",
              "        <path d=\"M19 3H5c-1.1 0-2 .9-2 2v14c0 1.1.9 2 2 2h14c1.1 0 2-.9 2-2V5c0-1.1-.9-2-2-2zM9 17H7v-7h2v7zm4 0h-2V7h2v10zm4 0h-2v-4h2v4z\"/>\n",
              "    </g>\n",
              "</svg>\n",
              "  </button>\n",
              "\n",
              "<style>\n",
              "  .colab-df-quickchart {\n",
              "      --bg-color: #E8F0FE;\n",
              "      --fill-color: #1967D2;\n",
              "      --hover-bg-color: #E2EBFA;\n",
              "      --hover-fill-color: #174EA6;\n",
              "      --disabled-fill-color: #AAA;\n",
              "      --disabled-bg-color: #DDD;\n",
              "  }\n",
              "\n",
              "  [theme=dark] .colab-df-quickchart {\n",
              "      --bg-color: #3B4455;\n",
              "      --fill-color: #D2E3FC;\n",
              "      --hover-bg-color: #434B5C;\n",
              "      --hover-fill-color: #FFFFFF;\n",
              "      --disabled-bg-color: #3B4455;\n",
              "      --disabled-fill-color: #666;\n",
              "  }\n",
              "\n",
              "  .colab-df-quickchart {\n",
              "    background-color: var(--bg-color);\n",
              "    border: none;\n",
              "    border-radius: 50%;\n",
              "    cursor: pointer;\n",
              "    display: none;\n",
              "    fill: var(--fill-color);\n",
              "    height: 32px;\n",
              "    padding: 0;\n",
              "    width: 32px;\n",
              "  }\n",
              "\n",
              "  .colab-df-quickchart:hover {\n",
              "    background-color: var(--hover-bg-color);\n",
              "    box-shadow: 0 1px 2px rgba(60, 64, 67, 0.3), 0 1px 3px 1px rgba(60, 64, 67, 0.15);\n",
              "    fill: var(--button-hover-fill-color);\n",
              "  }\n",
              "\n",
              "  .colab-df-quickchart-complete:disabled,\n",
              "  .colab-df-quickchart-complete:disabled:hover {\n",
              "    background-color: var(--disabled-bg-color);\n",
              "    fill: var(--disabled-fill-color);\n",
              "    box-shadow: none;\n",
              "  }\n",
              "\n",
              "  .colab-df-spinner {\n",
              "    border: 2px solid var(--fill-color);\n",
              "    border-color: transparent;\n",
              "    border-bottom-color: var(--fill-color);\n",
              "    animation:\n",
              "      spin 1s steps(1) infinite;\n",
              "  }\n",
              "\n",
              "  @keyframes spin {\n",
              "    0% {\n",
              "      border-color: transparent;\n",
              "      border-bottom-color: var(--fill-color);\n",
              "      border-left-color: var(--fill-color);\n",
              "    }\n",
              "    20% {\n",
              "      border-color: transparent;\n",
              "      border-left-color: var(--fill-color);\n",
              "      border-top-color: var(--fill-color);\n",
              "    }\n",
              "    30% {\n",
              "      border-color: transparent;\n",
              "      border-left-color: var(--fill-color);\n",
              "      border-top-color: var(--fill-color);\n",
              "      border-right-color: var(--fill-color);\n",
              "    }\n",
              "    40% {\n",
              "      border-color: transparent;\n",
              "      border-right-color: var(--fill-color);\n",
              "      border-top-color: var(--fill-color);\n",
              "    }\n",
              "    60% {\n",
              "      border-color: transparent;\n",
              "      border-right-color: var(--fill-color);\n",
              "    }\n",
              "    80% {\n",
              "      border-color: transparent;\n",
              "      border-right-color: var(--fill-color);\n",
              "      border-bottom-color: var(--fill-color);\n",
              "    }\n",
              "    90% {\n",
              "      border-color: transparent;\n",
              "      border-bottom-color: var(--fill-color);\n",
              "    }\n",
              "  }\n",
              "</style>\n",
              "\n",
              "  <script>\n",
              "    async function quickchart(key) {\n",
              "      const quickchartButtonEl =\n",
              "        document.querySelector('#' + key + ' button');\n",
              "      quickchartButtonEl.disabled = true;  // To prevent multiple clicks.\n",
              "      quickchartButtonEl.classList.add('colab-df-spinner');\n",
              "      try {\n",
              "        const charts = await google.colab.kernel.invokeFunction(\n",
              "            'suggestCharts', [key], {});\n",
              "      } catch (error) {\n",
              "        console.error('Error during call to suggestCharts:', error);\n",
              "      }\n",
              "      quickchartButtonEl.classList.remove('colab-df-spinner');\n",
              "      quickchartButtonEl.classList.add('colab-df-quickchart-complete');\n",
              "    }\n",
              "    (() => {\n",
              "      let quickchartButtonEl =\n",
              "        document.querySelector('#df-cba8a84e-9a2e-496f-9285-5acb413fecff button');\n",
              "      quickchartButtonEl.style.display =\n",
              "        google.colab.kernel.accessAllowed ? 'block' : 'none';\n",
              "    })();\n",
              "  </script>\n",
              "</div>\n",
              "\n",
              "    </div>\n",
              "  </div>\n"
            ],
            "application/vnd.google.colaboratory.intrinsic+json": {
              "type": "dataframe",
              "summary": "{\n  \"name\": \"df_cleaned\",\n  \"rows\": 8,\n  \"fields\": [\n    {\n      \"column\": \"age\",\n      \"properties\": {\n        \"dtype\": \"number\",\n        \"std\": 309.3334389931605,\n        \"min\": 9.424685209576857,\n        \"max\": 920.0,\n        \"num_unique_values\": 8,\n        \"samples\": [\n          53.51086956521739,\n          54.0,\n          920.0\n        ],\n        \"semantic_type\": \"\",\n        \"description\": \"\"\n      }\n    },\n    {\n      \"column\": \"trestbps\",\n      \"properties\": {\n        \"dtype\": \"number\",\n        \"std\": 274.94505778449957,\n        \"min\": 0.0,\n        \"max\": 861.0,\n        \"num_unique_values\": 8,\n        \"samples\": [\n          132.13240418118468,\n          130.0,\n          861.0\n        ],\n        \"semantic_type\": \"\",\n        \"description\": \"\"\n      }\n    },\n    {\n      \"column\": \"chol\",\n      \"properties\": {\n        \"dtype\": \"number\",\n        \"std\": 292.2503812409585,\n        \"min\": 0.0,\n        \"max\": 890.0,\n        \"num_unique_values\": 8,\n        \"samples\": [\n          199.13033707865168,\n          223.0,\n          890.0\n        ],\n        \"semantic_type\": \"\",\n        \"description\": \"\"\n      }\n    },\n    {\n      \"column\": \"thalch\",\n      \"properties\": {\n        \"dtype\": \"number\",\n        \"std\": 268.975948988382,\n        \"min\": 25.926276492797612,\n        \"max\": 865.0,\n        \"num_unique_values\": 8,\n        \"samples\": [\n          137.5456647398844,\n          140.0,\n          865.0\n        ],\n        \"semantic_type\": \"\",\n        \"description\": \"\"\n      }\n    },\n    {\n      \"column\": \"oldpeak\",\n      \"properties\": {\n        \"dtype\": \"number\",\n        \"std\": 302.97624420626846,\n        \"min\": -2.6,\n        \"max\": 858.0,\n        \"num_unique_values\": 8,\n        \"samples\": [\n          0.8787878787878788,\n          0.5,\n          858.0\n        ],\n        \"semantic_type\": \"\",\n        \"description\": \"\"\n      }\n    },\n    {\n      \"column\": \"ca\",\n      \"properties\": {\n        \"dtype\": \"number\",\n        \"std\": 108.96902697369578,\n        \"min\": 0.0,\n        \"max\": 309.0,\n        \"num_unique_values\": 6,\n        \"samples\": [\n          309.0,\n          0.6763754045307443,\n          3.0\n        ],\n        \"semantic_type\": \"\",\n        \"description\": \"\"\n      }\n    },\n    {\n      \"column\": \"num\",\n      \"properties\": {\n        \"dtype\": \"number\",\n        \"std\": 324.8100629420021,\n        \"min\": 0.0,\n        \"max\": 920.0,\n        \"num_unique_values\": 7,\n        \"samples\": [\n          920.0,\n          0.9956521739130435,\n          2.0\n        ],\n        \"semantic_type\": \"\",\n        \"description\": \"\"\n      }\n    }\n  ]\n}"
            }
          },
          "metadata": {},
          "execution_count": 41
        }
      ],
      "source": [
        "# Display the first few rows and basic info of the dataset\n",
        "\n",
        "df_cleaned.info()\n",
        "df_cleaned.describe()"
      ]
    },
    {
      "cell_type": "markdown",
      "metadata": {
        "id": "knLoGnIp5EVR"
      },
      "source": [
        "**HANDLE NAN.**"
      ]
    },
    {
      "cell_type": "code",
      "execution_count": null,
      "metadata": {
        "id": "H32ncSiLCq_O",
        "colab": {
          "base_uri": "https://localhost:8080/",
          "height": 586
        },
        "outputId": "13a4c837-6331-412c-ddda-b270d69875fb"
      },
      "outputs": [
        {
          "output_type": "execute_result",
          "data": {
            "text/plain": [
              "id            0\n",
              "age           0\n",
              "sex           0\n",
              "dataset       0\n",
              "cp            0\n",
              "trestbps     59\n",
              "chol         30\n",
              "fbs          90\n",
              "restecg       2\n",
              "thalch       55\n",
              "exang        55\n",
              "oldpeak      62\n",
              "slope       309\n",
              "ca          611\n",
              "thal        486\n",
              "num           0\n",
              "dtype: int64"
            ],
            "text/html": [
              "<div>\n",
              "<style scoped>\n",
              "    .dataframe tbody tr th:only-of-type {\n",
              "        vertical-align: middle;\n",
              "    }\n",
              "\n",
              "    .dataframe tbody tr th {\n",
              "        vertical-align: top;\n",
              "    }\n",
              "\n",
              "    .dataframe thead th {\n",
              "        text-align: right;\n",
              "    }\n",
              "</style>\n",
              "<table border=\"1\" class=\"dataframe\">\n",
              "  <thead>\n",
              "    <tr style=\"text-align: right;\">\n",
              "      <th></th>\n",
              "      <th>0</th>\n",
              "    </tr>\n",
              "  </thead>\n",
              "  <tbody>\n",
              "    <tr>\n",
              "      <th>id</th>\n",
              "      <td>0</td>\n",
              "    </tr>\n",
              "    <tr>\n",
              "      <th>age</th>\n",
              "      <td>0</td>\n",
              "    </tr>\n",
              "    <tr>\n",
              "      <th>sex</th>\n",
              "      <td>0</td>\n",
              "    </tr>\n",
              "    <tr>\n",
              "      <th>dataset</th>\n",
              "      <td>0</td>\n",
              "    </tr>\n",
              "    <tr>\n",
              "      <th>cp</th>\n",
              "      <td>0</td>\n",
              "    </tr>\n",
              "    <tr>\n",
              "      <th>trestbps</th>\n",
              "      <td>59</td>\n",
              "    </tr>\n",
              "    <tr>\n",
              "      <th>chol</th>\n",
              "      <td>30</td>\n",
              "    </tr>\n",
              "    <tr>\n",
              "      <th>fbs</th>\n",
              "      <td>90</td>\n",
              "    </tr>\n",
              "    <tr>\n",
              "      <th>restecg</th>\n",
              "      <td>2</td>\n",
              "    </tr>\n",
              "    <tr>\n",
              "      <th>thalch</th>\n",
              "      <td>55</td>\n",
              "    </tr>\n",
              "    <tr>\n",
              "      <th>exang</th>\n",
              "      <td>55</td>\n",
              "    </tr>\n",
              "    <tr>\n",
              "      <th>oldpeak</th>\n",
              "      <td>62</td>\n",
              "    </tr>\n",
              "    <tr>\n",
              "      <th>slope</th>\n",
              "      <td>309</td>\n",
              "    </tr>\n",
              "    <tr>\n",
              "      <th>ca</th>\n",
              "      <td>611</td>\n",
              "    </tr>\n",
              "    <tr>\n",
              "      <th>thal</th>\n",
              "      <td>486</td>\n",
              "    </tr>\n",
              "    <tr>\n",
              "      <th>num</th>\n",
              "      <td>0</td>\n",
              "    </tr>\n",
              "  </tbody>\n",
              "</table>\n",
              "</div><br><label><b>dtype:</b> int64</label>"
            ]
          },
          "metadata": {},
          "execution_count": 42
        }
      ],
      "source": [
        "df.isnull().sum()"
      ]
    },
    {
      "cell_type": "code",
      "execution_count": null,
      "metadata": {
        "id": "U-MnsXZO2fR3"
      },
      "outputs": [],
      "source": [
        "\n",
        "\n",
        "df.replace('?', np.nan, inplace=True)\n",
        "#df.dropna(inplace=True)\n",
        "#df = df.apply(pd.to_numeric, errors='ignore')\n",
        "#df['sex'] = df['sex'].map({1: 'Male', 0: 'Female'})"
      ]
    },
    {
      "cell_type": "code",
      "execution_count": null,
      "metadata": {
        "id": "QOFD0jk1dUNo",
        "colab": {
          "base_uri": "https://localhost:8080/"
        },
        "outputId": "52aec1f3-ba40-4a6c-c6c4-282f4b39309a"
      },
      "outputs": [
        {
          "output_type": "execute_result",
          "data": {
            "text/plain": [
              "(920, 16)"
            ]
          },
          "metadata": {},
          "execution_count": 44
        }
      ],
      "source": [
        "df.shape"
      ]
    },
    {
      "cell_type": "markdown",
      "metadata": {
        "id": "QHKUuj6lB7mQ"
      },
      "source": [
        "**REMOVAL OF NULL VALUES**"
      ]
    },
    {
      "cell_type": "code",
      "execution_count": null,
      "metadata": {
        "id": "uEyS6MMSB5sQ"
      },
      "outputs": [],
      "source": [
        "# Handle missing values\n",
        "numerical_cols = ['trestbps', 'chol', 'thalch', 'oldpeak', 'ca']\n",
        "df_cleaned[numerical_cols] = df_cleaned[numerical_cols].fillna(df_cleaned[numerical_cols].median())"
      ]
    },
    {
      "cell_type": "code",
      "execution_count": null,
      "metadata": {
        "id": "wtJgvUYqCDEK",
        "colab": {
          "base_uri": "https://localhost:8080/"
        },
        "outputId": "d393f692-6697-40e3-9e6c-e050d2bcf354"
      },
      "outputs": [
        {
          "output_type": "stream",
          "name": "stderr",
          "text": [
            "<ipython-input-46-427942c0e955>:3: FutureWarning: Downcasting object dtype arrays on .fillna, .ffill, .bfill is deprecated and will change in a future version. Call result.infer_objects(copy=False) instead. To opt-in to the future behavior, set `pd.set_option('future.no_silent_downcasting', True)`\n",
            "  df_cleaned[categorical_cols] = df_cleaned[categorical_cols].fillna(df_cleaned[categorical_cols].mode().iloc[0])\n"
          ]
        }
      ],
      "source": [
        "# Keep categorical columns as they are\n",
        "categorical_cols = ['sex', 'cp', 'fbs', 'restecg', 'exang', 'slope', 'thal']\n",
        "df_cleaned[categorical_cols] = df_cleaned[categorical_cols].fillna(df_cleaned[categorical_cols].mode().iloc[0])"
      ]
    },
    {
      "cell_type": "code",
      "execution_count": null,
      "metadata": {
        "id": "Ff6s8YZlCGXQ",
        "colab": {
          "base_uri": "https://localhost:8080/",
          "height": 660
        },
        "outputId": "1cb295b5-e76c-44f9-ae9b-3ba556713e61"
      },
      "outputs": [
        {
          "output_type": "stream",
          "name": "stdout",
          "text": [
            "<class 'pandas.core.frame.DataFrame'>\n",
            "RangeIndex: 920 entries, 0 to 919\n",
            "Data columns (total 14 columns):\n",
            " #   Column    Non-Null Count  Dtype  \n",
            "---  ------    --------------  -----  \n",
            " 0   age       920 non-null    int64  \n",
            " 1   sex       920 non-null    object \n",
            " 2   cp        920 non-null    object \n",
            " 3   trestbps  920 non-null    float64\n",
            " 4   chol      920 non-null    float64\n",
            " 5   fbs       920 non-null    bool   \n",
            " 6   restecg   920 non-null    object \n",
            " 7   thalch    920 non-null    float64\n",
            " 8   exang     920 non-null    bool   \n",
            " 9   oldpeak   920 non-null    float64\n",
            " 10  slope     920 non-null    object \n",
            " 11  ca        920 non-null    float64\n",
            " 12  thal      920 non-null    object \n",
            " 13  num       920 non-null    int64  \n",
            "dtypes: bool(2), float64(5), int64(2), object(5)\n",
            "memory usage: 88.2+ KB\n"
          ]
        },
        {
          "output_type": "execute_result",
          "data": {
            "text/plain": [
              "   age     sex               cp  trestbps   chol    fbs         restecg  \\\n",
              "0   63    Male   typical angina     145.0  233.0   True  lv hypertrophy   \n",
              "1   67    Male     asymptomatic     160.0  286.0  False  lv hypertrophy   \n",
              "2   67    Male     asymptomatic     120.0  229.0  False  lv hypertrophy   \n",
              "3   37    Male      non-anginal     130.0  250.0  False          normal   \n",
              "4   41  Female  atypical angina     130.0  204.0  False  lv hypertrophy   \n",
              "\n",
              "   thalch  exang  oldpeak        slope   ca               thal  num  \n",
              "0   150.0  False      2.3  downsloping  0.0       fixed defect    0  \n",
              "1   108.0   True      1.5         flat  3.0             normal    2  \n",
              "2   129.0   True      2.6         flat  2.0  reversable defect    1  \n",
              "3   187.0  False      3.5  downsloping  0.0             normal    0  \n",
              "4   172.0  False      1.4    upsloping  0.0             normal    0  "
            ],
            "text/html": [
              "\n",
              "  <div id=\"df-93650bbd-ec7e-4e1b-a606-366d8f2cef3e\" class=\"colab-df-container\">\n",
              "    <div>\n",
              "<style scoped>\n",
              "    .dataframe tbody tr th:only-of-type {\n",
              "        vertical-align: middle;\n",
              "    }\n",
              "\n",
              "    .dataframe tbody tr th {\n",
              "        vertical-align: top;\n",
              "    }\n",
              "\n",
              "    .dataframe thead th {\n",
              "        text-align: right;\n",
              "    }\n",
              "</style>\n",
              "<table border=\"1\" class=\"dataframe\">\n",
              "  <thead>\n",
              "    <tr style=\"text-align: right;\">\n",
              "      <th></th>\n",
              "      <th>age</th>\n",
              "      <th>sex</th>\n",
              "      <th>cp</th>\n",
              "      <th>trestbps</th>\n",
              "      <th>chol</th>\n",
              "      <th>fbs</th>\n",
              "      <th>restecg</th>\n",
              "      <th>thalch</th>\n",
              "      <th>exang</th>\n",
              "      <th>oldpeak</th>\n",
              "      <th>slope</th>\n",
              "      <th>ca</th>\n",
              "      <th>thal</th>\n",
              "      <th>num</th>\n",
              "    </tr>\n",
              "  </thead>\n",
              "  <tbody>\n",
              "    <tr>\n",
              "      <th>0</th>\n",
              "      <td>63</td>\n",
              "      <td>Male</td>\n",
              "      <td>typical angina</td>\n",
              "      <td>145.0</td>\n",
              "      <td>233.0</td>\n",
              "      <td>True</td>\n",
              "      <td>lv hypertrophy</td>\n",
              "      <td>150.0</td>\n",
              "      <td>False</td>\n",
              "      <td>2.3</td>\n",
              "      <td>downsloping</td>\n",
              "      <td>0.0</td>\n",
              "      <td>fixed defect</td>\n",
              "      <td>0</td>\n",
              "    </tr>\n",
              "    <tr>\n",
              "      <th>1</th>\n",
              "      <td>67</td>\n",
              "      <td>Male</td>\n",
              "      <td>asymptomatic</td>\n",
              "      <td>160.0</td>\n",
              "      <td>286.0</td>\n",
              "      <td>False</td>\n",
              "      <td>lv hypertrophy</td>\n",
              "      <td>108.0</td>\n",
              "      <td>True</td>\n",
              "      <td>1.5</td>\n",
              "      <td>flat</td>\n",
              "      <td>3.0</td>\n",
              "      <td>normal</td>\n",
              "      <td>2</td>\n",
              "    </tr>\n",
              "    <tr>\n",
              "      <th>2</th>\n",
              "      <td>67</td>\n",
              "      <td>Male</td>\n",
              "      <td>asymptomatic</td>\n",
              "      <td>120.0</td>\n",
              "      <td>229.0</td>\n",
              "      <td>False</td>\n",
              "      <td>lv hypertrophy</td>\n",
              "      <td>129.0</td>\n",
              "      <td>True</td>\n",
              "      <td>2.6</td>\n",
              "      <td>flat</td>\n",
              "      <td>2.0</td>\n",
              "      <td>reversable defect</td>\n",
              "      <td>1</td>\n",
              "    </tr>\n",
              "    <tr>\n",
              "      <th>3</th>\n",
              "      <td>37</td>\n",
              "      <td>Male</td>\n",
              "      <td>non-anginal</td>\n",
              "      <td>130.0</td>\n",
              "      <td>250.0</td>\n",
              "      <td>False</td>\n",
              "      <td>normal</td>\n",
              "      <td>187.0</td>\n",
              "      <td>False</td>\n",
              "      <td>3.5</td>\n",
              "      <td>downsloping</td>\n",
              "      <td>0.0</td>\n",
              "      <td>normal</td>\n",
              "      <td>0</td>\n",
              "    </tr>\n",
              "    <tr>\n",
              "      <th>4</th>\n",
              "      <td>41</td>\n",
              "      <td>Female</td>\n",
              "      <td>atypical angina</td>\n",
              "      <td>130.0</td>\n",
              "      <td>204.0</td>\n",
              "      <td>False</td>\n",
              "      <td>lv hypertrophy</td>\n",
              "      <td>172.0</td>\n",
              "      <td>False</td>\n",
              "      <td>1.4</td>\n",
              "      <td>upsloping</td>\n",
              "      <td>0.0</td>\n",
              "      <td>normal</td>\n",
              "      <td>0</td>\n",
              "    </tr>\n",
              "  </tbody>\n",
              "</table>\n",
              "</div>\n",
              "    <div class=\"colab-df-buttons\">\n",
              "\n",
              "  <div class=\"colab-df-container\">\n",
              "    <button class=\"colab-df-convert\" onclick=\"convertToInteractive('df-93650bbd-ec7e-4e1b-a606-366d8f2cef3e')\"\n",
              "            title=\"Convert this dataframe to an interactive table.\"\n",
              "            style=\"display:none;\">\n",
              "\n",
              "  <svg xmlns=\"http://www.w3.org/2000/svg\" height=\"24px\" viewBox=\"0 -960 960 960\">\n",
              "    <path d=\"M120-120v-720h720v720H120Zm60-500h600v-160H180v160Zm220 220h160v-160H400v160Zm0 220h160v-160H400v160ZM180-400h160v-160H180v160Zm440 0h160v-160H620v160ZM180-180h160v-160H180v160Zm440 0h160v-160H620v160Z\"/>\n",
              "  </svg>\n",
              "    </button>\n",
              "\n",
              "  <style>\n",
              "    .colab-df-container {\n",
              "      display:flex;\n",
              "      gap: 12px;\n",
              "    }\n",
              "\n",
              "    .colab-df-convert {\n",
              "      background-color: #E8F0FE;\n",
              "      border: none;\n",
              "      border-radius: 50%;\n",
              "      cursor: pointer;\n",
              "      display: none;\n",
              "      fill: #1967D2;\n",
              "      height: 32px;\n",
              "      padding: 0 0 0 0;\n",
              "      width: 32px;\n",
              "    }\n",
              "\n",
              "    .colab-df-convert:hover {\n",
              "      background-color: #E2EBFA;\n",
              "      box-shadow: 0px 1px 2px rgba(60, 64, 67, 0.3), 0px 1px 3px 1px rgba(60, 64, 67, 0.15);\n",
              "      fill: #174EA6;\n",
              "    }\n",
              "\n",
              "    .colab-df-buttons div {\n",
              "      margin-bottom: 4px;\n",
              "    }\n",
              "\n",
              "    [theme=dark] .colab-df-convert {\n",
              "      background-color: #3B4455;\n",
              "      fill: #D2E3FC;\n",
              "    }\n",
              "\n",
              "    [theme=dark] .colab-df-convert:hover {\n",
              "      background-color: #434B5C;\n",
              "      box-shadow: 0px 1px 3px 1px rgba(0, 0, 0, 0.15);\n",
              "      filter: drop-shadow(0px 1px 2px rgba(0, 0, 0, 0.3));\n",
              "      fill: #FFFFFF;\n",
              "    }\n",
              "  </style>\n",
              "\n",
              "    <script>\n",
              "      const buttonEl =\n",
              "        document.querySelector('#df-93650bbd-ec7e-4e1b-a606-366d8f2cef3e button.colab-df-convert');\n",
              "      buttonEl.style.display =\n",
              "        google.colab.kernel.accessAllowed ? 'block' : 'none';\n",
              "\n",
              "      async function convertToInteractive(key) {\n",
              "        const element = document.querySelector('#df-93650bbd-ec7e-4e1b-a606-366d8f2cef3e');\n",
              "        const dataTable =\n",
              "          await google.colab.kernel.invokeFunction('convertToInteractive',\n",
              "                                                    [key], {});\n",
              "        if (!dataTable) return;\n",
              "\n",
              "        const docLinkHtml = 'Like what you see? Visit the ' +\n",
              "          '<a target=\"_blank\" href=https://colab.research.google.com/notebooks/data_table.ipynb>data table notebook</a>'\n",
              "          + ' to learn more about interactive tables.';\n",
              "        element.innerHTML = '';\n",
              "        dataTable['output_type'] = 'display_data';\n",
              "        await google.colab.output.renderOutput(dataTable, element);\n",
              "        const docLink = document.createElement('div');\n",
              "        docLink.innerHTML = docLinkHtml;\n",
              "        element.appendChild(docLink);\n",
              "      }\n",
              "    </script>\n",
              "  </div>\n",
              "\n",
              "\n",
              "<div id=\"df-904129fb-5ba2-4ed5-a7bb-b2939b51dcd2\">\n",
              "  <button class=\"colab-df-quickchart\" onclick=\"quickchart('df-904129fb-5ba2-4ed5-a7bb-b2939b51dcd2')\"\n",
              "            title=\"Suggest charts\"\n",
              "            style=\"display:none;\">\n",
              "\n",
              "<svg xmlns=\"http://www.w3.org/2000/svg\" height=\"24px\"viewBox=\"0 0 24 24\"\n",
              "     width=\"24px\">\n",
              "    <g>\n",
              "        <path d=\"M19 3H5c-1.1 0-2 .9-2 2v14c0 1.1.9 2 2 2h14c1.1 0 2-.9 2-2V5c0-1.1-.9-2-2-2zM9 17H7v-7h2v7zm4 0h-2V7h2v10zm4 0h-2v-4h2v4z\"/>\n",
              "    </g>\n",
              "</svg>\n",
              "  </button>\n",
              "\n",
              "<style>\n",
              "  .colab-df-quickchart {\n",
              "      --bg-color: #E8F0FE;\n",
              "      --fill-color: #1967D2;\n",
              "      --hover-bg-color: #E2EBFA;\n",
              "      --hover-fill-color: #174EA6;\n",
              "      --disabled-fill-color: #AAA;\n",
              "      --disabled-bg-color: #DDD;\n",
              "  }\n",
              "\n",
              "  [theme=dark] .colab-df-quickchart {\n",
              "      --bg-color: #3B4455;\n",
              "      --fill-color: #D2E3FC;\n",
              "      --hover-bg-color: #434B5C;\n",
              "      --hover-fill-color: #FFFFFF;\n",
              "      --disabled-bg-color: #3B4455;\n",
              "      --disabled-fill-color: #666;\n",
              "  }\n",
              "\n",
              "  .colab-df-quickchart {\n",
              "    background-color: var(--bg-color);\n",
              "    border: none;\n",
              "    border-radius: 50%;\n",
              "    cursor: pointer;\n",
              "    display: none;\n",
              "    fill: var(--fill-color);\n",
              "    height: 32px;\n",
              "    padding: 0;\n",
              "    width: 32px;\n",
              "  }\n",
              "\n",
              "  .colab-df-quickchart:hover {\n",
              "    background-color: var(--hover-bg-color);\n",
              "    box-shadow: 0 1px 2px rgba(60, 64, 67, 0.3), 0 1px 3px 1px rgba(60, 64, 67, 0.15);\n",
              "    fill: var(--button-hover-fill-color);\n",
              "  }\n",
              "\n",
              "  .colab-df-quickchart-complete:disabled,\n",
              "  .colab-df-quickchart-complete:disabled:hover {\n",
              "    background-color: var(--disabled-bg-color);\n",
              "    fill: var(--disabled-fill-color);\n",
              "    box-shadow: none;\n",
              "  }\n",
              "\n",
              "  .colab-df-spinner {\n",
              "    border: 2px solid var(--fill-color);\n",
              "    border-color: transparent;\n",
              "    border-bottom-color: var(--fill-color);\n",
              "    animation:\n",
              "      spin 1s steps(1) infinite;\n",
              "  }\n",
              "\n",
              "  @keyframes spin {\n",
              "    0% {\n",
              "      border-color: transparent;\n",
              "      border-bottom-color: var(--fill-color);\n",
              "      border-left-color: var(--fill-color);\n",
              "    }\n",
              "    20% {\n",
              "      border-color: transparent;\n",
              "      border-left-color: var(--fill-color);\n",
              "      border-top-color: var(--fill-color);\n",
              "    }\n",
              "    30% {\n",
              "      border-color: transparent;\n",
              "      border-left-color: var(--fill-color);\n",
              "      border-top-color: var(--fill-color);\n",
              "      border-right-color: var(--fill-color);\n",
              "    }\n",
              "    40% {\n",
              "      border-color: transparent;\n",
              "      border-right-color: var(--fill-color);\n",
              "      border-top-color: var(--fill-color);\n",
              "    }\n",
              "    60% {\n",
              "      border-color: transparent;\n",
              "      border-right-color: var(--fill-color);\n",
              "    }\n",
              "    80% {\n",
              "      border-color: transparent;\n",
              "      border-right-color: var(--fill-color);\n",
              "      border-bottom-color: var(--fill-color);\n",
              "    }\n",
              "    90% {\n",
              "      border-color: transparent;\n",
              "      border-bottom-color: var(--fill-color);\n",
              "    }\n",
              "  }\n",
              "</style>\n",
              "\n",
              "  <script>\n",
              "    async function quickchart(key) {\n",
              "      const quickchartButtonEl =\n",
              "        document.querySelector('#' + key + ' button');\n",
              "      quickchartButtonEl.disabled = true;  // To prevent multiple clicks.\n",
              "      quickchartButtonEl.classList.add('colab-df-spinner');\n",
              "      try {\n",
              "        const charts = await google.colab.kernel.invokeFunction(\n",
              "            'suggestCharts', [key], {});\n",
              "      } catch (error) {\n",
              "        console.error('Error during call to suggestCharts:', error);\n",
              "      }\n",
              "      quickchartButtonEl.classList.remove('colab-df-spinner');\n",
              "      quickchartButtonEl.classList.add('colab-df-quickchart-complete');\n",
              "    }\n",
              "    (() => {\n",
              "      let quickchartButtonEl =\n",
              "        document.querySelector('#df-904129fb-5ba2-4ed5-a7bb-b2939b51dcd2 button');\n",
              "      quickchartButtonEl.style.display =\n",
              "        google.colab.kernel.accessAllowed ? 'block' : 'none';\n",
              "    })();\n",
              "  </script>\n",
              "</div>\n",
              "\n",
              "    </div>\n",
              "  </div>\n"
            ],
            "application/vnd.google.colaboratory.intrinsic+json": {
              "type": "dataframe",
              "variable_name": "df_cleaned",
              "summary": "{\n  \"name\": \"df_cleaned\",\n  \"rows\": 920,\n  \"fields\": [\n    {\n      \"column\": \"age\",\n      \"properties\": {\n        \"dtype\": \"number\",\n        \"std\": 9,\n        \"min\": 28,\n        \"max\": 77,\n        \"num_unique_values\": 50,\n        \"samples\": [\n          64,\n          74,\n          39\n        ],\n        \"semantic_type\": \"\",\n        \"description\": \"\"\n      }\n    },\n    {\n      \"column\": \"sex\",\n      \"properties\": {\n        \"dtype\": \"category\",\n        \"num_unique_values\": 2,\n        \"samples\": [\n          \"Female\",\n          \"Male\"\n        ],\n        \"semantic_type\": \"\",\n        \"description\": \"\"\n      }\n    },\n    {\n      \"column\": \"cp\",\n      \"properties\": {\n        \"dtype\": \"category\",\n        \"num_unique_values\": 4,\n        \"samples\": [\n          \"asymptomatic\",\n          \"atypical angina\"\n        ],\n        \"semantic_type\": \"\",\n        \"description\": \"\"\n      }\n    },\n    {\n      \"column\": \"trestbps\",\n      \"properties\": {\n        \"dtype\": \"number\",\n        \"std\": 18.451299974216376,\n        \"min\": 0.0,\n        \"max\": 200.0,\n        \"num_unique_values\": 61,\n        \"samples\": [\n          145.0,\n          172.0\n        ],\n        \"semantic_type\": \"\",\n        \"description\": \"\"\n      }\n    },\n    {\n      \"column\": \"chol\",\n      \"properties\": {\n        \"dtype\": \"number\",\n        \"std\": 109.04017054571457,\n        \"min\": 0.0,\n        \"max\": 603.0,\n        \"num_unique_values\": 217,\n        \"samples\": [\n          384.0,\n          333.0\n        ],\n        \"semantic_type\": \"\",\n        \"description\": \"\"\n      }\n    },\n    {\n      \"column\": \"fbs\",\n      \"properties\": {\n        \"dtype\": \"boolean\",\n        \"num_unique_values\": 2,\n        \"samples\": [\n          false,\n          true\n        ],\n        \"semantic_type\": \"\",\n        \"description\": \"\"\n      }\n    },\n    {\n      \"column\": \"restecg\",\n      \"properties\": {\n        \"dtype\": \"category\",\n        \"num_unique_values\": 3,\n        \"samples\": [\n          \"lv hypertrophy\",\n          \"normal\"\n        ],\n        \"semantic_type\": \"\",\n        \"description\": \"\"\n      }\n    },\n    {\n      \"column\": \"thalch\",\n      \"properties\": {\n        \"dtype\": \"number\",\n        \"std\": 25.145235299317232,\n        \"min\": 60.0,\n        \"max\": 202.0,\n        \"num_unique_values\": 119,\n        \"samples\": [\n          185.0,\n          134.0\n        ],\n        \"semantic_type\": \"\",\n        \"description\": \"\"\n      }\n    },\n    {\n      \"column\": \"exang\",\n      \"properties\": {\n        \"dtype\": \"boolean\",\n        \"num_unique_values\": 2,\n        \"samples\": [\n          true,\n          false\n        ],\n        \"semantic_type\": \"\",\n        \"description\": \"\"\n      }\n    },\n    {\n      \"column\": \"oldpeak\",\n      \"properties\": {\n        \"dtype\": \"number\",\n        \"std\": 1.0580486984557564,\n        \"min\": -2.6,\n        \"max\": 6.2,\n        \"num_unique_values\": 53,\n        \"samples\": [\n          2.4,\n          -1.1\n        ],\n        \"semantic_type\": \"\",\n        \"description\": \"\"\n      }\n    },\n    {\n      \"column\": \"slope\",\n      \"properties\": {\n        \"dtype\": \"category\",\n        \"num_unique_values\": 3,\n        \"samples\": [\n          \"downsloping\",\n          \"flat\"\n        ],\n        \"semantic_type\": \"\",\n        \"description\": \"\"\n      }\n    },\n    {\n      \"column\": \"ca\",\n      \"properties\": {\n        \"dtype\": \"number\",\n        \"std\": 0.6289364843815157,\n        \"min\": 0.0,\n        \"max\": 3.0,\n        \"num_unique_values\": 4,\n        \"samples\": [\n          3.0,\n          1.0\n        ],\n        \"semantic_type\": \"\",\n        \"description\": \"\"\n      }\n    },\n    {\n      \"column\": \"thal\",\n      \"properties\": {\n        \"dtype\": \"category\",\n        \"num_unique_values\": 3,\n        \"samples\": [\n          \"fixed defect\",\n          \"normal\"\n        ],\n        \"semantic_type\": \"\",\n        \"description\": \"\"\n      }\n    },\n    {\n      \"column\": \"num\",\n      \"properties\": {\n        \"dtype\": \"number\",\n        \"std\": 1,\n        \"min\": 0,\n        \"max\": 4,\n        \"num_unique_values\": 5,\n        \"samples\": [\n          2,\n          4\n        ],\n        \"semantic_type\": \"\",\n        \"description\": \"\"\n      }\n    }\n  ]\n}"
            }
          },
          "metadata": {},
          "execution_count": 47
        }
      ],
      "source": [
        "# Verify the dataset\n",
        "df_cleaned.info()\n",
        "df_cleaned.head()"
      ]
    },
    {
      "cell_type": "code",
      "execution_count": null,
      "metadata": {
        "id": "IoRakujZCJrW",
        "colab": {
          "base_uri": "https://localhost:8080/"
        },
        "outputId": "2380f189-6591-42a4-826a-b3489c1bd6bc"
      },
      "outputs": [
        {
          "output_type": "execute_result",
          "data": {
            "text/plain": [
              "((920, 16), (920, 14))"
            ]
          },
          "metadata": {},
          "execution_count": 48
        }
      ],
      "source": [
        "df.shape, df_cleaned.shape"
      ]
    },
    {
      "cell_type": "code",
      "execution_count": null,
      "metadata": {
        "id": "4ob_eT0eCQyT",
        "colab": {
          "base_uri": "https://localhost:8080/",
          "height": 1000
        },
        "outputId": "50e279f5-8c2c-4581-af78-06ff56a3e32f"
      },
      "outputs": [
        {
          "output_type": "display_data",
          "data": {
            "text/plain": [
              "   age     sex               cp  trestbps   chol    fbs         restecg  \\\n",
              "0   63    Male   typical angina     145.0  233.0   True  lv hypertrophy   \n",
              "1   67    Male     asymptomatic     160.0  286.0  False  lv hypertrophy   \n",
              "2   67    Male     asymptomatic     120.0  229.0  False  lv hypertrophy   \n",
              "3   37    Male      non-anginal     130.0  250.0  False          normal   \n",
              "4   41  Female  atypical angina     130.0  204.0  False  lv hypertrophy   \n",
              "5   56    Male  atypical angina     120.0  236.0  False          normal   \n",
              "6   62  Female     asymptomatic     140.0  268.0  False  lv hypertrophy   \n",
              "7   57  Female     asymptomatic     120.0  354.0  False          normal   \n",
              "8   63    Male     asymptomatic     130.0  254.0  False  lv hypertrophy   \n",
              "9   53    Male     asymptomatic     140.0  203.0   True  lv hypertrophy   \n",
              "\n",
              "   thalch  exang  oldpeak        slope   ca               thal  num  \n",
              "0   150.0  False      2.3  downsloping  0.0       fixed defect    0  \n",
              "1   108.0   True      1.5         flat  3.0             normal    2  \n",
              "2   129.0   True      2.6         flat  2.0  reversable defect    1  \n",
              "3   187.0  False      3.5  downsloping  0.0             normal    0  \n",
              "4   172.0  False      1.4    upsloping  0.0             normal    0  \n",
              "5   178.0  False      0.8    upsloping  0.0             normal    0  \n",
              "6   160.0  False      3.6  downsloping  2.0             normal    3  \n",
              "7   163.0   True      0.6    upsloping  0.0             normal    0  \n",
              "8   147.0  False      1.4         flat  1.0  reversable defect    2  \n",
              "9   155.0   True      3.1  downsloping  0.0  reversable defect    1  "
            ],
            "text/html": [
              "\n",
              "  <div id=\"df-2b5ac783-d37a-43f4-b5f3-edb2cc5456f3\" class=\"colab-df-container\">\n",
              "    <div>\n",
              "<style scoped>\n",
              "    .dataframe tbody tr th:only-of-type {\n",
              "        vertical-align: middle;\n",
              "    }\n",
              "\n",
              "    .dataframe tbody tr th {\n",
              "        vertical-align: top;\n",
              "    }\n",
              "\n",
              "    .dataframe thead th {\n",
              "        text-align: right;\n",
              "    }\n",
              "</style>\n",
              "<table border=\"1\" class=\"dataframe\">\n",
              "  <thead>\n",
              "    <tr style=\"text-align: right;\">\n",
              "      <th></th>\n",
              "      <th>age</th>\n",
              "      <th>sex</th>\n",
              "      <th>cp</th>\n",
              "      <th>trestbps</th>\n",
              "      <th>chol</th>\n",
              "      <th>fbs</th>\n",
              "      <th>restecg</th>\n",
              "      <th>thalch</th>\n",
              "      <th>exang</th>\n",
              "      <th>oldpeak</th>\n",
              "      <th>slope</th>\n",
              "      <th>ca</th>\n",
              "      <th>thal</th>\n",
              "      <th>num</th>\n",
              "    </tr>\n",
              "  </thead>\n",
              "  <tbody>\n",
              "    <tr>\n",
              "      <th>0</th>\n",
              "      <td>63</td>\n",
              "      <td>Male</td>\n",
              "      <td>typical angina</td>\n",
              "      <td>145.0</td>\n",
              "      <td>233.0</td>\n",
              "      <td>True</td>\n",
              "      <td>lv hypertrophy</td>\n",
              "      <td>150.0</td>\n",
              "      <td>False</td>\n",
              "      <td>2.3</td>\n",
              "      <td>downsloping</td>\n",
              "      <td>0.0</td>\n",
              "      <td>fixed defect</td>\n",
              "      <td>0</td>\n",
              "    </tr>\n",
              "    <tr>\n",
              "      <th>1</th>\n",
              "      <td>67</td>\n",
              "      <td>Male</td>\n",
              "      <td>asymptomatic</td>\n",
              "      <td>160.0</td>\n",
              "      <td>286.0</td>\n",
              "      <td>False</td>\n",
              "      <td>lv hypertrophy</td>\n",
              "      <td>108.0</td>\n",
              "      <td>True</td>\n",
              "      <td>1.5</td>\n",
              "      <td>flat</td>\n",
              "      <td>3.0</td>\n",
              "      <td>normal</td>\n",
              "      <td>2</td>\n",
              "    </tr>\n",
              "    <tr>\n",
              "      <th>2</th>\n",
              "      <td>67</td>\n",
              "      <td>Male</td>\n",
              "      <td>asymptomatic</td>\n",
              "      <td>120.0</td>\n",
              "      <td>229.0</td>\n",
              "      <td>False</td>\n",
              "      <td>lv hypertrophy</td>\n",
              "      <td>129.0</td>\n",
              "      <td>True</td>\n",
              "      <td>2.6</td>\n",
              "      <td>flat</td>\n",
              "      <td>2.0</td>\n",
              "      <td>reversable defect</td>\n",
              "      <td>1</td>\n",
              "    </tr>\n",
              "    <tr>\n",
              "      <th>3</th>\n",
              "      <td>37</td>\n",
              "      <td>Male</td>\n",
              "      <td>non-anginal</td>\n",
              "      <td>130.0</td>\n",
              "      <td>250.0</td>\n",
              "      <td>False</td>\n",
              "      <td>normal</td>\n",
              "      <td>187.0</td>\n",
              "      <td>False</td>\n",
              "      <td>3.5</td>\n",
              "      <td>downsloping</td>\n",
              "      <td>0.0</td>\n",
              "      <td>normal</td>\n",
              "      <td>0</td>\n",
              "    </tr>\n",
              "    <tr>\n",
              "      <th>4</th>\n",
              "      <td>41</td>\n",
              "      <td>Female</td>\n",
              "      <td>atypical angina</td>\n",
              "      <td>130.0</td>\n",
              "      <td>204.0</td>\n",
              "      <td>False</td>\n",
              "      <td>lv hypertrophy</td>\n",
              "      <td>172.0</td>\n",
              "      <td>False</td>\n",
              "      <td>1.4</td>\n",
              "      <td>upsloping</td>\n",
              "      <td>0.0</td>\n",
              "      <td>normal</td>\n",
              "      <td>0</td>\n",
              "    </tr>\n",
              "    <tr>\n",
              "      <th>5</th>\n",
              "      <td>56</td>\n",
              "      <td>Male</td>\n",
              "      <td>atypical angina</td>\n",
              "      <td>120.0</td>\n",
              "      <td>236.0</td>\n",
              "      <td>False</td>\n",
              "      <td>normal</td>\n",
              "      <td>178.0</td>\n",
              "      <td>False</td>\n",
              "      <td>0.8</td>\n",
              "      <td>upsloping</td>\n",
              "      <td>0.0</td>\n",
              "      <td>normal</td>\n",
              "      <td>0</td>\n",
              "    </tr>\n",
              "    <tr>\n",
              "      <th>6</th>\n",
              "      <td>62</td>\n",
              "      <td>Female</td>\n",
              "      <td>asymptomatic</td>\n",
              "      <td>140.0</td>\n",
              "      <td>268.0</td>\n",
              "      <td>False</td>\n",
              "      <td>lv hypertrophy</td>\n",
              "      <td>160.0</td>\n",
              "      <td>False</td>\n",
              "      <td>3.6</td>\n",
              "      <td>downsloping</td>\n",
              "      <td>2.0</td>\n",
              "      <td>normal</td>\n",
              "      <td>3</td>\n",
              "    </tr>\n",
              "    <tr>\n",
              "      <th>7</th>\n",
              "      <td>57</td>\n",
              "      <td>Female</td>\n",
              "      <td>asymptomatic</td>\n",
              "      <td>120.0</td>\n",
              "      <td>354.0</td>\n",
              "      <td>False</td>\n",
              "      <td>normal</td>\n",
              "      <td>163.0</td>\n",
              "      <td>True</td>\n",
              "      <td>0.6</td>\n",
              "      <td>upsloping</td>\n",
              "      <td>0.0</td>\n",
              "      <td>normal</td>\n",
              "      <td>0</td>\n",
              "    </tr>\n",
              "    <tr>\n",
              "      <th>8</th>\n",
              "      <td>63</td>\n",
              "      <td>Male</td>\n",
              "      <td>asymptomatic</td>\n",
              "      <td>130.0</td>\n",
              "      <td>254.0</td>\n",
              "      <td>False</td>\n",
              "      <td>lv hypertrophy</td>\n",
              "      <td>147.0</td>\n",
              "      <td>False</td>\n",
              "      <td>1.4</td>\n",
              "      <td>flat</td>\n",
              "      <td>1.0</td>\n",
              "      <td>reversable defect</td>\n",
              "      <td>2</td>\n",
              "    </tr>\n",
              "    <tr>\n",
              "      <th>9</th>\n",
              "      <td>53</td>\n",
              "      <td>Male</td>\n",
              "      <td>asymptomatic</td>\n",
              "      <td>140.0</td>\n",
              "      <td>203.0</td>\n",
              "      <td>True</td>\n",
              "      <td>lv hypertrophy</td>\n",
              "      <td>155.0</td>\n",
              "      <td>True</td>\n",
              "      <td>3.1</td>\n",
              "      <td>downsloping</td>\n",
              "      <td>0.0</td>\n",
              "      <td>reversable defect</td>\n",
              "      <td>1</td>\n",
              "    </tr>\n",
              "  </tbody>\n",
              "</table>\n",
              "</div>\n",
              "    <div class=\"colab-df-buttons\">\n",
              "\n",
              "  <div class=\"colab-df-container\">\n",
              "    <button class=\"colab-df-convert\" onclick=\"convertToInteractive('df-2b5ac783-d37a-43f4-b5f3-edb2cc5456f3')\"\n",
              "            title=\"Convert this dataframe to an interactive table.\"\n",
              "            style=\"display:none;\">\n",
              "\n",
              "  <svg xmlns=\"http://www.w3.org/2000/svg\" height=\"24px\" viewBox=\"0 -960 960 960\">\n",
              "    <path d=\"M120-120v-720h720v720H120Zm60-500h600v-160H180v160Zm220 220h160v-160H400v160Zm0 220h160v-160H400v160ZM180-400h160v-160H180v160Zm440 0h160v-160H620v160ZM180-180h160v-160H180v160Zm440 0h160v-160H620v160Z\"/>\n",
              "  </svg>\n",
              "    </button>\n",
              "\n",
              "  <style>\n",
              "    .colab-df-container {\n",
              "      display:flex;\n",
              "      gap: 12px;\n",
              "    }\n",
              "\n",
              "    .colab-df-convert {\n",
              "      background-color: #E8F0FE;\n",
              "      border: none;\n",
              "      border-radius: 50%;\n",
              "      cursor: pointer;\n",
              "      display: none;\n",
              "      fill: #1967D2;\n",
              "      height: 32px;\n",
              "      padding: 0 0 0 0;\n",
              "      width: 32px;\n",
              "    }\n",
              "\n",
              "    .colab-df-convert:hover {\n",
              "      background-color: #E2EBFA;\n",
              "      box-shadow: 0px 1px 2px rgba(60, 64, 67, 0.3), 0px 1px 3px 1px rgba(60, 64, 67, 0.15);\n",
              "      fill: #174EA6;\n",
              "    }\n",
              "\n",
              "    .colab-df-buttons div {\n",
              "      margin-bottom: 4px;\n",
              "    }\n",
              "\n",
              "    [theme=dark] .colab-df-convert {\n",
              "      background-color: #3B4455;\n",
              "      fill: #D2E3FC;\n",
              "    }\n",
              "\n",
              "    [theme=dark] .colab-df-convert:hover {\n",
              "      background-color: #434B5C;\n",
              "      box-shadow: 0px 1px 3px 1px rgba(0, 0, 0, 0.15);\n",
              "      filter: drop-shadow(0px 1px 2px rgba(0, 0, 0, 0.3));\n",
              "      fill: #FFFFFF;\n",
              "    }\n",
              "  </style>\n",
              "\n",
              "    <script>\n",
              "      const buttonEl =\n",
              "        document.querySelector('#df-2b5ac783-d37a-43f4-b5f3-edb2cc5456f3 button.colab-df-convert');\n",
              "      buttonEl.style.display =\n",
              "        google.colab.kernel.accessAllowed ? 'block' : 'none';\n",
              "\n",
              "      async function convertToInteractive(key) {\n",
              "        const element = document.querySelector('#df-2b5ac783-d37a-43f4-b5f3-edb2cc5456f3');\n",
              "        const dataTable =\n",
              "          await google.colab.kernel.invokeFunction('convertToInteractive',\n",
              "                                                    [key], {});\n",
              "        if (!dataTable) return;\n",
              "\n",
              "        const docLinkHtml = 'Like what you see? Visit the ' +\n",
              "          '<a target=\"_blank\" href=https://colab.research.google.com/notebooks/data_table.ipynb>data table notebook</a>'\n",
              "          + ' to learn more about interactive tables.';\n",
              "        element.innerHTML = '';\n",
              "        dataTable['output_type'] = 'display_data';\n",
              "        await google.colab.output.renderOutput(dataTable, element);\n",
              "        const docLink = document.createElement('div');\n",
              "        docLink.innerHTML = docLinkHtml;\n",
              "        element.appendChild(docLink);\n",
              "      }\n",
              "    </script>\n",
              "  </div>\n",
              "\n",
              "\n",
              "<div id=\"df-e6979abe-00ec-4a88-9c06-2ccef245a1a6\">\n",
              "  <button class=\"colab-df-quickchart\" onclick=\"quickchart('df-e6979abe-00ec-4a88-9c06-2ccef245a1a6')\"\n",
              "            title=\"Suggest charts\"\n",
              "            style=\"display:none;\">\n",
              "\n",
              "<svg xmlns=\"http://www.w3.org/2000/svg\" height=\"24px\"viewBox=\"0 0 24 24\"\n",
              "     width=\"24px\">\n",
              "    <g>\n",
              "        <path d=\"M19 3H5c-1.1 0-2 .9-2 2v14c0 1.1.9 2 2 2h14c1.1 0 2-.9 2-2V5c0-1.1-.9-2-2-2zM9 17H7v-7h2v7zm4 0h-2V7h2v10zm4 0h-2v-4h2v4z\"/>\n",
              "    </g>\n",
              "</svg>\n",
              "  </button>\n",
              "\n",
              "<style>\n",
              "  .colab-df-quickchart {\n",
              "      --bg-color: #E8F0FE;\n",
              "      --fill-color: #1967D2;\n",
              "      --hover-bg-color: #E2EBFA;\n",
              "      --hover-fill-color: #174EA6;\n",
              "      --disabled-fill-color: #AAA;\n",
              "      --disabled-bg-color: #DDD;\n",
              "  }\n",
              "\n",
              "  [theme=dark] .colab-df-quickchart {\n",
              "      --bg-color: #3B4455;\n",
              "      --fill-color: #D2E3FC;\n",
              "      --hover-bg-color: #434B5C;\n",
              "      --hover-fill-color: #FFFFFF;\n",
              "      --disabled-bg-color: #3B4455;\n",
              "      --disabled-fill-color: #666;\n",
              "  }\n",
              "\n",
              "  .colab-df-quickchart {\n",
              "    background-color: var(--bg-color);\n",
              "    border: none;\n",
              "    border-radius: 50%;\n",
              "    cursor: pointer;\n",
              "    display: none;\n",
              "    fill: var(--fill-color);\n",
              "    height: 32px;\n",
              "    padding: 0;\n",
              "    width: 32px;\n",
              "  }\n",
              "\n",
              "  .colab-df-quickchart:hover {\n",
              "    background-color: var(--hover-bg-color);\n",
              "    box-shadow: 0 1px 2px rgba(60, 64, 67, 0.3), 0 1px 3px 1px rgba(60, 64, 67, 0.15);\n",
              "    fill: var(--button-hover-fill-color);\n",
              "  }\n",
              "\n",
              "  .colab-df-quickchart-complete:disabled,\n",
              "  .colab-df-quickchart-complete:disabled:hover {\n",
              "    background-color: var(--disabled-bg-color);\n",
              "    fill: var(--disabled-fill-color);\n",
              "    box-shadow: none;\n",
              "  }\n",
              "\n",
              "  .colab-df-spinner {\n",
              "    border: 2px solid var(--fill-color);\n",
              "    border-color: transparent;\n",
              "    border-bottom-color: var(--fill-color);\n",
              "    animation:\n",
              "      spin 1s steps(1) infinite;\n",
              "  }\n",
              "\n",
              "  @keyframes spin {\n",
              "    0% {\n",
              "      border-color: transparent;\n",
              "      border-bottom-color: var(--fill-color);\n",
              "      border-left-color: var(--fill-color);\n",
              "    }\n",
              "    20% {\n",
              "      border-color: transparent;\n",
              "      border-left-color: var(--fill-color);\n",
              "      border-top-color: var(--fill-color);\n",
              "    }\n",
              "    30% {\n",
              "      border-color: transparent;\n",
              "      border-left-color: var(--fill-color);\n",
              "      border-top-color: var(--fill-color);\n",
              "      border-right-color: var(--fill-color);\n",
              "    }\n",
              "    40% {\n",
              "      border-color: transparent;\n",
              "      border-right-color: var(--fill-color);\n",
              "      border-top-color: var(--fill-color);\n",
              "    }\n",
              "    60% {\n",
              "      border-color: transparent;\n",
              "      border-right-color: var(--fill-color);\n",
              "    }\n",
              "    80% {\n",
              "      border-color: transparent;\n",
              "      border-right-color: var(--fill-color);\n",
              "      border-bottom-color: var(--fill-color);\n",
              "    }\n",
              "    90% {\n",
              "      border-color: transparent;\n",
              "      border-bottom-color: var(--fill-color);\n",
              "    }\n",
              "  }\n",
              "</style>\n",
              "\n",
              "  <script>\n",
              "    async function quickchart(key) {\n",
              "      const quickchartButtonEl =\n",
              "        document.querySelector('#' + key + ' button');\n",
              "      quickchartButtonEl.disabled = true;  // To prevent multiple clicks.\n",
              "      quickchartButtonEl.classList.add('colab-df-spinner');\n",
              "      try {\n",
              "        const charts = await google.colab.kernel.invokeFunction(\n",
              "            'suggestCharts', [key], {});\n",
              "      } catch (error) {\n",
              "        console.error('Error during call to suggestCharts:', error);\n",
              "      }\n",
              "      quickchartButtonEl.classList.remove('colab-df-spinner');\n",
              "      quickchartButtonEl.classList.add('colab-df-quickchart-complete');\n",
              "    }\n",
              "    (() => {\n",
              "      let quickchartButtonEl =\n",
              "        document.querySelector('#df-e6979abe-00ec-4a88-9c06-2ccef245a1a6 button');\n",
              "      quickchartButtonEl.style.display =\n",
              "        google.colab.kernel.accessAllowed ? 'block' : 'none';\n",
              "    })();\n",
              "  </script>\n",
              "</div>\n",
              "\n",
              "    </div>\n",
              "  </div>\n"
            ],
            "application/vnd.google.colaboratory.intrinsic+json": {
              "type": "dataframe",
              "summary": "{\n  \"name\": \"df_cleaned\",\n  \"rows\": 10,\n  \"fields\": [\n    {\n      \"column\": \"age\",\n      \"properties\": {\n        \"dtype\": \"number\",\n        \"std\": 10,\n        \"min\": 37,\n        \"max\": 67,\n        \"num_unique_values\": 8,\n        \"samples\": [\n          67,\n          62,\n          63\n        ],\n        \"semantic_type\": \"\",\n        \"description\": \"\"\n      }\n    },\n    {\n      \"column\": \"sex\",\n      \"properties\": {\n        \"dtype\": \"category\",\n        \"num_unique_values\": 2,\n        \"samples\": [\n          \"Female\",\n          \"Male\"\n        ],\n        \"semantic_type\": \"\",\n        \"description\": \"\"\n      }\n    },\n    {\n      \"column\": \"cp\",\n      \"properties\": {\n        \"dtype\": \"category\",\n        \"num_unique_values\": 4,\n        \"samples\": [\n          \"asymptomatic\",\n          \"atypical angina\"\n        ],\n        \"semantic_type\": \"\",\n        \"description\": \"\"\n      }\n    },\n    {\n      \"column\": \"trestbps\",\n      \"properties\": {\n        \"dtype\": \"number\",\n        \"std\": 12.920698295542872,\n        \"min\": 120.0,\n        \"max\": 160.0,\n        \"num_unique_values\": 5,\n        \"samples\": [\n          160.0,\n          140.0\n        ],\n        \"semantic_type\": \"\",\n        \"description\": \"\"\n      }\n    },\n    {\n      \"column\": \"chol\",\n      \"properties\": {\n        \"dtype\": \"number\",\n        \"std\": 44.31465772054309,\n        \"min\": 203.0,\n        \"max\": 354.0,\n        \"num_unique_values\": 10,\n        \"samples\": [\n          254.0,\n          286.0\n        ],\n        \"semantic_type\": \"\",\n        \"description\": \"\"\n      }\n    },\n    {\n      \"column\": \"fbs\",\n      \"properties\": {\n        \"dtype\": \"boolean\",\n        \"num_unique_values\": 2,\n        \"samples\": [\n          false,\n          true\n        ],\n        \"semantic_type\": \"\",\n        \"description\": \"\"\n      }\n    },\n    {\n      \"column\": \"restecg\",\n      \"properties\": {\n        \"dtype\": \"category\",\n        \"num_unique_values\": 2,\n        \"samples\": [\n          \"normal\",\n          \"lv hypertrophy\"\n        ],\n        \"semantic_type\": \"\",\n        \"description\": \"\"\n      }\n    },\n    {\n      \"column\": \"thalch\",\n      \"properties\": {\n        \"dtype\": \"number\",\n        \"std\": 23.34499708479076,\n        \"min\": 108.0,\n        \"max\": 187.0,\n        \"num_unique_values\": 10,\n        \"samples\": [\n          147.0,\n          108.0\n        ],\n        \"semantic_type\": \"\",\n        \"description\": \"\"\n      }\n    },\n    {\n      \"column\": \"exang\",\n      \"properties\": {\n        \"dtype\": \"boolean\",\n        \"num_unique_values\": 2,\n        \"samples\": [\n          true,\n          false\n        ],\n        \"semantic_type\": \"\",\n        \"description\": \"\"\n      }\n    },\n    {\n      \"column\": \"oldpeak\",\n      \"properties\": {\n        \"dtype\": \"number\",\n        \"std\": 1.0942272768183645,\n        \"min\": 0.6,\n        \"max\": 3.6,\n        \"num_unique_values\": 9,\n        \"samples\": [\n          0.6,\n          1.5\n        ],\n        \"semantic_type\": \"\",\n        \"description\": \"\"\n      }\n    },\n    {\n      \"column\": \"slope\",\n      \"properties\": {\n        \"dtype\": \"category\",\n        \"num_unique_values\": 3,\n        \"samples\": [\n          \"downsloping\",\n          \"flat\"\n        ],\n        \"semantic_type\": \"\",\n        \"description\": \"\"\n      }\n    },\n    {\n      \"column\": \"ca\",\n      \"properties\": {\n        \"dtype\": \"number\",\n        \"std\": 1.1352924243950935,\n        \"min\": 0.0,\n        \"max\": 3.0,\n        \"num_unique_values\": 4,\n        \"samples\": [\n          3.0,\n          1.0\n        ],\n        \"semantic_type\": \"\",\n        \"description\": \"\"\n      }\n    },\n    {\n      \"column\": \"thal\",\n      \"properties\": {\n        \"dtype\": \"category\",\n        \"num_unique_values\": 3,\n        \"samples\": [\n          \"fixed defect\",\n          \"normal\"\n        ],\n        \"semantic_type\": \"\",\n        \"description\": \"\"\n      }\n    },\n    {\n      \"column\": \"num\",\n      \"properties\": {\n        \"dtype\": \"number\",\n        \"std\": 1,\n        \"min\": 0,\n        \"max\": 3,\n        \"num_unique_values\": 4,\n        \"samples\": [\n          2,\n          3\n        ],\n        \"semantic_type\": \"\",\n        \"description\": \"\"\n      }\n    }\n  ]\n}"
            }
          },
          "metadata": {}
        },
        {
          "output_type": "execute_result",
          "data": {
            "text/plain": [
              "     age     sex               cp  trestbps   chol    fbs           restecg  \\\n",
              "910   51  Female     asymptomatic     114.0  258.0   True    lv hypertrophy   \n",
              "911   62    Male     asymptomatic     160.0  254.0   True  st-t abnormality   \n",
              "912   53    Male     asymptomatic     144.0  300.0   True  st-t abnormality   \n",
              "913   62    Male     asymptomatic     158.0  170.0  False  st-t abnormality   \n",
              "914   46    Male     asymptomatic     134.0  310.0  False            normal   \n",
              "915   54  Female     asymptomatic     127.0  333.0   True  st-t abnormality   \n",
              "916   62    Male   typical angina     130.0  139.0  False  st-t abnormality   \n",
              "917   55    Male     asymptomatic     122.0  223.0   True  st-t abnormality   \n",
              "918   58    Male     asymptomatic     130.0  385.0   True    lv hypertrophy   \n",
              "919   62    Male  atypical angina     120.0  254.0  False    lv hypertrophy   \n",
              "\n",
              "     thalch  exang  oldpeak      slope   ca          thal  num  \n",
              "910    96.0  False      1.0  upsloping  0.0        normal    0  \n",
              "911   108.0   True      3.0       flat  0.0        normal    4  \n",
              "912   128.0   True      1.5       flat  0.0        normal    3  \n",
              "913   138.0   True      0.0       flat  0.0        normal    1  \n",
              "914   126.0  False      0.0       flat  0.0        normal    2  \n",
              "915   154.0  False      0.0       flat  0.0        normal    1  \n",
              "916   140.0  False      0.5       flat  0.0        normal    0  \n",
              "917   100.0  False      0.0       flat  0.0  fixed defect    2  \n",
              "918   140.0  False      0.5       flat  0.0        normal    0  \n",
              "919    93.0   True      0.0       flat  0.0        normal    1  "
            ],
            "text/html": [
              "\n",
              "  <div id=\"df-74847cd5-ff35-4cd8-b202-107ec4def077\" class=\"colab-df-container\">\n",
              "    <div>\n",
              "<style scoped>\n",
              "    .dataframe tbody tr th:only-of-type {\n",
              "        vertical-align: middle;\n",
              "    }\n",
              "\n",
              "    .dataframe tbody tr th {\n",
              "        vertical-align: top;\n",
              "    }\n",
              "\n",
              "    .dataframe thead th {\n",
              "        text-align: right;\n",
              "    }\n",
              "</style>\n",
              "<table border=\"1\" class=\"dataframe\">\n",
              "  <thead>\n",
              "    <tr style=\"text-align: right;\">\n",
              "      <th></th>\n",
              "      <th>age</th>\n",
              "      <th>sex</th>\n",
              "      <th>cp</th>\n",
              "      <th>trestbps</th>\n",
              "      <th>chol</th>\n",
              "      <th>fbs</th>\n",
              "      <th>restecg</th>\n",
              "      <th>thalch</th>\n",
              "      <th>exang</th>\n",
              "      <th>oldpeak</th>\n",
              "      <th>slope</th>\n",
              "      <th>ca</th>\n",
              "      <th>thal</th>\n",
              "      <th>num</th>\n",
              "    </tr>\n",
              "  </thead>\n",
              "  <tbody>\n",
              "    <tr>\n",
              "      <th>910</th>\n",
              "      <td>51</td>\n",
              "      <td>Female</td>\n",
              "      <td>asymptomatic</td>\n",
              "      <td>114.0</td>\n",
              "      <td>258.0</td>\n",
              "      <td>True</td>\n",
              "      <td>lv hypertrophy</td>\n",
              "      <td>96.0</td>\n",
              "      <td>False</td>\n",
              "      <td>1.0</td>\n",
              "      <td>upsloping</td>\n",
              "      <td>0.0</td>\n",
              "      <td>normal</td>\n",
              "      <td>0</td>\n",
              "    </tr>\n",
              "    <tr>\n",
              "      <th>911</th>\n",
              "      <td>62</td>\n",
              "      <td>Male</td>\n",
              "      <td>asymptomatic</td>\n",
              "      <td>160.0</td>\n",
              "      <td>254.0</td>\n",
              "      <td>True</td>\n",
              "      <td>st-t abnormality</td>\n",
              "      <td>108.0</td>\n",
              "      <td>True</td>\n",
              "      <td>3.0</td>\n",
              "      <td>flat</td>\n",
              "      <td>0.0</td>\n",
              "      <td>normal</td>\n",
              "      <td>4</td>\n",
              "    </tr>\n",
              "    <tr>\n",
              "      <th>912</th>\n",
              "      <td>53</td>\n",
              "      <td>Male</td>\n",
              "      <td>asymptomatic</td>\n",
              "      <td>144.0</td>\n",
              "      <td>300.0</td>\n",
              "      <td>True</td>\n",
              "      <td>st-t abnormality</td>\n",
              "      <td>128.0</td>\n",
              "      <td>True</td>\n",
              "      <td>1.5</td>\n",
              "      <td>flat</td>\n",
              "      <td>0.0</td>\n",
              "      <td>normal</td>\n",
              "      <td>3</td>\n",
              "    </tr>\n",
              "    <tr>\n",
              "      <th>913</th>\n",
              "      <td>62</td>\n",
              "      <td>Male</td>\n",
              "      <td>asymptomatic</td>\n",
              "      <td>158.0</td>\n",
              "      <td>170.0</td>\n",
              "      <td>False</td>\n",
              "      <td>st-t abnormality</td>\n",
              "      <td>138.0</td>\n",
              "      <td>True</td>\n",
              "      <td>0.0</td>\n",
              "      <td>flat</td>\n",
              "      <td>0.0</td>\n",
              "      <td>normal</td>\n",
              "      <td>1</td>\n",
              "    </tr>\n",
              "    <tr>\n",
              "      <th>914</th>\n",
              "      <td>46</td>\n",
              "      <td>Male</td>\n",
              "      <td>asymptomatic</td>\n",
              "      <td>134.0</td>\n",
              "      <td>310.0</td>\n",
              "      <td>False</td>\n",
              "      <td>normal</td>\n",
              "      <td>126.0</td>\n",
              "      <td>False</td>\n",
              "      <td>0.0</td>\n",
              "      <td>flat</td>\n",
              "      <td>0.0</td>\n",
              "      <td>normal</td>\n",
              "      <td>2</td>\n",
              "    </tr>\n",
              "    <tr>\n",
              "      <th>915</th>\n",
              "      <td>54</td>\n",
              "      <td>Female</td>\n",
              "      <td>asymptomatic</td>\n",
              "      <td>127.0</td>\n",
              "      <td>333.0</td>\n",
              "      <td>True</td>\n",
              "      <td>st-t abnormality</td>\n",
              "      <td>154.0</td>\n",
              "      <td>False</td>\n",
              "      <td>0.0</td>\n",
              "      <td>flat</td>\n",
              "      <td>0.0</td>\n",
              "      <td>normal</td>\n",
              "      <td>1</td>\n",
              "    </tr>\n",
              "    <tr>\n",
              "      <th>916</th>\n",
              "      <td>62</td>\n",
              "      <td>Male</td>\n",
              "      <td>typical angina</td>\n",
              "      <td>130.0</td>\n",
              "      <td>139.0</td>\n",
              "      <td>False</td>\n",
              "      <td>st-t abnormality</td>\n",
              "      <td>140.0</td>\n",
              "      <td>False</td>\n",
              "      <td>0.5</td>\n",
              "      <td>flat</td>\n",
              "      <td>0.0</td>\n",
              "      <td>normal</td>\n",
              "      <td>0</td>\n",
              "    </tr>\n",
              "    <tr>\n",
              "      <th>917</th>\n",
              "      <td>55</td>\n",
              "      <td>Male</td>\n",
              "      <td>asymptomatic</td>\n",
              "      <td>122.0</td>\n",
              "      <td>223.0</td>\n",
              "      <td>True</td>\n",
              "      <td>st-t abnormality</td>\n",
              "      <td>100.0</td>\n",
              "      <td>False</td>\n",
              "      <td>0.0</td>\n",
              "      <td>flat</td>\n",
              "      <td>0.0</td>\n",
              "      <td>fixed defect</td>\n",
              "      <td>2</td>\n",
              "    </tr>\n",
              "    <tr>\n",
              "      <th>918</th>\n",
              "      <td>58</td>\n",
              "      <td>Male</td>\n",
              "      <td>asymptomatic</td>\n",
              "      <td>130.0</td>\n",
              "      <td>385.0</td>\n",
              "      <td>True</td>\n",
              "      <td>lv hypertrophy</td>\n",
              "      <td>140.0</td>\n",
              "      <td>False</td>\n",
              "      <td>0.5</td>\n",
              "      <td>flat</td>\n",
              "      <td>0.0</td>\n",
              "      <td>normal</td>\n",
              "      <td>0</td>\n",
              "    </tr>\n",
              "    <tr>\n",
              "      <th>919</th>\n",
              "      <td>62</td>\n",
              "      <td>Male</td>\n",
              "      <td>atypical angina</td>\n",
              "      <td>120.0</td>\n",
              "      <td>254.0</td>\n",
              "      <td>False</td>\n",
              "      <td>lv hypertrophy</td>\n",
              "      <td>93.0</td>\n",
              "      <td>True</td>\n",
              "      <td>0.0</td>\n",
              "      <td>flat</td>\n",
              "      <td>0.0</td>\n",
              "      <td>normal</td>\n",
              "      <td>1</td>\n",
              "    </tr>\n",
              "  </tbody>\n",
              "</table>\n",
              "</div>\n",
              "    <div class=\"colab-df-buttons\">\n",
              "\n",
              "  <div class=\"colab-df-container\">\n",
              "    <button class=\"colab-df-convert\" onclick=\"convertToInteractive('df-74847cd5-ff35-4cd8-b202-107ec4def077')\"\n",
              "            title=\"Convert this dataframe to an interactive table.\"\n",
              "            style=\"display:none;\">\n",
              "\n",
              "  <svg xmlns=\"http://www.w3.org/2000/svg\" height=\"24px\" viewBox=\"0 -960 960 960\">\n",
              "    <path d=\"M120-120v-720h720v720H120Zm60-500h600v-160H180v160Zm220 220h160v-160H400v160Zm0 220h160v-160H400v160ZM180-400h160v-160H180v160Zm440 0h160v-160H620v160ZM180-180h160v-160H180v160Zm440 0h160v-160H620v160Z\"/>\n",
              "  </svg>\n",
              "    </button>\n",
              "\n",
              "  <style>\n",
              "    .colab-df-container {\n",
              "      display:flex;\n",
              "      gap: 12px;\n",
              "    }\n",
              "\n",
              "    .colab-df-convert {\n",
              "      background-color: #E8F0FE;\n",
              "      border: none;\n",
              "      border-radius: 50%;\n",
              "      cursor: pointer;\n",
              "      display: none;\n",
              "      fill: #1967D2;\n",
              "      height: 32px;\n",
              "      padding: 0 0 0 0;\n",
              "      width: 32px;\n",
              "    }\n",
              "\n",
              "    .colab-df-convert:hover {\n",
              "      background-color: #E2EBFA;\n",
              "      box-shadow: 0px 1px 2px rgba(60, 64, 67, 0.3), 0px 1px 3px 1px rgba(60, 64, 67, 0.15);\n",
              "      fill: #174EA6;\n",
              "    }\n",
              "\n",
              "    .colab-df-buttons div {\n",
              "      margin-bottom: 4px;\n",
              "    }\n",
              "\n",
              "    [theme=dark] .colab-df-convert {\n",
              "      background-color: #3B4455;\n",
              "      fill: #D2E3FC;\n",
              "    }\n",
              "\n",
              "    [theme=dark] .colab-df-convert:hover {\n",
              "      background-color: #434B5C;\n",
              "      box-shadow: 0px 1px 3px 1px rgba(0, 0, 0, 0.15);\n",
              "      filter: drop-shadow(0px 1px 2px rgba(0, 0, 0, 0.3));\n",
              "      fill: #FFFFFF;\n",
              "    }\n",
              "  </style>\n",
              "\n",
              "    <script>\n",
              "      const buttonEl =\n",
              "        document.querySelector('#df-74847cd5-ff35-4cd8-b202-107ec4def077 button.colab-df-convert');\n",
              "      buttonEl.style.display =\n",
              "        google.colab.kernel.accessAllowed ? 'block' : 'none';\n",
              "\n",
              "      async function convertToInteractive(key) {\n",
              "        const element = document.querySelector('#df-74847cd5-ff35-4cd8-b202-107ec4def077');\n",
              "        const dataTable =\n",
              "          await google.colab.kernel.invokeFunction('convertToInteractive',\n",
              "                                                    [key], {});\n",
              "        if (!dataTable) return;\n",
              "\n",
              "        const docLinkHtml = 'Like what you see? Visit the ' +\n",
              "          '<a target=\"_blank\" href=https://colab.research.google.com/notebooks/data_table.ipynb>data table notebook</a>'\n",
              "          + ' to learn more about interactive tables.';\n",
              "        element.innerHTML = '';\n",
              "        dataTable['output_type'] = 'display_data';\n",
              "        await google.colab.output.renderOutput(dataTable, element);\n",
              "        const docLink = document.createElement('div');\n",
              "        docLink.innerHTML = docLinkHtml;\n",
              "        element.appendChild(docLink);\n",
              "      }\n",
              "    </script>\n",
              "  </div>\n",
              "\n",
              "\n",
              "<div id=\"df-57de56db-725c-44c2-b9d3-68d410f894be\">\n",
              "  <button class=\"colab-df-quickchart\" onclick=\"quickchart('df-57de56db-725c-44c2-b9d3-68d410f894be')\"\n",
              "            title=\"Suggest charts\"\n",
              "            style=\"display:none;\">\n",
              "\n",
              "<svg xmlns=\"http://www.w3.org/2000/svg\" height=\"24px\"viewBox=\"0 0 24 24\"\n",
              "     width=\"24px\">\n",
              "    <g>\n",
              "        <path d=\"M19 3H5c-1.1 0-2 .9-2 2v14c0 1.1.9 2 2 2h14c1.1 0 2-.9 2-2V5c0-1.1-.9-2-2-2zM9 17H7v-7h2v7zm4 0h-2V7h2v10zm4 0h-2v-4h2v4z\"/>\n",
              "    </g>\n",
              "</svg>\n",
              "  </button>\n",
              "\n",
              "<style>\n",
              "  .colab-df-quickchart {\n",
              "      --bg-color: #E8F0FE;\n",
              "      --fill-color: #1967D2;\n",
              "      --hover-bg-color: #E2EBFA;\n",
              "      --hover-fill-color: #174EA6;\n",
              "      --disabled-fill-color: #AAA;\n",
              "      --disabled-bg-color: #DDD;\n",
              "  }\n",
              "\n",
              "  [theme=dark] .colab-df-quickchart {\n",
              "      --bg-color: #3B4455;\n",
              "      --fill-color: #D2E3FC;\n",
              "      --hover-bg-color: #434B5C;\n",
              "      --hover-fill-color: #FFFFFF;\n",
              "      --disabled-bg-color: #3B4455;\n",
              "      --disabled-fill-color: #666;\n",
              "  }\n",
              "\n",
              "  .colab-df-quickchart {\n",
              "    background-color: var(--bg-color);\n",
              "    border: none;\n",
              "    border-radius: 50%;\n",
              "    cursor: pointer;\n",
              "    display: none;\n",
              "    fill: var(--fill-color);\n",
              "    height: 32px;\n",
              "    padding: 0;\n",
              "    width: 32px;\n",
              "  }\n",
              "\n",
              "  .colab-df-quickchart:hover {\n",
              "    background-color: var(--hover-bg-color);\n",
              "    box-shadow: 0 1px 2px rgba(60, 64, 67, 0.3), 0 1px 3px 1px rgba(60, 64, 67, 0.15);\n",
              "    fill: var(--button-hover-fill-color);\n",
              "  }\n",
              "\n",
              "  .colab-df-quickchart-complete:disabled,\n",
              "  .colab-df-quickchart-complete:disabled:hover {\n",
              "    background-color: var(--disabled-bg-color);\n",
              "    fill: var(--disabled-fill-color);\n",
              "    box-shadow: none;\n",
              "  }\n",
              "\n",
              "  .colab-df-spinner {\n",
              "    border: 2px solid var(--fill-color);\n",
              "    border-color: transparent;\n",
              "    border-bottom-color: var(--fill-color);\n",
              "    animation:\n",
              "      spin 1s steps(1) infinite;\n",
              "  }\n",
              "\n",
              "  @keyframes spin {\n",
              "    0% {\n",
              "      border-color: transparent;\n",
              "      border-bottom-color: var(--fill-color);\n",
              "      border-left-color: var(--fill-color);\n",
              "    }\n",
              "    20% {\n",
              "      border-color: transparent;\n",
              "      border-left-color: var(--fill-color);\n",
              "      border-top-color: var(--fill-color);\n",
              "    }\n",
              "    30% {\n",
              "      border-color: transparent;\n",
              "      border-left-color: var(--fill-color);\n",
              "      border-top-color: var(--fill-color);\n",
              "      border-right-color: var(--fill-color);\n",
              "    }\n",
              "    40% {\n",
              "      border-color: transparent;\n",
              "      border-right-color: var(--fill-color);\n",
              "      border-top-color: var(--fill-color);\n",
              "    }\n",
              "    60% {\n",
              "      border-color: transparent;\n",
              "      border-right-color: var(--fill-color);\n",
              "    }\n",
              "    80% {\n",
              "      border-color: transparent;\n",
              "      border-right-color: var(--fill-color);\n",
              "      border-bottom-color: var(--fill-color);\n",
              "    }\n",
              "    90% {\n",
              "      border-color: transparent;\n",
              "      border-bottom-color: var(--fill-color);\n",
              "    }\n",
              "  }\n",
              "</style>\n",
              "\n",
              "  <script>\n",
              "    async function quickchart(key) {\n",
              "      const quickchartButtonEl =\n",
              "        document.querySelector('#' + key + ' button');\n",
              "      quickchartButtonEl.disabled = true;  // To prevent multiple clicks.\n",
              "      quickchartButtonEl.classList.add('colab-df-spinner');\n",
              "      try {\n",
              "        const charts = await google.colab.kernel.invokeFunction(\n",
              "            'suggestCharts', [key], {});\n",
              "      } catch (error) {\n",
              "        console.error('Error during call to suggestCharts:', error);\n",
              "      }\n",
              "      quickchartButtonEl.classList.remove('colab-df-spinner');\n",
              "      quickchartButtonEl.classList.add('colab-df-quickchart-complete');\n",
              "    }\n",
              "    (() => {\n",
              "      let quickchartButtonEl =\n",
              "        document.querySelector('#df-57de56db-725c-44c2-b9d3-68d410f894be button');\n",
              "      quickchartButtonEl.style.display =\n",
              "        google.colab.kernel.accessAllowed ? 'block' : 'none';\n",
              "    })();\n",
              "  </script>\n",
              "</div>\n",
              "\n",
              "    </div>\n",
              "  </div>\n"
            ],
            "application/vnd.google.colaboratory.intrinsic+json": {
              "type": "dataframe",
              "summary": "{\n  \"name\": \"df_cleaned\",\n  \"rows\": 10,\n  \"fields\": [\n    {\n      \"column\": \"age\",\n      \"properties\": {\n        \"dtype\": \"number\",\n        \"std\": 5,\n        \"min\": 46,\n        \"max\": 62,\n        \"num_unique_values\": 7,\n        \"samples\": [\n          51,\n          62,\n          55\n        ],\n        \"semantic_type\": \"\",\n        \"description\": \"\"\n      }\n    },\n    {\n      \"column\": \"sex\",\n      \"properties\": {\n        \"dtype\": \"category\",\n        \"num_unique_values\": 2,\n        \"samples\": [\n          \"Male\",\n          \"Female\"\n        ],\n        \"semantic_type\": \"\",\n        \"description\": \"\"\n      }\n    },\n    {\n      \"column\": \"cp\",\n      \"properties\": {\n        \"dtype\": \"category\",\n        \"num_unique_values\": 3,\n        \"samples\": [\n          \"asymptomatic\",\n          \"typical angina\"\n        ],\n        \"semantic_type\": \"\",\n        \"description\": \"\"\n      }\n    },\n    {\n      \"column\": \"trestbps\",\n      \"properties\": {\n        \"dtype\": \"number\",\n        \"std\": 15.538125155028625,\n        \"min\": 114.0,\n        \"max\": 160.0,\n        \"num_unique_values\": 9,\n        \"samples\": [\n          122.0,\n          160.0\n        ],\n        \"semantic_type\": \"\",\n        \"description\": \"\"\n      }\n    },\n    {\n      \"column\": \"chol\",\n      \"properties\": {\n        \"dtype\": \"number\",\n        \"std\": 73.91616873188167,\n        \"min\": 139.0,\n        \"max\": 385.0,\n        \"num_unique_values\": 9,\n        \"samples\": [\n          223.0,\n          254.0\n        ],\n        \"semantic_type\": \"\",\n        \"description\": \"\"\n      }\n    },\n    {\n      \"column\": \"fbs\",\n      \"properties\": {\n        \"dtype\": \"boolean\",\n        \"num_unique_values\": 2,\n        \"samples\": [\n          false,\n          true\n        ],\n        \"semantic_type\": \"\",\n        \"description\": \"\"\n      }\n    },\n    {\n      \"column\": \"restecg\",\n      \"properties\": {\n        \"dtype\": \"category\",\n        \"num_unique_values\": 3,\n        \"samples\": [\n          \"lv hypertrophy\",\n          \"st-t abnormality\"\n        ],\n        \"semantic_type\": \"\",\n        \"description\": \"\"\n      }\n    },\n    {\n      \"column\": \"thalch\",\n      \"properties\": {\n        \"dtype\": \"number\",\n        \"std\": 21.540917137185946,\n        \"min\": 93.0,\n        \"max\": 154.0,\n        \"num_unique_values\": 9,\n        \"samples\": [\n          100.0,\n          108.0\n        ],\n        \"semantic_type\": \"\",\n        \"description\": \"\"\n      }\n    },\n    {\n      \"column\": \"exang\",\n      \"properties\": {\n        \"dtype\": \"boolean\",\n        \"num_unique_values\": 2,\n        \"samples\": [\n          true,\n          false\n        ],\n        \"semantic_type\": \"\",\n        \"description\": \"\"\n      }\n    },\n    {\n      \"column\": \"oldpeak\",\n      \"properties\": {\n        \"dtype\": \"number\",\n        \"std\": 0.9732534213770956,\n        \"min\": 0.0,\n        \"max\": 3.0,\n        \"num_unique_values\": 5,\n        \"samples\": [\n          3.0,\n          0.5\n        ],\n        \"semantic_type\": \"\",\n        \"description\": \"\"\n      }\n    },\n    {\n      \"column\": \"slope\",\n      \"properties\": {\n        \"dtype\": \"category\",\n        \"num_unique_values\": 2,\n        \"samples\": [\n          \"flat\",\n          \"upsloping\"\n        ],\n        \"semantic_type\": \"\",\n        \"description\": \"\"\n      }\n    },\n    {\n      \"column\": \"ca\",\n      \"properties\": {\n        \"dtype\": \"number\",\n        \"std\": 0.0,\n        \"min\": 0.0,\n        \"max\": 0.0,\n        \"num_unique_values\": 1,\n        \"samples\": [\n          0.0\n        ],\n        \"semantic_type\": \"\",\n        \"description\": \"\"\n      }\n    },\n    {\n      \"column\": \"thal\",\n      \"properties\": {\n        \"dtype\": \"category\",\n        \"num_unique_values\": 2,\n        \"samples\": [\n          \"fixed defect\"\n        ],\n        \"semantic_type\": \"\",\n        \"description\": \"\"\n      }\n    },\n    {\n      \"column\": \"num\",\n      \"properties\": {\n        \"dtype\": \"number\",\n        \"std\": 1,\n        \"min\": 0,\n        \"max\": 4,\n        \"num_unique_values\": 5,\n        \"samples\": [\n          4\n        ],\n        \"semantic_type\": \"\",\n        \"description\": \"\"\n      }\n    }\n  ]\n}"
            }
          },
          "metadata": {},
          "execution_count": 49
        }
      ],
      "source": [
        "\n",
        "display(df_cleaned.head(10))\n",
        "df_cleaned.tail(10)"
      ]
    },
    {
      "cell_type": "code",
      "execution_count": null,
      "metadata": {
        "id": "0DmPqZuzC4hO",
        "colab": {
          "base_uri": "https://localhost:8080/",
          "height": 523
        },
        "outputId": "f6b226af-6426-4279-c6e5-0700cff82b95"
      },
      "outputs": [
        {
          "output_type": "execute_result",
          "data": {
            "text/plain": [
              "age         0\n",
              "sex         0\n",
              "cp          0\n",
              "trestbps    0\n",
              "chol        0\n",
              "fbs         0\n",
              "restecg     0\n",
              "thalch      0\n",
              "exang       0\n",
              "oldpeak     0\n",
              "slope       0\n",
              "ca          0\n",
              "thal        0\n",
              "num         0\n",
              "dtype: int64"
            ],
            "text/html": [
              "<div>\n",
              "<style scoped>\n",
              "    .dataframe tbody tr th:only-of-type {\n",
              "        vertical-align: middle;\n",
              "    }\n",
              "\n",
              "    .dataframe tbody tr th {\n",
              "        vertical-align: top;\n",
              "    }\n",
              "\n",
              "    .dataframe thead th {\n",
              "        text-align: right;\n",
              "    }\n",
              "</style>\n",
              "<table border=\"1\" class=\"dataframe\">\n",
              "  <thead>\n",
              "    <tr style=\"text-align: right;\">\n",
              "      <th></th>\n",
              "      <th>0</th>\n",
              "    </tr>\n",
              "  </thead>\n",
              "  <tbody>\n",
              "    <tr>\n",
              "      <th>age</th>\n",
              "      <td>0</td>\n",
              "    </tr>\n",
              "    <tr>\n",
              "      <th>sex</th>\n",
              "      <td>0</td>\n",
              "    </tr>\n",
              "    <tr>\n",
              "      <th>cp</th>\n",
              "      <td>0</td>\n",
              "    </tr>\n",
              "    <tr>\n",
              "      <th>trestbps</th>\n",
              "      <td>0</td>\n",
              "    </tr>\n",
              "    <tr>\n",
              "      <th>chol</th>\n",
              "      <td>0</td>\n",
              "    </tr>\n",
              "    <tr>\n",
              "      <th>fbs</th>\n",
              "      <td>0</td>\n",
              "    </tr>\n",
              "    <tr>\n",
              "      <th>restecg</th>\n",
              "      <td>0</td>\n",
              "    </tr>\n",
              "    <tr>\n",
              "      <th>thalch</th>\n",
              "      <td>0</td>\n",
              "    </tr>\n",
              "    <tr>\n",
              "      <th>exang</th>\n",
              "      <td>0</td>\n",
              "    </tr>\n",
              "    <tr>\n",
              "      <th>oldpeak</th>\n",
              "      <td>0</td>\n",
              "    </tr>\n",
              "    <tr>\n",
              "      <th>slope</th>\n",
              "      <td>0</td>\n",
              "    </tr>\n",
              "    <tr>\n",
              "      <th>ca</th>\n",
              "      <td>0</td>\n",
              "    </tr>\n",
              "    <tr>\n",
              "      <th>thal</th>\n",
              "      <td>0</td>\n",
              "    </tr>\n",
              "    <tr>\n",
              "      <th>num</th>\n",
              "      <td>0</td>\n",
              "    </tr>\n",
              "  </tbody>\n",
              "</table>\n",
              "</div><br><label><b>dtype:</b> int64</label>"
            ]
          },
          "metadata": {},
          "execution_count": 50
        }
      ],
      "source": [
        "df_cleaned.isnull().sum()"
      ]
    },
    {
      "cell_type": "code",
      "execution_count": null,
      "metadata": {
        "id": "akOc9YPLDFvy",
        "colab": {
          "base_uri": "https://localhost:8080/"
        },
        "outputId": "6c227d8e-ecaa-4ffa-da96-3336ba5c134f"
      },
      "outputs": [
        {
          "output_type": "execute_result",
          "data": {
            "text/plain": [
              "(920, 14)"
            ]
          },
          "metadata": {},
          "execution_count": 51
        }
      ],
      "source": [
        "df_cleaned.shape"
      ]
    },
    {
      "cell_type": "markdown",
      "metadata": {
        "id": "1bxYkumd5WPt"
      },
      "source": [
        "**ENCODING.**"
      ]
    },
    {
      "cell_type": "code",
      "execution_count": null,
      "metadata": {
        "id": "1vJobpQqUYDW",
        "colab": {
          "base_uri": "https://localhost:8080/"
        },
        "outputId": "208159db-f805-4379-f593-fa712ef406df"
      },
      "outputs": [
        {
          "output_type": "stream",
          "name": "stdout",
          "text": [
            "Requirement already satisfied: gradio in /usr/local/lib/python3.11/dist-packages (5.18.0)\n",
            "Requirement already satisfied: aiofiles<24.0,>=22.0 in /usr/local/lib/python3.11/dist-packages (from gradio) (23.2.1)\n",
            "Requirement already satisfied: anyio<5.0,>=3.0 in /usr/local/lib/python3.11/dist-packages (from gradio) (3.7.1)\n",
            "Requirement already satisfied: fastapi<1.0,>=0.115.2 in /usr/local/lib/python3.11/dist-packages (from gradio) (0.115.8)\n",
            "Requirement already satisfied: ffmpy in /usr/local/lib/python3.11/dist-packages (from gradio) (0.5.0)\n",
            "Requirement already satisfied: gradio-client==1.7.2 in /usr/local/lib/python3.11/dist-packages (from gradio) (1.7.2)\n",
            "Requirement already satisfied: httpx>=0.24.1 in /usr/local/lib/python3.11/dist-packages (from gradio) (0.28.1)\n",
            "Requirement already satisfied: huggingface-hub>=0.28.1 in /usr/local/lib/python3.11/dist-packages (from gradio) (0.28.1)\n",
            "Requirement already satisfied: jinja2<4.0 in /usr/local/lib/python3.11/dist-packages (from gradio) (3.1.5)\n",
            "Requirement already satisfied: markupsafe~=2.0 in /usr/local/lib/python3.11/dist-packages (from gradio) (2.1.5)\n",
            "Requirement already satisfied: numpy<3.0,>=1.0 in /usr/local/lib/python3.11/dist-packages (from gradio) (1.26.4)\n",
            "Requirement already satisfied: orjson~=3.0 in /usr/local/lib/python3.11/dist-packages (from gradio) (3.10.15)\n",
            "Requirement already satisfied: packaging in /usr/local/lib/python3.11/dist-packages (from gradio) (24.2)\n",
            "Requirement already satisfied: pandas<3.0,>=1.0 in /usr/local/lib/python3.11/dist-packages (from gradio) (2.2.2)\n",
            "Requirement already satisfied: pillow<12.0,>=8.0 in /usr/local/lib/python3.11/dist-packages (from gradio) (11.1.0)\n",
            "Requirement already satisfied: pydantic>=2.0 in /usr/local/lib/python3.11/dist-packages (from gradio) (2.10.6)\n",
            "Requirement already satisfied: pydub in /usr/local/lib/python3.11/dist-packages (from gradio) (0.25.1)\n",
            "Requirement already satisfied: python-multipart>=0.0.18 in /usr/local/lib/python3.11/dist-packages (from gradio) (0.0.20)\n",
            "Requirement already satisfied: pyyaml<7.0,>=5.0 in /usr/local/lib/python3.11/dist-packages (from gradio) (6.0.2)\n",
            "Requirement already satisfied: ruff>=0.9.3 in /usr/local/lib/python3.11/dist-packages (from gradio) (0.9.7)\n",
            "Requirement already satisfied: safehttpx<0.2.0,>=0.1.6 in /usr/local/lib/python3.11/dist-packages (from gradio) (0.1.6)\n",
            "Requirement already satisfied: semantic-version~=2.0 in /usr/local/lib/python3.11/dist-packages (from gradio) (2.10.0)\n",
            "Requirement already satisfied: starlette<1.0,>=0.40.0 in /usr/local/lib/python3.11/dist-packages (from gradio) (0.45.3)\n",
            "Requirement already satisfied: tomlkit<0.14.0,>=0.12.0 in /usr/local/lib/python3.11/dist-packages (from gradio) (0.13.2)\n",
            "Requirement already satisfied: typer<1.0,>=0.12 in /usr/local/lib/python3.11/dist-packages (from gradio) (0.15.1)\n",
            "Requirement already satisfied: typing-extensions~=4.0 in /usr/local/lib/python3.11/dist-packages (from gradio) (4.12.2)\n",
            "Requirement already satisfied: uvicorn>=0.14.0 in /usr/local/lib/python3.11/dist-packages (from gradio) (0.34.0)\n",
            "Requirement already satisfied: fsspec in /usr/local/lib/python3.11/dist-packages (from gradio-client==1.7.2->gradio) (2024.10.0)\n",
            "Requirement already satisfied: websockets<16.0,>=10.0 in /usr/local/lib/python3.11/dist-packages (from gradio-client==1.7.2->gradio) (14.2)\n",
            "Requirement already satisfied: idna>=2.8 in /usr/local/lib/python3.11/dist-packages (from anyio<5.0,>=3.0->gradio) (3.10)\n",
            "Requirement already satisfied: sniffio>=1.1 in /usr/local/lib/python3.11/dist-packages (from anyio<5.0,>=3.0->gradio) (1.3.1)\n",
            "Requirement already satisfied: certifi in /usr/local/lib/python3.11/dist-packages (from httpx>=0.24.1->gradio) (2025.1.31)\n",
            "Requirement already satisfied: httpcore==1.* in /usr/local/lib/python3.11/dist-packages (from httpx>=0.24.1->gradio) (1.0.7)\n",
            "Requirement already satisfied: h11<0.15,>=0.13 in /usr/local/lib/python3.11/dist-packages (from httpcore==1.*->httpx>=0.24.1->gradio) (0.14.0)\n",
            "Requirement already satisfied: filelock in /usr/local/lib/python3.11/dist-packages (from huggingface-hub>=0.28.1->gradio) (3.17.0)\n",
            "Requirement already satisfied: requests in /usr/local/lib/python3.11/dist-packages (from huggingface-hub>=0.28.1->gradio) (2.32.3)\n",
            "Requirement already satisfied: tqdm>=4.42.1 in /usr/local/lib/python3.11/dist-packages (from huggingface-hub>=0.28.1->gradio) (4.67.1)\n",
            "Requirement already satisfied: python-dateutil>=2.8.2 in /usr/local/lib/python3.11/dist-packages (from pandas<3.0,>=1.0->gradio) (2.8.2)\n",
            "Requirement already satisfied: pytz>=2020.1 in /usr/local/lib/python3.11/dist-packages (from pandas<3.0,>=1.0->gradio) (2025.1)\n",
            "Requirement already satisfied: tzdata>=2022.7 in /usr/local/lib/python3.11/dist-packages (from pandas<3.0,>=1.0->gradio) (2025.1)\n",
            "Requirement already satisfied: annotated-types>=0.6.0 in /usr/local/lib/python3.11/dist-packages (from pydantic>=2.0->gradio) (0.7.0)\n",
            "Requirement already satisfied: pydantic-core==2.27.2 in /usr/local/lib/python3.11/dist-packages (from pydantic>=2.0->gradio) (2.27.2)\n",
            "Requirement already satisfied: click>=8.0.0 in /usr/local/lib/python3.11/dist-packages (from typer<1.0,>=0.12->gradio) (8.1.8)\n",
            "Requirement already satisfied: shellingham>=1.3.0 in /usr/local/lib/python3.11/dist-packages (from typer<1.0,>=0.12->gradio) (1.5.4)\n",
            "Requirement already satisfied: rich>=10.11.0 in /usr/local/lib/python3.11/dist-packages (from typer<1.0,>=0.12->gradio) (13.9.4)\n",
            "Requirement already satisfied: six>=1.5 in /usr/local/lib/python3.11/dist-packages (from python-dateutil>=2.8.2->pandas<3.0,>=1.0->gradio) (1.17.0)\n",
            "Requirement already satisfied: markdown-it-py>=2.2.0 in /usr/local/lib/python3.11/dist-packages (from rich>=10.11.0->typer<1.0,>=0.12->gradio) (3.0.0)\n",
            "Requirement already satisfied: pygments<3.0.0,>=2.13.0 in /usr/local/lib/python3.11/dist-packages (from rich>=10.11.0->typer<1.0,>=0.12->gradio) (2.18.0)\n",
            "Requirement already satisfied: charset-normalizer<4,>=2 in /usr/local/lib/python3.11/dist-packages (from requests->huggingface-hub>=0.28.1->gradio) (3.4.1)\n",
            "Requirement already satisfied: urllib3<3,>=1.21.1 in /usr/local/lib/python3.11/dist-packages (from requests->huggingface-hub>=0.28.1->gradio) (2.3.0)\n",
            "Requirement already satisfied: mdurl~=0.1 in /usr/local/lib/python3.11/dist-packages (from markdown-it-py>=2.2.0->rich>=10.11.0->typer<1.0,>=0.12->gradio) (0.1.2)\n"
          ]
        }
      ],
      "source": [
        "!pip install gradio"
      ]
    },
    {
      "cell_type": "code",
      "execution_count": null,
      "metadata": {
        "id": "xbaf0tJUFzLB"
      },
      "outputs": [],
      "source": [
        "import gradio as gr\n",
        "from sklearn.decomposition import PCA\n",
        "from sklearn.preprocessing import StandardScaler, OneHotEncoder\n",
        "from sklearn.model_selection import train_test_split\n",
        "from sklearn.linear_model import LinearRegression\n",
        "from sklearn.metrics import r2_score"
      ]
    },
    {
      "cell_type": "code",
      "execution_count": null,
      "metadata": {
        "id": "vUXNdpxDDiiH"
      },
      "outputs": [],
      "source": [
        "\n",
        "# Framelist of Encodable Categorical Features.\n",
        "ENCATCAL_COLS = ['sex', 'cp', 'restecg', 'slope', 'thal', 'ca']"
      ]
    },
    {
      "cell_type": "code",
      "execution_count": null,
      "metadata": {
        "id": "WmLbIK0TH-Mt"
      },
      "outputs": [],
      "source": [
        "\n",
        "# Framelist of Non-encodable Numerical Features.\n",
        "NENCATCAL_COLS = ['age', 'trestbps', 'chol', 'fbs', 'thalch',\n",
        "       'exang', 'oldpeak']"
      ]
    },
    {
      "cell_type": "code",
      "execution_count": null,
      "metadata": {
        "id": "EQqjUrRGD4xl",
        "colab": {
          "base_uri": "https://localhost:8080/"
        },
        "outputId": "8d14bd00-cb1a-4e18-c63a-f197db4bbe22"
      },
      "outputs": [
        {
          "output_type": "execute_result",
          "data": {
            "text/plain": [
              "Index(['age', 'sex', 'cp', 'trestbps', 'chol', 'fbs', 'restecg', 'thalch',\n",
              "       'exang', 'oldpeak', 'slope', 'ca', 'thal', 'num'],\n",
              "      dtype='object')"
            ]
          },
          "metadata": {},
          "execution_count": 56
        }
      ],
      "source": [
        "df_cleaned.columns"
      ]
    },
    {
      "cell_type": "code",
      "execution_count": null,
      "metadata": {
        "id": "6N7fQJOBD_lw"
      },
      "outputs": [],
      "source": [
        "\n",
        "\n",
        "X = df_cleaned.drop(columns='num')\n",
        "y = df_cleaned['num']"
      ]
    },
    {
      "cell_type": "code",
      "execution_count": null,
      "metadata": {
        "id": "C8La3xRqESsk",
        "colab": {
          "base_uri": "https://localhost:8080/"
        },
        "outputId": "154b4f49-d4d5-4b0a-9479-24d57fae44a1"
      },
      "outputs": [
        {
          "output_type": "execute_result",
          "data": {
            "text/plain": [
              "Index(['age', 'sex', 'cp', 'trestbps', 'chol', 'fbs', 'restecg', 'thalch',\n",
              "       'exang', 'oldpeak', 'slope', 'ca', 'thal'],\n",
              "      dtype='object')"
            ]
          },
          "metadata": {},
          "execution_count": 58
        }
      ],
      "source": [
        "X.columns"
      ]
    },
    {
      "cell_type": "code",
      "execution_count": null,
      "metadata": {
        "id": "f7xtTy0EipHo",
        "colab": {
          "base_uri": "https://localhost:8080/"
        },
        "outputId": "493b2884-5389-469e-c769-c221e7c9f2bf"
      },
      "outputs": [
        {
          "output_type": "execute_result",
          "data": {
            "text/plain": [
              "((920, 13), pandas.core.frame.DataFrame)"
            ]
          },
          "metadata": {},
          "execution_count": 59
        }
      ],
      "source": [
        "X.shape, type(X)"
      ]
    },
    {
      "cell_type": "code",
      "execution_count": null,
      "metadata": {
        "id": "pV6gwRmrEh1J",
        "colab": {
          "base_uri": "https://localhost:8080/"
        },
        "outputId": "36c3cc62-e8e7-4b52-ed80-3e1d581b66e4"
      },
      "outputs": [
        {
          "output_type": "stream",
          "name": "stdout",
          "text": [
            "<class 'pandas.core.series.Series'>\n",
            "RangeIndex: 920 entries, 0 to 919\n",
            "Series name: num\n",
            "Non-Null Count  Dtype\n",
            "--------------  -----\n",
            "920 non-null    int64\n",
            "dtypes: int64(1)\n",
            "memory usage: 7.3 KB\n"
          ]
        }
      ],
      "source": [
        "y.info()"
      ]
    },
    {
      "cell_type": "code",
      "execution_count": null,
      "metadata": {
        "id": "EbPvVYf5fypo"
      },
      "outputs": [],
      "source": [
        "\n",
        "#X = pd.get_dummies(X, drop_first=True)\n",
        "#X[ENCATCAL_COLS] = pd.get_dummies(X[ENCATCAL_COLS])\n",
        "#"
      ]
    },
    {
      "cell_type": "code",
      "execution_count": null,
      "metadata": {
        "id": "M_HtbJlHFYBZ"
      },
      "outputs": [],
      "source": [
        "# Separate categorical and numerical features\n",
        "#num_features = ['Height', 'Weight', 'Age', 'Savings']\n",
        "#cat_features = ['Gender', 'City']\n",
        "\n",
        "# One-Hot Encode categorical features\n",
        "encoder = OneHotEncoder(drop='first', sparse_output=False)\n",
        "encoded_cats = encoder.fit_transform(X[ENCATCAL_COLS])\n",
        "\n",
        "# Get new column names after encoding\n",
        "encoded_cat_names = encoder.get_feature_names_out(ENCATCAL_COLS)"
      ]
    },
    {
      "cell_type": "code",
      "execution_count": null,
      "metadata": {
        "id": "qNS0hDpSgc88",
        "colab": {
          "base_uri": "https://localhost:8080/"
        },
        "outputId": "bbf60466-14ca-4b8f-f2cd-be947716f3f9"
      },
      "outputs": [
        {
          "output_type": "execute_result",
          "data": {
            "text/plain": [
              "(920, 13)"
            ]
          },
          "metadata": {},
          "execution_count": 63
        }
      ],
      "source": [
        "X.shape"
      ]
    },
    {
      "cell_type": "code",
      "execution_count": null,
      "metadata": {
        "id": "OkR3dYNfggsb"
      },
      "outputs": [],
      "source": [
        "\n",
        "# Combine numerical and encoded categorical features\n",
        "df_encoded = pd.DataFrame(encoded_cats, columns=encoded_cat_names)\n",
        "\n",
        "X_2 = pd.concat([X[NENCATCAL_COLS], df_encoded], axis=1)"
      ]
    },
    {
      "cell_type": "code",
      "execution_count": null,
      "metadata": {
        "id": "eSrTX96ULAiy",
        "colab": {
          "base_uri": "https://localhost:8080/"
        },
        "outputId": "8a751c37-4337-4a23-c5ff-b915ff75d9d2"
      },
      "outputs": [
        {
          "output_type": "execute_result",
          "data": {
            "text/plain": [
              "(920, 20)"
            ]
          },
          "metadata": {},
          "execution_count": 65
        }
      ],
      "source": [
        "X_2.shape"
      ]
    },
    {
      "cell_type": "code",
      "execution_count": null,
      "metadata": {
        "id": "E3UUwq5df4S_"
      },
      "outputs": [],
      "source": [
        "\n",
        "\n",
        "#Fill remaining NaN values with median.\n",
        "#X.fillna(X.median(), inplace=True) #"
      ]
    },
    {
      "cell_type": "code",
      "execution_count": null,
      "metadata": {
        "id": "Rp3EC84Ia7Jj",
        "colab": {
          "base_uri": "https://localhost:8080/"
        },
        "outputId": "d5259241-2efb-42aa-b173-1883e65346f5"
      },
      "outputs": [
        {
          "output_type": "stream",
          "name": "stdout",
          "text": [
            "<class 'pandas.core.frame.DataFrame'>\n",
            "RangeIndex: 920 entries, 0 to 919\n",
            "Data columns (total 20 columns):\n",
            " #   Column                    Non-Null Count  Dtype  \n",
            "---  ------                    --------------  -----  \n",
            " 0   age                       920 non-null    int64  \n",
            " 1   trestbps                  920 non-null    float64\n",
            " 2   chol                      920 non-null    float64\n",
            " 3   fbs                       920 non-null    bool   \n",
            " 4   thalch                    920 non-null    float64\n",
            " 5   exang                     920 non-null    bool   \n",
            " 6   oldpeak                   920 non-null    float64\n",
            " 7   sex_Male                  920 non-null    float64\n",
            " 8   cp_atypical angina        920 non-null    float64\n",
            " 9   cp_non-anginal            920 non-null    float64\n",
            " 10  cp_typical angina         920 non-null    float64\n",
            " 11  restecg_normal            920 non-null    float64\n",
            " 12  restecg_st-t abnormality  920 non-null    float64\n",
            " 13  slope_flat                920 non-null    float64\n",
            " 14  slope_upsloping           920 non-null    float64\n",
            " 15  thal_normal               920 non-null    float64\n",
            " 16  thal_reversable defect    920 non-null    float64\n",
            " 17  ca_1.0                    920 non-null    float64\n",
            " 18  ca_2.0                    920 non-null    float64\n",
            " 19  ca_3.0                    920 non-null    float64\n",
            "dtypes: bool(2), float64(17), int64(1)\n",
            "memory usage: 131.3 KB\n"
          ]
        }
      ],
      "source": [
        "X_2.info()"
      ]
    },
    {
      "cell_type": "code",
      "execution_count": null,
      "metadata": {
        "id": "ayU5WPbfZP-n"
      },
      "outputs": [],
      "source": [
        "#Least important features: [ 0  1  4  6  7  5 16 15 14  2  9 13 11 18  3 12  8 17 19 10]\n",
        "#20"
      ]
    },
    {
      "cell_type": "markdown",
      "metadata": {
        "id": "HMF_5mZJtWUy"
      },
      "source": [
        "**FEATURE ENGINEERING**"
      ]
    },
    {
      "cell_type": "markdown",
      "metadata": {
        "id": "Ynnfr2ygtZyu"
      },
      "source": [
        "**STANDARDIZATION SCALING OF DATA.**"
      ]
    },
    {
      "cell_type": "code",
      "execution_count": null,
      "metadata": {
        "id": "YgB6YiJFMr7G",
        "colab": {
          "base_uri": "https://localhost:8080/"
        },
        "outputId": "4a89896a-f317-4666-f5d5-aa2dbf45a079"
      },
      "outputs": [
        {
          "output_type": "execute_result",
          "data": {
            "text/plain": [
              "(920, 20)"
            ]
          },
          "metadata": {},
          "execution_count": 69
        }
      ],
      "source": [
        "X_2.shape"
      ]
    },
    {
      "cell_type": "code",
      "execution_count": null,
      "metadata": {
        "id": "booyCValIw_k"
      },
      "outputs": [],
      "source": [
        "\n",
        "\n",
        "# Standardized Scaling of features\n",
        "scaler = StandardScaler()\n",
        "X_scaled = scaler.fit_transform(X_2)\n",
        "#"
      ]
    },
    {
      "cell_type": "code",
      "execution_count": null,
      "metadata": {
        "id": "x9jXnIzUYc-B",
        "colab": {
          "base_uri": "https://localhost:8080/"
        },
        "outputId": "732c5937-8d8e-423d-80ba-b53eb9fff73c"
      },
      "outputs": [
        {
          "output_type": "execute_result",
          "data": {
            "text/plain": [
              "((920, 20), numpy.ndarray)"
            ]
          },
          "metadata": {},
          "execution_count": 71
        }
      ],
      "source": [
        "\n",
        "\n",
        "X_scaled.shape, type(X_scaled)"
      ]
    },
    {
      "cell_type": "markdown",
      "metadata": {
        "id": "XFRfWPEUu-MT"
      },
      "source": [
        "**DIMENSIONALITY REDUCTION**"
      ]
    },
    {
      "cell_type": "code",
      "execution_count": null,
      "metadata": {
        "id": "KoRP1mT9M6L6",
        "colab": {
          "base_uri": "https://localhost:8080/"
        },
        "outputId": "4956e7a5-d916-4d5f-a776-6be6c5af3636"
      },
      "outputs": [
        {
          "output_type": "execute_result",
          "data": {
            "text/plain": [
              "(920, 20)"
            ]
          },
          "metadata": {},
          "execution_count": 72
        }
      ],
      "source": [
        "X_scaled.shape"
      ]
    },
    {
      "cell_type": "code",
      "execution_count": null,
      "metadata": {
        "id": "EXP9Blg1JkHB"
      },
      "outputs": [],
      "source": [
        "# Apply PCA (Keep 10 components)\n",
        "pca = PCA(n_components=10)\n",
        "X_pca = pca.fit_transform(X_scaled)\n",
        "#"
      ]
    },
    {
      "cell_type": "code",
      "execution_count": null,
      "metadata": {
        "id": "1DsUQ1epZDhu",
        "colab": {
          "base_uri": "https://localhost:8080/"
        },
        "outputId": "78f53c6b-3ea8-4b53-9d60-29971d4f29ff"
      },
      "outputs": [
        {
          "output_type": "execute_result",
          "data": {
            "text/plain": [
              "((920, 10), numpy.ndarray)"
            ]
          },
          "metadata": {},
          "execution_count": 74
        }
      ],
      "source": [
        "\n",
        "X_pca.shape, type(X_pca)"
      ]
    },
    {
      "cell_type": "code",
      "execution_count": null,
      "metadata": {
        "id": "IBgxI-EbOzJa",
        "colab": {
          "base_uri": "https://localhost:8080/",
          "height": 444
        },
        "outputId": "a5ed80a7-fdf4-4811-8977-b8ec8330f67d"
      },
      "outputs": [
        {
          "output_type": "execute_result",
          "data": {
            "text/plain": [
              "          PC1       PC2       PC3       PC4       PC5       PC6       PC7  \\\n",
              "0   -1.495288  1.218960 -1.954033  1.698926  0.205584 -0.729373  3.190829   \n",
              "1   -2.548819 -0.684666 -0.729265  1.718426  0.928203  1.920356 -1.600232   \n",
              "2   -3.708802  1.350060  0.692933  1.605105  0.590981 -0.943520  1.276093   \n",
              "3    1.456758  1.014338  0.266424 -0.311925  0.945776  1.591849  0.278690   \n",
              "4    2.750527  1.849241 -1.108466  0.888553  0.340654 -1.334670 -1.368322   \n",
              "..        ...       ...       ...       ...       ...       ...       ...   \n",
              "915  0.644033 -1.313554 -2.445600  1.793842 -1.381610  0.391655 -0.098801   \n",
              "916 -0.283407 -1.350273 -2.309148  0.119224 -0.653663 -1.486575  2.666499   \n",
              "917 -1.485043 -1.417829 -1.520214  0.111750 -2.179046 -0.530148  0.374468   \n",
              "918  0.002379 -0.939106 -1.163410  1.539786 -0.462370  0.731015  0.428865   \n",
              "919 -0.248898 -1.638622  0.033517  0.169057  0.344402 -1.035155 -1.353706   \n",
              "\n",
              "          PC8       PC9      PC10  \n",
              "0   -0.857648 -0.465388 -2.806201  \n",
              "1    4.276354 -1.722481 -2.127867  \n",
              "2   -0.235285 -0.787912  3.167718  \n",
              "3    0.240085 -1.983673 -0.223510  \n",
              "4    0.502048 -0.475908  0.614375  \n",
              "..        ...       ...       ...  \n",
              "915 -0.262059  0.318974  0.446666  \n",
              "916 -1.378837 -1.751931 -1.499785  \n",
              "917  0.152029  0.907170 -0.264904  \n",
              "918 -0.090389  0.859837 -1.020072  \n",
              "919 -0.062573  0.755983  0.015100  \n",
              "\n",
              "[920 rows x 10 columns]"
            ],
            "text/html": [
              "\n",
              "  <div id=\"df-4a354086-073a-4c2b-a0cd-ad735390c6c1\" class=\"colab-df-container\">\n",
              "    <div>\n",
              "<style scoped>\n",
              "    .dataframe tbody tr th:only-of-type {\n",
              "        vertical-align: middle;\n",
              "    }\n",
              "\n",
              "    .dataframe tbody tr th {\n",
              "        vertical-align: top;\n",
              "    }\n",
              "\n",
              "    .dataframe thead th {\n",
              "        text-align: right;\n",
              "    }\n",
              "</style>\n",
              "<table border=\"1\" class=\"dataframe\">\n",
              "  <thead>\n",
              "    <tr style=\"text-align: right;\">\n",
              "      <th></th>\n",
              "      <th>PC1</th>\n",
              "      <th>PC2</th>\n",
              "      <th>PC3</th>\n",
              "      <th>PC4</th>\n",
              "      <th>PC5</th>\n",
              "      <th>PC6</th>\n",
              "      <th>PC7</th>\n",
              "      <th>PC8</th>\n",
              "      <th>PC9</th>\n",
              "      <th>PC10</th>\n",
              "    </tr>\n",
              "  </thead>\n",
              "  <tbody>\n",
              "    <tr>\n",
              "      <th>0</th>\n",
              "      <td>-1.495288</td>\n",
              "      <td>1.218960</td>\n",
              "      <td>-1.954033</td>\n",
              "      <td>1.698926</td>\n",
              "      <td>0.205584</td>\n",
              "      <td>-0.729373</td>\n",
              "      <td>3.190829</td>\n",
              "      <td>-0.857648</td>\n",
              "      <td>-0.465388</td>\n",
              "      <td>-2.806201</td>\n",
              "    </tr>\n",
              "    <tr>\n",
              "      <th>1</th>\n",
              "      <td>-2.548819</td>\n",
              "      <td>-0.684666</td>\n",
              "      <td>-0.729265</td>\n",
              "      <td>1.718426</td>\n",
              "      <td>0.928203</td>\n",
              "      <td>1.920356</td>\n",
              "      <td>-1.600232</td>\n",
              "      <td>4.276354</td>\n",
              "      <td>-1.722481</td>\n",
              "      <td>-2.127867</td>\n",
              "    </tr>\n",
              "    <tr>\n",
              "      <th>2</th>\n",
              "      <td>-3.708802</td>\n",
              "      <td>1.350060</td>\n",
              "      <td>0.692933</td>\n",
              "      <td>1.605105</td>\n",
              "      <td>0.590981</td>\n",
              "      <td>-0.943520</td>\n",
              "      <td>1.276093</td>\n",
              "      <td>-0.235285</td>\n",
              "      <td>-0.787912</td>\n",
              "      <td>3.167718</td>\n",
              "    </tr>\n",
              "    <tr>\n",
              "      <th>3</th>\n",
              "      <td>1.456758</td>\n",
              "      <td>1.014338</td>\n",
              "      <td>0.266424</td>\n",
              "      <td>-0.311925</td>\n",
              "      <td>0.945776</td>\n",
              "      <td>1.591849</td>\n",
              "      <td>0.278690</td>\n",
              "      <td>0.240085</td>\n",
              "      <td>-1.983673</td>\n",
              "      <td>-0.223510</td>\n",
              "    </tr>\n",
              "    <tr>\n",
              "      <th>4</th>\n",
              "      <td>2.750527</td>\n",
              "      <td>1.849241</td>\n",
              "      <td>-1.108466</td>\n",
              "      <td>0.888553</td>\n",
              "      <td>0.340654</td>\n",
              "      <td>-1.334670</td>\n",
              "      <td>-1.368322</td>\n",
              "      <td>0.502048</td>\n",
              "      <td>-0.475908</td>\n",
              "      <td>0.614375</td>\n",
              "    </tr>\n",
              "    <tr>\n",
              "      <th>...</th>\n",
              "      <td>...</td>\n",
              "      <td>...</td>\n",
              "      <td>...</td>\n",
              "      <td>...</td>\n",
              "      <td>...</td>\n",
              "      <td>...</td>\n",
              "      <td>...</td>\n",
              "      <td>...</td>\n",
              "      <td>...</td>\n",
              "      <td>...</td>\n",
              "    </tr>\n",
              "    <tr>\n",
              "      <th>915</th>\n",
              "      <td>0.644033</td>\n",
              "      <td>-1.313554</td>\n",
              "      <td>-2.445600</td>\n",
              "      <td>1.793842</td>\n",
              "      <td>-1.381610</td>\n",
              "      <td>0.391655</td>\n",
              "      <td>-0.098801</td>\n",
              "      <td>-0.262059</td>\n",
              "      <td>0.318974</td>\n",
              "      <td>0.446666</td>\n",
              "    </tr>\n",
              "    <tr>\n",
              "      <th>916</th>\n",
              "      <td>-0.283407</td>\n",
              "      <td>-1.350273</td>\n",
              "      <td>-2.309148</td>\n",
              "      <td>0.119224</td>\n",
              "      <td>-0.653663</td>\n",
              "      <td>-1.486575</td>\n",
              "      <td>2.666499</td>\n",
              "      <td>-1.378837</td>\n",
              "      <td>-1.751931</td>\n",
              "      <td>-1.499785</td>\n",
              "    </tr>\n",
              "    <tr>\n",
              "      <th>917</th>\n",
              "      <td>-1.485043</td>\n",
              "      <td>-1.417829</td>\n",
              "      <td>-1.520214</td>\n",
              "      <td>0.111750</td>\n",
              "      <td>-2.179046</td>\n",
              "      <td>-0.530148</td>\n",
              "      <td>0.374468</td>\n",
              "      <td>0.152029</td>\n",
              "      <td>0.907170</td>\n",
              "      <td>-0.264904</td>\n",
              "    </tr>\n",
              "    <tr>\n",
              "      <th>918</th>\n",
              "      <td>0.002379</td>\n",
              "      <td>-0.939106</td>\n",
              "      <td>-1.163410</td>\n",
              "      <td>1.539786</td>\n",
              "      <td>-0.462370</td>\n",
              "      <td>0.731015</td>\n",
              "      <td>0.428865</td>\n",
              "      <td>-0.090389</td>\n",
              "      <td>0.859837</td>\n",
              "      <td>-1.020072</td>\n",
              "    </tr>\n",
              "    <tr>\n",
              "      <th>919</th>\n",
              "      <td>-0.248898</td>\n",
              "      <td>-1.638622</td>\n",
              "      <td>0.033517</td>\n",
              "      <td>0.169057</td>\n",
              "      <td>0.344402</td>\n",
              "      <td>-1.035155</td>\n",
              "      <td>-1.353706</td>\n",
              "      <td>-0.062573</td>\n",
              "      <td>0.755983</td>\n",
              "      <td>0.015100</td>\n",
              "    </tr>\n",
              "  </tbody>\n",
              "</table>\n",
              "<p>920 rows × 10 columns</p>\n",
              "</div>\n",
              "    <div class=\"colab-df-buttons\">\n",
              "\n",
              "  <div class=\"colab-df-container\">\n",
              "    <button class=\"colab-df-convert\" onclick=\"convertToInteractive('df-4a354086-073a-4c2b-a0cd-ad735390c6c1')\"\n",
              "            title=\"Convert this dataframe to an interactive table.\"\n",
              "            style=\"display:none;\">\n",
              "\n",
              "  <svg xmlns=\"http://www.w3.org/2000/svg\" height=\"24px\" viewBox=\"0 -960 960 960\">\n",
              "    <path d=\"M120-120v-720h720v720H120Zm60-500h600v-160H180v160Zm220 220h160v-160H400v160Zm0 220h160v-160H400v160ZM180-400h160v-160H180v160Zm440 0h160v-160H620v160ZM180-180h160v-160H180v160Zm440 0h160v-160H620v160Z\"/>\n",
              "  </svg>\n",
              "    </button>\n",
              "\n",
              "  <style>\n",
              "    .colab-df-container {\n",
              "      display:flex;\n",
              "      gap: 12px;\n",
              "    }\n",
              "\n",
              "    .colab-df-convert {\n",
              "      background-color: #E8F0FE;\n",
              "      border: none;\n",
              "      border-radius: 50%;\n",
              "      cursor: pointer;\n",
              "      display: none;\n",
              "      fill: #1967D2;\n",
              "      height: 32px;\n",
              "      padding: 0 0 0 0;\n",
              "      width: 32px;\n",
              "    }\n",
              "\n",
              "    .colab-df-convert:hover {\n",
              "      background-color: #E2EBFA;\n",
              "      box-shadow: 0px 1px 2px rgba(60, 64, 67, 0.3), 0px 1px 3px 1px rgba(60, 64, 67, 0.15);\n",
              "      fill: #174EA6;\n",
              "    }\n",
              "\n",
              "    .colab-df-buttons div {\n",
              "      margin-bottom: 4px;\n",
              "    }\n",
              "\n",
              "    [theme=dark] .colab-df-convert {\n",
              "      background-color: #3B4455;\n",
              "      fill: #D2E3FC;\n",
              "    }\n",
              "\n",
              "    [theme=dark] .colab-df-convert:hover {\n",
              "      background-color: #434B5C;\n",
              "      box-shadow: 0px 1px 3px 1px rgba(0, 0, 0, 0.15);\n",
              "      filter: drop-shadow(0px 1px 2px rgba(0, 0, 0, 0.3));\n",
              "      fill: #FFFFFF;\n",
              "    }\n",
              "  </style>\n",
              "\n",
              "    <script>\n",
              "      const buttonEl =\n",
              "        document.querySelector('#df-4a354086-073a-4c2b-a0cd-ad735390c6c1 button.colab-df-convert');\n",
              "      buttonEl.style.display =\n",
              "        google.colab.kernel.accessAllowed ? 'block' : 'none';\n",
              "\n",
              "      async function convertToInteractive(key) {\n",
              "        const element = document.querySelector('#df-4a354086-073a-4c2b-a0cd-ad735390c6c1');\n",
              "        const dataTable =\n",
              "          await google.colab.kernel.invokeFunction('convertToInteractive',\n",
              "                                                    [key], {});\n",
              "        if (!dataTable) return;\n",
              "\n",
              "        const docLinkHtml = 'Like what you see? Visit the ' +\n",
              "          '<a target=\"_blank\" href=https://colab.research.google.com/notebooks/data_table.ipynb>data table notebook</a>'\n",
              "          + ' to learn more about interactive tables.';\n",
              "        element.innerHTML = '';\n",
              "        dataTable['output_type'] = 'display_data';\n",
              "        await google.colab.output.renderOutput(dataTable, element);\n",
              "        const docLink = document.createElement('div');\n",
              "        docLink.innerHTML = docLinkHtml;\n",
              "        element.appendChild(docLink);\n",
              "      }\n",
              "    </script>\n",
              "  </div>\n",
              "\n",
              "\n",
              "<div id=\"df-6bd4a76c-318d-410d-8c56-a0ec3aae9915\">\n",
              "  <button class=\"colab-df-quickchart\" onclick=\"quickchart('df-6bd4a76c-318d-410d-8c56-a0ec3aae9915')\"\n",
              "            title=\"Suggest charts\"\n",
              "            style=\"display:none;\">\n",
              "\n",
              "<svg xmlns=\"http://www.w3.org/2000/svg\" height=\"24px\"viewBox=\"0 0 24 24\"\n",
              "     width=\"24px\">\n",
              "    <g>\n",
              "        <path d=\"M19 3H5c-1.1 0-2 .9-2 2v14c0 1.1.9 2 2 2h14c1.1 0 2-.9 2-2V5c0-1.1-.9-2-2-2zM9 17H7v-7h2v7zm4 0h-2V7h2v10zm4 0h-2v-4h2v4z\"/>\n",
              "    </g>\n",
              "</svg>\n",
              "  </button>\n",
              "\n",
              "<style>\n",
              "  .colab-df-quickchart {\n",
              "      --bg-color: #E8F0FE;\n",
              "      --fill-color: #1967D2;\n",
              "      --hover-bg-color: #E2EBFA;\n",
              "      --hover-fill-color: #174EA6;\n",
              "      --disabled-fill-color: #AAA;\n",
              "      --disabled-bg-color: #DDD;\n",
              "  }\n",
              "\n",
              "  [theme=dark] .colab-df-quickchart {\n",
              "      --bg-color: #3B4455;\n",
              "      --fill-color: #D2E3FC;\n",
              "      --hover-bg-color: #434B5C;\n",
              "      --hover-fill-color: #FFFFFF;\n",
              "      --disabled-bg-color: #3B4455;\n",
              "      --disabled-fill-color: #666;\n",
              "  }\n",
              "\n",
              "  .colab-df-quickchart {\n",
              "    background-color: var(--bg-color);\n",
              "    border: none;\n",
              "    border-radius: 50%;\n",
              "    cursor: pointer;\n",
              "    display: none;\n",
              "    fill: var(--fill-color);\n",
              "    height: 32px;\n",
              "    padding: 0;\n",
              "    width: 32px;\n",
              "  }\n",
              "\n",
              "  .colab-df-quickchart:hover {\n",
              "    background-color: var(--hover-bg-color);\n",
              "    box-shadow: 0 1px 2px rgba(60, 64, 67, 0.3), 0 1px 3px 1px rgba(60, 64, 67, 0.15);\n",
              "    fill: var(--button-hover-fill-color);\n",
              "  }\n",
              "\n",
              "  .colab-df-quickchart-complete:disabled,\n",
              "  .colab-df-quickchart-complete:disabled:hover {\n",
              "    background-color: var(--disabled-bg-color);\n",
              "    fill: var(--disabled-fill-color);\n",
              "    box-shadow: none;\n",
              "  }\n",
              "\n",
              "  .colab-df-spinner {\n",
              "    border: 2px solid var(--fill-color);\n",
              "    border-color: transparent;\n",
              "    border-bottom-color: var(--fill-color);\n",
              "    animation:\n",
              "      spin 1s steps(1) infinite;\n",
              "  }\n",
              "\n",
              "  @keyframes spin {\n",
              "    0% {\n",
              "      border-color: transparent;\n",
              "      border-bottom-color: var(--fill-color);\n",
              "      border-left-color: var(--fill-color);\n",
              "    }\n",
              "    20% {\n",
              "      border-color: transparent;\n",
              "      border-left-color: var(--fill-color);\n",
              "      border-top-color: var(--fill-color);\n",
              "    }\n",
              "    30% {\n",
              "      border-color: transparent;\n",
              "      border-left-color: var(--fill-color);\n",
              "      border-top-color: var(--fill-color);\n",
              "      border-right-color: var(--fill-color);\n",
              "    }\n",
              "    40% {\n",
              "      border-color: transparent;\n",
              "      border-right-color: var(--fill-color);\n",
              "      border-top-color: var(--fill-color);\n",
              "    }\n",
              "    60% {\n",
              "      border-color: transparent;\n",
              "      border-right-color: var(--fill-color);\n",
              "    }\n",
              "    80% {\n",
              "      border-color: transparent;\n",
              "      border-right-color: var(--fill-color);\n",
              "      border-bottom-color: var(--fill-color);\n",
              "    }\n",
              "    90% {\n",
              "      border-color: transparent;\n",
              "      border-bottom-color: var(--fill-color);\n",
              "    }\n",
              "  }\n",
              "</style>\n",
              "\n",
              "  <script>\n",
              "    async function quickchart(key) {\n",
              "      const quickchartButtonEl =\n",
              "        document.querySelector('#' + key + ' button');\n",
              "      quickchartButtonEl.disabled = true;  // To prevent multiple clicks.\n",
              "      quickchartButtonEl.classList.add('colab-df-spinner');\n",
              "      try {\n",
              "        const charts = await google.colab.kernel.invokeFunction(\n",
              "            'suggestCharts', [key], {});\n",
              "      } catch (error) {\n",
              "        console.error('Error during call to suggestCharts:', error);\n",
              "      }\n",
              "      quickchartButtonEl.classList.remove('colab-df-spinner');\n",
              "      quickchartButtonEl.classList.add('colab-df-quickchart-complete');\n",
              "    }\n",
              "    (() => {\n",
              "      let quickchartButtonEl =\n",
              "        document.querySelector('#df-6bd4a76c-318d-410d-8c56-a0ec3aae9915 button');\n",
              "      quickchartButtonEl.style.display =\n",
              "        google.colab.kernel.accessAllowed ? 'block' : 'none';\n",
              "    })();\n",
              "  </script>\n",
              "</div>\n",
              "\n",
              "  <div id=\"id_58d25c16-1a72-4fa3-99a5-9d4e362be26c\">\n",
              "    <style>\n",
              "      .colab-df-generate {\n",
              "        background-color: #E8F0FE;\n",
              "        border: none;\n",
              "        border-radius: 50%;\n",
              "        cursor: pointer;\n",
              "        display: none;\n",
              "        fill: #1967D2;\n",
              "        height: 32px;\n",
              "        padding: 0 0 0 0;\n",
              "        width: 32px;\n",
              "      }\n",
              "\n",
              "      .colab-df-generate:hover {\n",
              "        background-color: #E2EBFA;\n",
              "        box-shadow: 0px 1px 2px rgba(60, 64, 67, 0.3), 0px 1px 3px 1px rgba(60, 64, 67, 0.15);\n",
              "        fill: #174EA6;\n",
              "      }\n",
              "\n",
              "      [theme=dark] .colab-df-generate {\n",
              "        background-color: #3B4455;\n",
              "        fill: #D2E3FC;\n",
              "      }\n",
              "\n",
              "      [theme=dark] .colab-df-generate:hover {\n",
              "        background-color: #434B5C;\n",
              "        box-shadow: 0px 1px 3px 1px rgba(0, 0, 0, 0.15);\n",
              "        filter: drop-shadow(0px 1px 2px rgba(0, 0, 0, 0.3));\n",
              "        fill: #FFFFFF;\n",
              "      }\n",
              "    </style>\n",
              "    <button class=\"colab-df-generate\" onclick=\"generateWithVariable('X_pca_df')\"\n",
              "            title=\"Generate code using this dataframe.\"\n",
              "            style=\"display:none;\">\n",
              "\n",
              "  <svg xmlns=\"http://www.w3.org/2000/svg\" height=\"24px\"viewBox=\"0 0 24 24\"\n",
              "       width=\"24px\">\n",
              "    <path d=\"M7,19H8.4L18.45,9,17,7.55,7,17.6ZM5,21V16.75L18.45,3.32a2,2,0,0,1,2.83,0l1.4,1.43a1.91,1.91,0,0,1,.58,1.4,1.91,1.91,0,0,1-.58,1.4L9.25,21ZM18.45,9,17,7.55Zm-12,3A5.31,5.31,0,0,0,4.9,8.1,5.31,5.31,0,0,0,1,6.5,5.31,5.31,0,0,0,4.9,4.9,5.31,5.31,0,0,0,6.5,1,5.31,5.31,0,0,0,8.1,4.9,5.31,5.31,0,0,0,12,6.5,5.46,5.46,0,0,0,6.5,12Z\"/>\n",
              "  </svg>\n",
              "    </button>\n",
              "    <script>\n",
              "      (() => {\n",
              "      const buttonEl =\n",
              "        document.querySelector('#id_58d25c16-1a72-4fa3-99a5-9d4e362be26c button.colab-df-generate');\n",
              "      buttonEl.style.display =\n",
              "        google.colab.kernel.accessAllowed ? 'block' : 'none';\n",
              "\n",
              "      buttonEl.onclick = () => {\n",
              "        google.colab.notebook.generateWithVariable('X_pca_df');\n",
              "      }\n",
              "      })();\n",
              "    </script>\n",
              "  </div>\n",
              "\n",
              "    </div>\n",
              "  </div>\n"
            ],
            "application/vnd.google.colaboratory.intrinsic+json": {
              "type": "dataframe",
              "variable_name": "X_pca_df",
              "summary": "{\n  \"name\": \"X_pca_df\",\n  \"rows\": 920,\n  \"fields\": [\n    {\n      \"column\": \"PC1\",\n      \"properties\": {\n        \"dtype\": \"number\",\n        \"std\": 1.6881119432748244,\n        \"min\": -4.127731160233652,\n        \"max\": 3.9409314780085354,\n        \"num_unique_values\": 918,\n        \"samples\": [\n          0.43599165157226166,\n          0.4788393307393303,\n          1.1957922217283636\n        ],\n        \"semantic_type\": \"\",\n        \"description\": \"\"\n      }\n    },\n    {\n      \"column\": \"PC2\",\n      \"properties\": {\n        \"dtype\": \"number\",\n        \"std\": 1.468693453138911,\n        \"min\": -2.40527568062974,\n        \"max\": 4.509267499675787,\n        \"num_unique_values\": 918,\n        \"samples\": [\n          -0.337383484639237,\n          3.0296631489143313,\n          -1.4023383286124185\n        ],\n        \"semantic_type\": \"\",\n        \"description\": \"\"\n      }\n    },\n    {\n      \"column\": \"PC3\",\n      \"properties\": {\n        \"dtype\": \"number\",\n        \"std\": 1.3396746433852997,\n        \"min\": -3.7391994560489947,\n        \"max\": 2.87742266515238,\n        \"num_unique_values\": 918,\n        \"samples\": [\n          0.33627301501272183,\n          -1.724216701787946,\n          0.5113324571184134\n        ],\n        \"semantic_type\": \"\",\n        \"description\": \"\"\n      }\n    },\n    {\n      \"column\": \"PC4\",\n      \"properties\": {\n        \"dtype\": \"number\",\n        \"std\": 1.2102580757967185,\n        \"min\": -3.616040212293254,\n        \"max\": 4.207567669952059,\n        \"num_unique_values\": 918,\n        \"samples\": [\n          -1.3889351428635863,\n          2.1983523616547678,\n          1.1914079566864266\n        ],\n        \"semantic_type\": \"\",\n        \"description\": \"\"\n      }\n    },\n    {\n      \"column\": \"PC5\",\n      \"properties\": {\n        \"dtype\": \"number\",\n        \"std\": 1.1441136625492054,\n        \"min\": -3.289780501976353,\n        \"max\": 3.380678894301402,\n        \"num_unique_values\": 918,\n        \"samples\": [\n          0.2794332317298678,\n          3.2478444316545976,\n          -0.40574611144025835\n        ],\n        \"semantic_type\": \"\",\n        \"description\": \"\"\n      }\n    },\n    {\n      \"column\": \"PC6\",\n      \"properties\": {\n        \"dtype\": \"number\",\n        \"std\": 1.1087244504049918,\n        \"min\": -2.612568601501402,\n        \"max\": 3.1479120576376993,\n        \"num_unique_values\": 918,\n        \"samples\": [\n          1.4735764921847831,\n          -1.0758404738005294,\n          -0.6097164744099266\n        ],\n        \"semantic_type\": \"\",\n        \"description\": \"\"\n      }\n    },\n    {\n      \"column\": \"PC7\",\n      \"properties\": {\n        \"dtype\": \"number\",\n        \"std\": 1.0717861412285865,\n        \"min\": -3.2479780853624147,\n        \"max\": 5.225647333760415,\n        \"num_unique_values\": 918,\n        \"samples\": [\n          1.1714818073060147,\n          4.210079900037474,\n          0.1806145191373802\n        ],\n        \"semantic_type\": \"\",\n        \"description\": \"\"\n      }\n    },\n    {\n      \"column\": \"PC8\",\n      \"properties\": {\n        \"dtype\": \"number\",\n        \"std\": 1.0240635287154591,\n        \"min\": -3.6761455883427074,\n        \"max\": 5.233492972425097,\n        \"num_unique_values\": 918,\n        \"samples\": [\n          0.3269713137731312,\n          -0.956081429421064,\n          0.625811977325073\n        ],\n        \"semantic_type\": \"\",\n        \"description\": \"\"\n      }\n    },\n    {\n      \"column\": \"PC9\",\n      \"properties\": {\n        \"dtype\": \"number\",\n        \"std\": 1.005695704908007,\n        \"min\": -4.265124833776039,\n        \"max\": 2.856293410587653,\n        \"num_unique_values\": 918,\n        \"samples\": [\n          -0.6213384355342084,\n          -0.6758165740576595,\n          2.1846047508503346\n        ],\n        \"semantic_type\": \"\",\n        \"description\": \"\"\n      }\n    },\n    {\n      \"column\": \"PC10\",\n      \"properties\": {\n        \"dtype\": \"number\",\n        \"std\": 0.9895871534139676,\n        \"min\": -3.6808325861767766,\n        \"max\": 3.96821138160301,\n        \"num_unique_values\": 918,\n        \"samples\": [\n          0.2877776125336442,\n          1.3520198448811382,\n          -1.2093317738576075\n        ],\n        \"semantic_type\": \"\",\n        \"description\": \"\"\n      }\n    }\n  ]\n}"
            }
          },
          "metadata": {},
          "execution_count": 75
        }
      ],
      "source": [
        "\n",
        "\n",
        "# Convert PCA results into DataFrame\n",
        "X_pca_df = pd.DataFrame(X_pca, columns=[f'PC{i+1}' for i in range(10)])\n",
        "X_pca_df\n",
        "#"
      ]
    },
    {
      "cell_type": "code",
      "execution_count": null,
      "metadata": {
        "id": "NR8fdx26auyR",
        "colab": {
          "base_uri": "https://localhost:8080/"
        },
        "outputId": "3a2bde75-891f-4f37-bf78-410861937ff3"
      },
      "outputs": [
        {
          "output_type": "stream",
          "name": "stdout",
          "text": [
            "Least important features: [ 0  1  4  6  7  5 16 15 14  2  9 13 11 18  3 12  8 17 19 10]\n"
          ]
        },
        {
          "output_type": "execute_result",
          "data": {
            "text/plain": [
              "20"
            ]
          },
          "metadata": {},
          "execution_count": 76
        }
      ],
      "source": [
        "# Get the feature importance\n",
        "feature_importance = np.abs(pca.components_)\n",
        "\n",
        "# Get the average feature importance across all components\n",
        "avg_importance = np.mean(feature_importance, axis=0)\n",
        "\n",
        "# Get the indices of the least important features\n",
        "least_important_features = np.argsort(avg_importance)\n",
        "\n",
        "# Print the least important features\n",
        "print(\"Least important features:\", least_important_features)\n",
        "\n",
        "len(least_important_features )"
      ]
    },
    {
      "cell_type": "markdown",
      "metadata": {
        "id": "qFgwMU-MJ-WK"
      },
      "source": [
        "**SDA.**"
      ]
    },
    {
      "cell_type": "code",
      "execution_count": null,
      "metadata": {
        "id": "1y6zc60JWpwc"
      },
      "outputs": [],
      "source": [
        "\n",
        "#df_cleaned['sex'] = df_cleaned['sex'].map({'Male': 1, 'Female': 0})  # Numeric encoding"
      ]
    },
    {
      "cell_type": "code",
      "execution_count": null,
      "metadata": {
        "id": "uFabBRplsjjG",
        "colab": {
          "base_uri": "https://localhost:8080/",
          "height": 277
        },
        "outputId": "466637bb-6f5d-4216-ca10-1e0bf54a888d"
      },
      "outputs": [
        {
          "output_type": "stream",
          "name": "stderr",
          "text": [
            "<ipython-input-78-4c6ad05e54b5>:2: FutureWarning: \n",
            "\n",
            "Passing `palette` without assigning `hue` is deprecated and will be removed in v0.14.0. Assign the `x` variable to `hue` and set `legend=False` for the same effect.\n",
            "\n",
            "  sns.boxplot(data=df, x='num', y='chol', palette='coolwarm')\n"
          ]
        },
        {
          "output_type": "display_data",
          "data": {
            "text/plain": [
              "<Figure size 1000x500 with 1 Axes>"
            ],
            "image/png": "[encoded data removed]"
          },
          "metadata": {}
        }
      ],
      "source": [
        "plt.figure(figsize=(10, 5))\n",
        "sns.boxplot(data=df, x='num', y='chol', palette='coolwarm')\n",
        "plt.title('Cholesterol Levels by Heart Disease Severity')\n",
        "plt.xlabel('Heart Disease Severity')\n",
        "plt.ylabel('Cholesterol (mg/dL)')\n",
        "plt.figtext(0.15, 0.01, 'Note: Higher cholesterol levels are associated with more severe heart disease.\\n\"o\" indicates outliers beyond typical data ranges.', ha='left', fontsize=10)\n",
        "plt.show()"
      ]
    },
    {
      "cell_type": "code",
      "execution_count": null,
      "metadata": {
        "id": "riqnpqhHsxND",
        "colab": {
          "base_uri": "https://localhost:8080/",
          "height": 170
        },
        "outputId": "e3d6831b-c28e-4659-8742-acaedce1e258"
      },
      "outputs": [
        {
          "output_type": "display_data",
          "data": {
            "text/plain": [
              "<Figure size 1000x500 with 1 Axes>"
            ],
            "image/png": "[encoded data removed]"
          },
          "metadata": {}
        }
      ],
      "source": [
        "plt.figure(figsize=(10, 5))\n",
        "sns.boxplot(data=df, x='num', y='trestbps', hue = 'num', palette='coolwarm')\n",
        "plt.title('Resting Blood Pressure by Heart Disease Severity')\n",
        "plt.xlabel('Heart Disease Severity')\n",
        "plt.ylabel('Resting Blood Pressure (mmHg)')\n",
        "plt.figtext(0.15, 0.01, 'Note: Higher resting blood pressure is linked to higher heart disease severity.\\n\"o\" indicates outliers in blood pressure measurements.', ha='left', fontsize=10)\n",
        "plt.show()"
      ]
    },
    {
      "cell_type": "code",
      "execution_count": null,
      "metadata": {
        "id": "jr4eczJ1vdup",
        "colab": {
          "base_uri": "https://localhost:8080/",
          "height": 168
        },
        "outputId": "cdbcff59-4fa4-4f5f-a4e5-4e72b56b436a"
      },
      "outputs": [
        {
          "output_type": "display_data",
          "data": {
            "text/plain": [
              "<Figure size 1000x500 with 1 Axes>"
            ],
            "image/png": "[encoded data removed]"
          },
          "metadata": {}
        }
      ],
      "source": [
        "plt.figure(figsize=(10, 5))\n",
        "sns.barplot(data=df, x='sex', y='age', hue='num', palette='coolwarm')\n",
        "plt.title('Average Age by Sex and Heart Disease Severity')\n",
        "plt.xlabel('Sex')\n",
        "plt.ylabel('Average Age')\n",
        "plt.show()"
      ]
    },
    {
      "cell_type": "code",
      "execution_count": null,
      "metadata": {
        "id": "en8NqBa4vm1H",
        "colab": {
          "base_uri": "https://localhost:8080/",
          "height": 167
        },
        "outputId": "f97fd561-309a-454d-8153-eb757c79afee"
      },
      "outputs": [
        {
          "output_type": "display_data",
          "data": {
            "text/plain": [
              "<Figure size 1000x500 with 1 Axes>"
            ],
            "image/png": "[encoded data removed]"
          },
          "metadata": {}
        }
      ],
      "source": [
        "plt.figure(figsize=(10, 5))\n",
        "sns.countplot(data=df, x='num', hue='num', palette='coolwarm')\n",
        "plt.title('Heart Disease Severity Distribution')\n",
        "plt.xlabel('Severity Level')\n",
        "plt.ylabel('Count')\n",
        "plt.show()"
      ]
    },
    {
      "cell_type": "code",
      "execution_count": null,
      "metadata": {
        "id": "2cvsO4KzxxqG",
        "colab": {
          "base_uri": "https://localhost:8080/",
          "height": 198
        },
        "outputId": "038277f5-77a0-4958-c3cd-1aa022556a7a"
      },
      "outputs": [
        {
          "output_type": "display_data",
          "data": {
            "text/plain": [
              "<Figure size 1000x600 with 1 Axes>"
            ],
            "image/png": "[encoded data removed]"
          },
          "metadata": {}
        }
      ],
      "source": [
        "plt.figure(figsize=(10, 6))\n",
        "sns.scatterplot(data=df, x='age', y='chol', hue='num', palette='coolwarm', alpha=0.7)\n",
        "plt.title('Age vs. Cholesterol Levels')\n",
        "plt.xlabel('Age')\n",
        "plt.ylabel('Cholesterol (mg/dL)')\n",
        "plt.figtext(0.15, 0.01, 'Note: Each point represents an individual observation. Colors indicate severity levels.', ha='left', fontsize=10)\n",
        "plt.show()"
      ]
    },
    {
      "cell_type": "code",
      "execution_count": null,
      "metadata": {
        "id": "yfVHhjhfgp5H",
        "colab": {
          "base_uri": "https://localhost:8080/",
          "height": 307
        },
        "outputId": "081d4afe-e3d4-484e-cd15-1eddecb5c42e"
      },
      "outputs": [
        {
          "output_type": "display_data",
          "data": {
            "text/plain": [
              "<Figure size 1000x800 with 2 Axes>"
            ],
            "image/png": "[encoded data removed]"
          },
          "metadata": {}
        }
      ],
      "source": [
        "# Correlation Heatmap with explanation\n",
        "plt.figure(figsize=(10, 8))\n",
        "corr_matrix = df_cleaned.select_dtypes(include=['float64', 'int64']).corr()\n",
        "sns.heatmap(corr_matrix, annot=True, cmap='coolwarm', fmt=\".2f\")\n",
        "plt.title('Correlation Heatmap')\n",
        "plt.figtext(0.5, -0.1,\n",
        "            'Features like thalach (maximum heart rate), oldpeak (ST depression),\\n'\n",
        "            'and ca (number of major vessels) show notable correlations with heart disease severity.',\n",
        "            ha='center', fontsize=10)\n",
        "plt.show()"
      ]
    },
    {
      "cell_type": "code",
      "execution_count": null,
      "metadata": {
        "id": "aqRKbPitjL1q",
        "colab": {
          "base_uri": "https://localhost:8080/",
          "height": 252
        },
        "outputId": "a2794141-4ca0-4bb1-86f4-0a15ba524be7"
      },
      "outputs": [
        {
          "output_type": "stream",
          "name": "stderr",
          "text": [
            "<ipython-input-84-fb294060633b>:3: FutureWarning: The default of observed=False is deprecated and will be changed to True in a future version of pandas. Pass observed=False to retain current behavior or observed=True to adopt the future default and silence this warning.\n",
            "  age_counts = df.groupby(['age_group', 'num']).size().reset_index(name='count')\n"
          ]
        },
        {
          "output_type": "display_data",
          "data": {
            "text/plain": [
              "<Figure size 1000x600 with 1 Axes>"
            ],
            "image/png": "[encoded data removed]"
          },
          "metadata": {}
        }
      ],
      "source": [
        "\n",
        "plt.figure(figsize=(10, 6))\n",
        "df['age_group'] = pd.cut(df['age'], bins=range(20, 90, 10), labels=[f'{i}-{i+9}' for i in range(20, 80, 10)])\n",
        "age_counts = df.groupby(['age_group', 'num']).size().reset_index(name='count')\n",
        "sns.barplot(data=age_counts, x='age_group', y='count', hue='num', palette='coolwarm')\n",
        "plt.title('Age Distribution by Heart Disease Severity (Bar Chart)')\n",
        "plt.xlabel('Age Group')\n",
        "plt.ylabel('Count')\n",
        "plt.figtext(0.15, 0.01, 'Note: Bars represent the number of individuals within each age group and severity category.', ha='left', fontsize=10)\n",
        "plt.show()"
      ]
    },
    {
      "cell_type": "markdown",
      "metadata": {
        "id": "p5JPwZAo0zwU"
      },
      "source": [
        "**HANDLING IMBALANCE (OVERSAMPLING).**"
      ]
    },
    {
      "cell_type": "code",
      "execution_count": null,
      "metadata": {
        "id": "NgbhT11fR3T-",
        "colab": {
          "base_uri": "https://localhost:8080/"
        },
        "outputId": "ad2fd9d3-4046-4ccc-ba64-a1e284d4d9af"
      },
      "outputs": [
        {
          "output_type": "execute_result",
          "data": {
            "text/plain": [
              "(920, 10)"
            ]
          },
          "metadata": {},
          "execution_count": 85
        }
      ],
      "source": [
        "X_pca.shape"
      ]
    },
    {
      "cell_type": "code",
      "execution_count": null,
      "metadata": {
        "id": "BX9H3TAV-OOi"
      },
      "outputs": [],
      "source": [
        "# 5. Handle Class Imbalance using SMOTE\n",
        "smote = SMOTE(random_state=42)\n",
        "X_resampled, y_resampled = smote.fit_resample(X_pca, y)"
      ]
    },
    {
      "cell_type": "code",
      "execution_count": null,
      "metadata": {
        "id": "rGLwi4pSuGKZ",
        "colab": {
          "base_uri": "https://localhost:8080/"
        },
        "outputId": "04743846-ce8f-4e3e-e75b-d0342ab4b230"
      },
      "outputs": [
        {
          "output_type": "execute_result",
          "data": {
            "text/plain": [
              "((2055, 10), numpy.ndarray)"
            ]
          },
          "metadata": {},
          "execution_count": 87
        }
      ],
      "source": [
        "\n",
        "\n",
        "X_resampled.shape, type(X_resampled)"
      ]
    },
    {
      "cell_type": "code",
      "execution_count": null,
      "metadata": {
        "id": "1d6oAX67OlhV",
        "colab": {
          "base_uri": "https://localhost:8080/",
          "height": 167
        },
        "outputId": "bc71aa76-9ef4-4743-8a74-e9a9cde0b020"
      },
      "outputs": [
        {
          "output_type": "display_data",
          "data": {
            "text/plain": [
              "<Figure size 1000x500 with 1 Axes>"
            ],
            "image/png": "[encoded data removed]"
          },
          "metadata": {}
        }
      ],
      "source": [
        "# Visualize Class Distribution Before SMOTE\n",
        "plt.figure(figsize=(10, 5))\n",
        "sns.countplot(x=y, hue=y, palette='Blues', edgecolor='black' )\n",
        "plt.title('Class Distribution Before SMOTE')\n",
        "plt.xlabel('Heart Disease Severity')\n",
        "plt.ylabel('Count')\n",
        "plt.show()"
      ]
    },
    {
      "cell_type": "code",
      "execution_count": null,
      "metadata": {
        "id": "-LUD14BKOlmm",
        "colab": {
          "base_uri": "https://localhost:8080/",
          "height": 167
        },
        "outputId": "f9580d5d-1329-46a8-d45a-2155ed534114"
      },
      "outputs": [
        {
          "output_type": "display_data",
          "data": {
            "text/plain": [
              "<Figure size 1000x500 with 1 Axes>"
            ],
            "image/png": "[encoded data removed]"
          },
          "metadata": {}
        }
      ],
      "source": [
        "# Visualize Class Distribution After SMOTE\n",
        "plt.figure(figsize=(10, 5))\n",
        "sns.countplot(x=y_resampled, hue=y_resampled, palette='coolwarm', edgecolor='black')\n",
        "plt.title('Class Distribution After SMOTE')\n",
        "plt.xlabel('Heart Disease Severity')\n",
        "plt.ylabel('Count')\n",
        "plt.show()"
      ]
    },
    {
      "cell_type": "markdown",
      "metadata": {
        "id": "E4MuwVAVzbot"
      },
      "source": [
        "**DATA SPLITTING.**"
      ]
    },
    {
      "cell_type": "code",
      "execution_count": null,
      "metadata": {
        "id": "LQpgoMPa1gU4"
      },
      "outputs": [],
      "source": [
        "# 6. Train-Test Split\n",
        "#X_train, X_test, y_train, y_test = train_test_split(X_resampled, y_resampled, test_size=0.3, random_state=42)"
      ]
    },
    {
      "cell_type": "code",
      "execution_count": null,
      "metadata": {
        "id": "qGwXYnHkruU0"
      },
      "outputs": [],
      "source": [
        "\n",
        "\n",
        "X_train, X_temp, y_train, y_temp = train_test_split(X_resampled, y_resampled, test_size=0.3, random_state=42) #temp values"
      ]
    },
    {
      "cell_type": "code",
      "execution_count": null,
      "metadata": {
        "id": "wKy4nSMXkVzI",
        "colab": {
          "base_uri": "https://localhost:8080/"
        },
        "outputId": "7374cb7c-3a9d-4f9e-f02e-507a13f1f305"
      },
      "outputs": [
        {
          "output_type": "execute_result",
          "data": {
            "text/plain": [
              "((1438, 10), (617, 10))"
            ]
          },
          "metadata": {},
          "execution_count": 92
        }
      ],
      "source": [
        "X_train.shape, X_temp.shape"
      ]
    },
    {
      "cell_type": "code",
      "execution_count": null,
      "metadata": {
        "id": "SnJ600VtvdM8"
      },
      "outputs": [],
      "source": [
        "X_val, X_test, y_val, y_test = train_test_split(X_temp, y_temp, test_size=0.5, random_state=42) #validat values"
      ]
    },
    {
      "cell_type": "code",
      "execution_count": null,
      "metadata": {
        "id": "YP5YjwxJiOvt",
        "colab": {
          "base_uri": "https://localhost:8080/"
        },
        "outputId": "8b2fa124-580f-4f84-dce7-56e7df9b12c5"
      },
      "outputs": [
        {
          "output_type": "execute_result",
          "data": {
            "text/plain": [
              "((1438, 10), (308, 10), (309, 10))"
            ]
          },
          "metadata": {},
          "execution_count": 94
        }
      ],
      "source": [
        "X_train.shape, X_val.shape, X_test.shape"
      ]
    },
    {
      "cell_type": "code",
      "execution_count": null,
      "metadata": {
        "id": "THYqZUamWscx",
        "colab": {
          "base_uri": "https://localhost:8080/"
        },
        "outputId": "3325c832-0623-4350-e852-bd39557cf4b9"
      },
      "outputs": [
        {
          "output_type": "execute_result",
          "data": {
            "text/plain": [
              "array([[-0.34051835, -1.8769011 ,  0.9909763 , ...,  0.4557454 ,\n",
              "         1.23369112, -0.07584578],\n",
              "       [ 3.10997265, -0.64562935,  1.69229055, ...,  0.16608555,\n",
              "        -0.66791177, -0.39980784],\n",
              "       [ 1.8703437 ,  1.52663565,  0.03299043, ...,  0.46096362,\n",
              "        -0.02785509, -0.51432035],\n",
              "       ...,\n",
              "       [-1.26866298, -1.66367486, -1.71635047, ..., -0.30589446,\n",
              "        -0.71005794,  0.3031565 ],\n",
              "       [-0.28125927, -1.47390972, -2.37487734, ...,  0.20120217,\n",
              "         0.31861811,  0.37705172],\n",
              "       [-3.64753544,  1.29579399,  0.14720147, ...,  0.49484159,\n",
              "         2.28323434, -1.0195664 ]])"
            ]
          },
          "metadata": {},
          "execution_count": 95
        }
      ],
      "source": [
        "#X_train.info()\n",
        "X_train"
      ]
    },
    {
      "cell_type": "code",
      "execution_count": null,
      "metadata": {
        "id": "j45KcY4SXSRb",
        "colab": {
          "base_uri": "https://localhost:8080/"
        },
        "outputId": "3843e4c2-9e07-4d1f-f58b-d4a974b30e11"
      },
      "outputs": [
        {
          "output_type": "stream",
          "name": "stdout",
          "text": [
            "Shape: (1438, 10)\n",
            "Size: 14380\n",
            "Data type: float64\n"
          ]
        }
      ],
      "source": [
        "print(\"Shape:\", X_train.shape)\n",
        "print(\"Size:\", X_train.size)\n",
        "print(\"Data type:\", X_train.dtype)"
      ]
    },
    {
      "cell_type": "markdown",
      "metadata": {
        "id": "jhw4WkMUXryc"
      },
      "source": [
        "\n",
        "\n",
        "**MODELING.**"
      ]
    },
    {
      "cell_type": "code",
      "execution_count": null,
      "metadata": {
        "id": "IN6o0YhdB8f5"
      },
      "outputs": [],
      "source": [
        "from sklearn.metrics import f1_score, roc_auc_score"
      ]
    },
    {
      "cell_type": "code",
      "execution_count": null,
      "metadata": {
        "id": "7uhmxvikzmk_"
      },
      "outputs": [],
      "source": [
        "\n",
        "# DEFAULT INITIALIZATION OF MODELS.\n",
        "\n",
        "models1 = {\n",
        "    'Gradient Boosting': GradientBoostingClassifier(random_state=42),\n",
        "    'Neural Network': MLPClassifier(random_state=42),\n",
        "    'Random Forest': RandomForestClassifier(random_state=42)\n",
        "}"
      ]
    },
    {
      "cell_type": "code",
      "execution_count": null,
      "metadata": {
        "id": "2YpbiSvL0BfH"
      },
      "outputs": [],
      "source": [
        "\n",
        "models_list1 = {}"
      ]
    },
    {
      "cell_type": "code",
      "execution_count": null,
      "metadata": {
        "id": "9HOujVMA0SWh",
        "colab": {
          "base_uri": "https://localhost:8080/"
        },
        "outputId": "cd6425ee-55c6-458d-be2f-25eb70d88480"
      },
      "outputs": [
        {
          "output_type": "stream",
          "name": "stdout",
          "text": [
            "DEFAULT-MODE METRICATION.\n",
            "Gradient Boosting Accuracy: 0.66233766\n"
          ]
        },
        {
          "output_type": "stream",
          "name": "stderr",
          "text": [
            "/usr/local/lib/python3.11/dist-packages/sklearn/neural_network/_multilayer_perceptron.py:691: ConvergenceWarning: Stochastic Optimizer: Maximum iterations (200) reached and the optimization hasn't converged yet.\n",
            "  warnings.warn(\n"
          ]
        },
        {
          "output_type": "stream",
          "name": "stdout",
          "text": [
            "Neural Network Accuracy: 0.70129870\n",
            "Random Forest Accuracy: 0.82142857\n"
          ]
        }
      ],
      "source": [
        "\n",
        "print(\"DEFAULT-MODE METRICATION.\")\n",
        "\n",
        "for name1, model1 in models1.items():\n",
        "    model1.fit(X_train, y_train)\n",
        "    y_pred_val1 = model1.predict(X_val)\n",
        "    accuracy1 = accuracy_score(y_val, y_pred_val1)\n",
        "    models_list1[name1] = {'model': model1, 'accuracy': accuracy1}\n",
        "    print(f\"{name1} Accuracy: {accuracy1:.8f}\")\n",
        "#"
      ]
    },
    {
      "cell_type": "code",
      "execution_count": null,
      "metadata": {
        "id": "OeZiYdKM5ElT",
        "colab": {
          "base_uri": "https://localhost:8080/"
        },
        "outputId": "20aef37c-65b8-46d1-8307-53156070f053"
      },
      "outputs": [
        {
          "output_type": "stream",
          "name": "stdout",
          "text": [
            "{'Gradient Boosting': {'model': GradientBoostingClassifier(random_state=42), 'accuracy': 0.6623376623376623}, 'Neural Network': {'model': MLPClassifier(random_state=42), 'accuracy': 0.7012987012987013}, 'Random Forest': {'model': RandomForestClassifier(random_state=42), 'accuracy': 0.8214285714285714}}\n"
          ]
        }
      ],
      "source": [
        "\n",
        "\n",
        "print(models_list1)"
      ]
    },
    {
      "cell_type": "code",
      "execution_count": null,
      "metadata": {
        "id": "cTBA-y4yDowv",
        "colab": {
          "base_uri": "https://localhost:8080/"
        },
        "outputId": "966c9005-24e3-4bec-cf41-9fc981967ab7"
      },
      "outputs": [
        {
          "output_type": "stream",
          "name": "stdout",
          "text": [
            "Best Model: Random Forest, Accuracy: 0.82\n"
          ]
        }
      ],
      "source": [
        "\n",
        "best_model_name = max(models_list1, key=lambda x: models_list1[x]['accuracy'])\n",
        "best_model1 = models_list1[best_model_name]['model']\n",
        "print(f\"Best Model: {best_model_name}, Accuracy: {models_list1[best_model_name]['accuracy']:.2f}\")"
      ]
    },
    {
      "cell_type": "code",
      "execution_count": null,
      "metadata": {
        "id": "GxrbqR1iLTO1"
      },
      "outputs": [],
      "source": [
        "# DEFINE CUSTOM HYPERPARAMETER DICTIONARIES.\n",
        "params = {\n",
        "    'Random Forest': {\n",
        "\n",
        "    },\n",
        "    'Gradient Boosting': {\n",
        "        'n_estimators': 200,\n",
        "        'learning_rate': 0.05,\n",
        "        'max_depth': 5,\n",
        "        'min_samples_split': 5,\n",
        "        'min_samples_leaf': 2,\n",
        "        'random_state': 42\n",
        "    },\n",
        "    'Neural Network': {\n",
        "    'max_iter': 2000,\n",
        "    }\n",
        "}"
      ]
    },
    {
      "cell_type": "code",
      "execution_count": null,
      "metadata": {
        "id": "lK40bd9XLvHx"
      },
      "outputs": [],
      "source": [
        "# DEFINE CUSTOM INITIALIZED MODELS.\n",
        "models = {\n",
        "    'Random Forest': RandomForestClassifier(**params['Random Forest']),\n",
        "    'Gradient Boosting': GradientBoostingClassifier(**params['Gradient Boosting']),\n",
        "    'Neural Network': MLPClassifier(**params['Neural Network'])\n",
        "}"
      ]
    },
    {
      "cell_type": "code",
      "execution_count": null,
      "metadata": {
        "id": "41_MGxq2yolY"
      },
      "outputs": [],
      "source": [
        "best_models = {}"
      ]
    },
    {
      "cell_type": "code",
      "execution_count": null,
      "metadata": {
        "id": "8RnxbV8uDVaO",
        "colab": {
          "base_uri": "https://localhost:8080/"
        },
        "outputId": "4cbd7e57-3758-4969-edd3-5b4fd699ffd9"
      },
      "outputs": [
        {
          "output_type": "stream",
          "name": "stdout",
          "text": [
            "CUSTOM-MODE METRICATION (ACCURACY).\n",
            "Random Forest Accuracy: 0.81168831\n",
            "F1 score (macro): 0.8076932527396924\n",
            "F1 score (micro): 0.8116883116883117\n",
            "F1 score (weighted): 0.8059270481594675\n",
            "Gradient Boosting Accuracy: 0.71103896\n",
            "F1 score (macro): 0.7082844428298973\n",
            "F1 score (micro): 0.711038961038961\n",
            "F1 score (weighted): 0.7065936555901137\n",
            "Neural Network Accuracy: 0.74350649\n",
            "F1 score (macro): 0.7392215187514772\n",
            "F1 score (micro): 0.7435064935064936\n",
            "F1 score (weighted): 0.7373929926361916\n"
          ]
        }
      ],
      "source": [
        "\n",
        "\n",
        "print(\"CUSTOM-MODE METRICATION (ACCURACY).\")\n",
        "\n",
        "for name, model in models.items():\n",
        "    model.fit(X_train, y_train)\n",
        "    y_pred_val = model.predict(X_val)\n",
        "    accuracy = accuracy_score(y_val, y_pred_val)\n",
        "    best_models[name] = {'model': model, 'accuracy': accuracy}\n",
        "    print(f\"{name} Accuracy: {accuracy:.8f}\")\n",
        "    print(\"F1 score (macro):\", f1_score(y_val, y_pred_val, average='macro'))\n",
        "    print(\"F1 score (micro):\", f1_score(y_val, y_pred_val, average='micro'))\n",
        "    print(\"F1 score (weighted):\", f1_score(y_val, y_pred_val, average='weighted')\n",
        ")"
      ]
    },
    {
      "cell_type": "code",
      "execution_count": null,
      "metadata": {
        "id": "ao18jxNH8XAB",
        "colab": {
          "base_uri": "https://localhost:8080/"
        },
        "outputId": "fb0491e9-6814-421d-ebd3-cb68d8998c33"
      },
      "outputs": [
        {
          "output_type": "stream",
          "name": "stdout",
          "text": [
            "{'Random Forest': {'model': RandomForestClassifier(), 'accuracy': 0.8116883116883117}, 'Gradient Boosting': {'model': GradientBoostingClassifier(learning_rate=0.05, max_depth=5, min_samples_leaf=2,\n",
            "                           min_samples_split=5, n_estimators=200,\n",
            "                           random_state=42), 'accuracy': 0.711038961038961}, 'Neural Network': {'model': MLPClassifier(max_iter=2000), 'accuracy': 0.7435064935064936}}\n"
          ]
        }
      ],
      "source": [
        "print(best_models)"
      ]
    },
    {
      "cell_type": "code",
      "execution_count": null,
      "metadata": {
        "id": "1eUAR1qlMjeW",
        "colab": {
          "base_uri": "https://localhost:8080/"
        },
        "outputId": "82d324b9-d899-4b9e-871e-be70bb5e116b"
      },
      "outputs": [
        {
          "output_type": "stream",
          "name": "stdout",
          "text": [
            "Best Model: Random Forest (Accuracy: 0.81)\n"
          ]
        }
      ],
      "source": [
        "best_model_name = max(best_models, key=lambda x: best_models[x]['accuracy'])\n",
        "best_model = best_models[best_model_name]['model']\n",
        "print(f\"Best Model: {best_model_name} (Accuracy: {best_models[best_model_name]['accuracy']:.2f})\")"
      ]
    },
    {
      "cell_type": "code",
      "execution_count": null,
      "metadata": {
        "id": "JOmE7xzaPIP8",
        "colab": {
          "base_uri": "https://localhost:8080/"
        },
        "outputId": "ff546f72-865b-4f6c-cf19-da3151ca17ec"
      },
      "outputs": [
        {
          "output_type": "stream",
          "name": "stdout",
          "text": [
            "Couldn't find program: 'no'\n"
          ]
        }
      ],
      "source": [
        "%%script no\n",
        "# RANDOMSEARCHCV PARAMETERS DICT.\n",
        "#\n",
        "from sklearn.model_selection import RandomizedSearchCV\n",
        "\n",
        "# Define the parameter grid for RandomizedSearchCV\n",
        "gs_params = {\n",
        "    'par_rf': {\n",
        "        'n_estimators': [100, 200, 300, 400],\n",
        "        'max_depth': [5, 10, 15, 20, 30, None],\n",
        "        'min_samples_split': [2, 5, 10],\n",
        "        'min_samples_leaf': [1, 2, 4],\n",
        "        'random_state': [42]\n",
        "    },\n",
        "    'par_gb': {\n",
        "        'n_estimators': [100, 200, 300, 400],\n",
        "        'learning_rate': [0.01, 0.05, 0.1, 0.2, 0.5],\n",
        "        'max_depth': [3, 4, 5, 7, 9],\n",
        "        'min_samples_split': [2, 5, 10],\n",
        "        'min_samples_leaf': [1, 2, 4],\n",
        "        'random_state': [42]\n",
        "    },\n",
        "    'par_nn': {\n",
        "        'hidden_layer_sizes': [(50,), (100,), (100, 50), (200, 100), (300, 150)],\n",
        "        'activation': ['tanh', 'relu'],\n",
        "        'solver': ['sgd', 'adam', 'lbfgs'],\n",
        "        'alpha': [0.01, 0.001, 0.0001],\n",
        "        'learning_rate_init': [0.01, 0.001, 0.0001],\n",
        "        'max_iter': [500, 1000, 2000],\n",
        "        'random_state': [42]\n",
        "    }\n",
        "}"
      ]
    },
    {
      "cell_type": "code",
      "execution_count": null,
      "metadata": {
        "id": "ih6lF6o3PjAJ",
        "colab": {
          "base_uri": "https://localhost:8080/"
        },
        "outputId": "2645f261-6cb2-4d04-ae9f-d3c38dd58e5e"
      },
      "outputs": [
        {
          "output_type": "stream",
          "name": "stdout",
          "text": [
            "Couldn't find program: 'no'\n"
          ]
        }
      ],
      "source": [
        "\n",
        "\n",
        "%%script no\n",
        "# Perform RandomizedSearchCV for each model\n",
        "for name, params in params.items():\n",
        "    model = models[name]\n",
        "    randomized_search = RandomizedSearchCV(model, param_grid_random[name], cv=5, scoring='accuracy', n_iter=10)\n",
        "    randomized_search.fit(X_train, y_train)\n",
        "    print(f\"Best Parameters for {name}: {randomized_search.best_params_}\")\n",
        "    print(f\"Best Score for {name}: {randomized_search.best_score_}\")\n",
        "#"
      ]
    },
    {
      "cell_type": "code",
      "execution_count": null,
      "metadata": {
        "id": "mxOIfnR561qn",
        "colab": {
          "base_uri": "https://localhost:8080/"
        },
        "outputId": "fe2a4740-6892-4b6a-e7be-14aea7190001"
      },
      "outputs": [
        {
          "output_type": "stream",
          "name": "stdout",
          "text": [
            "Couldn't find program: 'no'\n"
          ]
        }
      ],
      "source": [
        "\n",
        "%%script no\n",
        "# Tune models via RandomizedSearchCV.\n",
        "\n",
        "rf_grid = RandomizedSearchCV(RandomForestClassifier(random_state=42), gs_params['par_rf'], cv=3, n_iter=10, n_jobs=-1)\n",
        "rf_grid.fit(X_train, y_train)\n",
        "\n",
        "gb_grid = RandomizedSearchCV(GradientBoostingClassifier(random_state=42), gs_params['par_gb'], cv=3, n_iter=10, n_jobs=-1)\n",
        "gb_grid.fit(X_train, y_train)\n",
        "\n",
        "nn_grid = RandomizedSearchCV(MLPClassifier(max_iter=500, random_state=42), gs_params['par_nn'], cv=3, n_iter=10, n_jobs=-1)\n",
        "nn_grid.fit(X_train, y_train)"
      ]
    },
    {
      "cell_type": "code",
      "execution_count": null,
      "metadata": {
        "id": "w7LUms2C69l5",
        "colab": {
          "base_uri": "https://localhost:8080/"
        },
        "outputId": "94e01bad-da75-493e-b74f-c0725fb566cc"
      },
      "outputs": [
        {
          "output_type": "stream",
          "name": "stdout",
          "text": [
            "Couldn't find program: 'no'\n"
          ]
        }
      ],
      "source": [
        "\n",
        "\n",
        "%%script no\n",
        "# 8. Initialize RandomSearch Tuned Models.\n",
        "models_RStuned = {\n",
        "    'Random Forest': rf_grid,\n",
        "    'Gradient Boosting': gb_grid,\n",
        "    'Neural Network': nn_grid\n",
        "}"
      ]
    },
    {
      "cell_type": "code",
      "execution_count": null,
      "metadata": {
        "id": "WIz9xmWS9GT4",
        "colab": {
          "base_uri": "https://localhost:8080/"
        },
        "outputId": "7b9e950f-8651-437b-b6dd-71f0c8d4c24a"
      },
      "outputs": [
        {
          "output_type": "stream",
          "name": "stdout",
          "text": [
            "Couldn't find program: 'no'\n"
          ]
        }
      ],
      "source": [
        "\n",
        "%%script no\n",
        "print(\"VALIDATION PHASE (POST GRIDSEARCH) METRICATION\")\n",
        "for name, model in models_RStuned.items():\n",
        "    print(\"*****************\")\n",
        "    y_pred_val = model.predict(X_val)\n",
        "    print(f\"\\n{name} - Best Parameters: {model.best_params_}\")\n",
        "    print(confusion_matrix(y_val, y_pred_val))\n",
        "    print(classification_report(y_val, y_pred_val))\n",
        "    print(f\"{name} Accuracy: {accuracy_score(y_val, y_pred):.2f}\")"
      ]
    },
    {
      "cell_type": "code",
      "execution_count": null,
      "metadata": {
        "id": "aUoeP6lAIjDH",
        "colab": {
          "base_uri": "https://localhost:8080/"
        },
        "outputId": "13ac646f-9c88-4e10-b851-31ce6cbb90d0"
      },
      "outputs": [
        {
          "output_type": "stream",
          "name": "stdout",
          "text": [
            "Couldn't find program: 'no'\n"
          ]
        }
      ],
      "source": [
        "\n",
        "%%script no\n",
        "\n",
        "print(\"POST RANDOMSEARCH ACCURACY METRICATION.\")\n",
        "\n",
        "for name, model in models.items():\n",
        "    model.fit(X_train, y_train)\n",
        "    #y_pred = model.predict(X_val)\n",
        "    accuracy = accuracy_score(y_val, y_pred_val)\n",
        "    best_models[name] = {'model': model, 'accuracy': accuracy}\n",
        "    print(f\"{name} Accuracy: {accuracy:.2f}\")"
      ]
    },
    {
      "cell_type": "markdown",
      "metadata": {
        "id": "hQDUMY3kJZca"
      },
      "source": [
        "\n",
        "\n",
        "**FINAL EVALUATION**"
      ]
    },
    {
      "cell_type": "code",
      "execution_count": null,
      "metadata": {
        "id": "cbXZ9uStSFgi",
        "colab": {
          "base_uri": "https://localhost:8080/"
        },
        "outputId": "4740e517-ae1a-4e36-8d78-fe1a2b488cd1"
      },
      "outputs": [
        {
          "output_type": "stream",
          "name": "stdout",
          "text": [
            "FINAL EVALUATION PHASE METRICATION\n",
            "\n",
            "Random Forest - Best Parameters: \n",
            "<bound method BaseEstimator.get_params of RandomForestClassifier()>\n",
            "\n",
            "confusion_matrix :\n",
            " [[59  5  3  0  0]\n",
            " [14 38  6  2  3]\n",
            " [ 0  4 44  4  2]\n",
            " [ 1  3  1 61  2]\n",
            " [ 0  0  1  0 56]]\n",
            "              precision    recall  f1-score   support\n",
            "\n",
            "           0       0.80      0.88      0.84        67\n",
            "           1       0.76      0.60      0.67        63\n",
            "           2       0.80      0.81      0.81        54\n",
            "           3       0.91      0.90      0.90        68\n",
            "           4       0.89      0.98      0.93        57\n",
            "\n",
            "    accuracy                           0.83       309\n",
            "   macro avg       0.83      0.84      0.83       309\n",
            "weighted avg       0.83      0.83      0.83       309\n",
            "\n",
            "Random Forest Accuracy: 0.83\n",
            "****************\n",
            "\n",
            "\n",
            "\n",
            "Gradient Boosting - Best Parameters: \n",
            "<bound method BaseEstimator.get_params of GradientBoostingClassifier(learning_rate=0.05, max_depth=5, min_samples_leaf=2,\n",
            "                           min_samples_split=5, n_estimators=200,\n",
            "                           random_state=42)>\n",
            "\n",
            "confusion_matrix :\n",
            " [[61  3  3  0  0]\n",
            " [11 35  7  8  2]\n",
            " [ 2  5 40  5  2]\n",
            " [ 3  4  6 54  1]\n",
            " [ 0  0  2  2 53]]\n",
            "              precision    recall  f1-score   support\n",
            "\n",
            "           0       0.79      0.91      0.85        67\n",
            "           1       0.74      0.56      0.64        63\n",
            "           2       0.69      0.74      0.71        54\n",
            "           3       0.78      0.79      0.79        68\n",
            "           4       0.91      0.93      0.92        57\n",
            "\n",
            "    accuracy                           0.79       309\n",
            "   macro avg       0.78      0.79      0.78       309\n",
            "weighted avg       0.78      0.79      0.78       309\n",
            "\n",
            "Gradient Boosting Accuracy: 0.79\n",
            "****************\n",
            "\n",
            "\n",
            "\n",
            "Neural Network - Best Parameters: \n",
            "<bound method BaseEstimator.get_params of MLPClassifier(max_iter=2000)>\n",
            "\n",
            "confusion_matrix :\n",
            " [[59  4  2  1  1]\n",
            " [ 9 40  6  6  2]\n",
            " [ 1  4 45  4  0]\n",
            " [ 3  3  2 59  1]\n",
            " [ 0  0  0  4 53]]\n",
            "              precision    recall  f1-score   support\n",
            "\n",
            "           0       0.82      0.88      0.85        67\n",
            "           1       0.78      0.63      0.70        63\n",
            "           2       0.82      0.83      0.83        54\n",
            "           3       0.80      0.87      0.83        68\n",
            "           4       0.93      0.93      0.93        57\n",
            "\n",
            "    accuracy                           0.83       309\n",
            "   macro avg       0.83      0.83      0.83       309\n",
            "weighted avg       0.83      0.83      0.83       309\n",
            "\n",
            "Neural Network Accuracy: 0.83\n",
            "****************\n",
            "\n",
            "\n"
          ]
        }
      ],
      "source": [
        "\n",
        "print(\"FINAL EVALUATION PHASE METRICATION\")\n",
        "\n",
        "best_accuracy = 0\n",
        "best_model_name = \"\"\n",
        "best_model = None\n",
        "\n",
        "for name2, model2 in models.items():\n",
        "    y_pred_test = model2.predict(X_test)\n",
        "    #print(f\"\\n{name2} - Best Parameters: \\n{models.best_params_}\")\n",
        "    print(f\"\\n{name2} - Best Parameters: \\n{model2.get_params}\")\n",
        "    print(\"\\nconfusion_matrix :\\n\", confusion_matrix(y_test, y_pred_test))\n",
        "    print(classification_report(y_test, y_pred_test))\n",
        "    accuracy = accuracy_score(y_test, y_pred_test)\n",
        "    print(f\"{name2} Accuracy: {accuracy:.2f}\")\n",
        "\n",
        "    if accuracy > best_accuracy:\n",
        "        best_accuracy = accuracy\n",
        "        best_model_name = name2\n",
        "        best_model = model2\n",
        "\n",
        "    print('****************\\n\\n')"
      ]
    },
    {
      "cell_type": "code",
      "execution_count": null,
      "metadata": {
        "id": "DztaWoubSscR",
        "colab": {
          "base_uri": "https://localhost:8080/"
        },
        "outputId": "7397c673-e7af-406d-91da-69d3463e0d35"
      },
      "outputs": [
        {
          "output_type": "stream",
          "name": "stdout",
          "text": [
            "\n",
            "Best Model: Random Forest (Accuracy: 0.83)\n"
          ]
        }
      ],
      "source": [
        "print(f\"\\nBest Model: {best_model_name} (Accuracy: {best_accuracy:.2f})\")"
      ]
    },
    {
      "cell_type": "code",
      "execution_count": null,
      "metadata": {
        "id": "4UZb1QEfxuI4"
      },
      "outputs": [],
      "source": [
        "#print(model.feature_names_in_)"
      ]
    },
    {
      "cell_type": "code",
      "execution_count": null,
      "metadata": {
        "id": "TFjljSYjVAY9",
        "colab": {
          "base_uri": "https://localhost:8080/"
        },
        "outputId": "dc41b248-05f4-4010-c18c-33d21ab26b5c"
      },
      "outputs": [
        {
          "output_type": "stream",
          "name": "stdout",
          "text": [
            "\n",
            "PCA Component Loadings (Feature Contributions):\n",
            "           age  trestbps      chol       fbs    thalch     exang   oldpeak  \\\n",
            "PC1  -0.316762 -0.187612  0.103165 -0.128897  0.328283 -0.351129 -0.313825   \n",
            "PC2   0.033252 -0.044263  0.049938 -0.026301  0.266103 -0.049443  0.057348   \n",
            "PC3  -0.272271 -0.146075 -0.020618 -0.249208 -0.052764  0.093187 -0.042227   \n",
            "PC4   0.007509  0.283762  0.564254  0.227701  0.228773 -0.083515  0.113858   \n",
            "PC5   0.151223  0.171006  0.091211 -0.125271 -0.164728  0.352041  0.405162   \n",
            "PC6   0.118609  0.079816  0.261413  0.114805  0.012635 -0.041966  0.054991   \n",
            "PC7   0.064361  0.000550 -0.217868  0.209927  0.072608 -0.299616 -0.097062   \n",
            "PC8   0.014227  0.080399 -0.147657  0.083250 -0.030320 -0.114205  0.018544   \n",
            "PC9   0.370262  0.324449 -0.114217  0.447689 -0.226539 -0.113951 -0.361401   \n",
            "PC10  0.022681 -0.086705 -0.107206 -0.276290 -0.029594  0.028499 -0.017877   \n",
            "\n",
            "      sex_Male  cp_atypical angina  cp_non-anginal  cp_typical angina  \\\n",
            "PC1  -0.199027            0.289353        0.094553           0.003036   \n",
            "PC2  -0.063358           -0.048510        0.075796           0.050982   \n",
            "PC3   0.067991            0.077763       -0.089664          -0.113173   \n",
            "PC4  -0.298945            0.294071       -0.238744           0.157231   \n",
            "PC5  -0.078128           -0.099113       -0.193458           0.063514   \n",
            "PC6  -0.163650           -0.391915        0.692971          -0.179340   \n",
            "PC7   0.131547           -0.302248        0.145179           0.582892   \n",
            "PC8   0.071489            0.121452        0.001471          -0.299141   \n",
            "PC9   0.004834            0.263676       -0.014000          -0.295284   \n",
            "PC10 -0.440172           -0.018429        0.190285          -0.402152   \n",
            "\n",
            "      restecg_normal  restecg_st-t abnormality  slope_flat  slope_upsloping  \\\n",
            "PC1         0.175429                 -0.116113   -0.093164         0.167385   \n",
            "PC2         0.010781                 -0.245492   -0.521797         0.533952   \n",
            "PC3         0.534433                 -0.496933    0.252847        -0.223788   \n",
            "PC4        -0.093791                 -0.092558    0.218934        -0.187399   \n",
            "PC5         0.310465                 -0.273889   -0.225664         0.126615   \n",
            "PC6         0.098765                 -0.211190    0.126423        -0.116268   \n",
            "PC7         0.145106                 -0.145703    0.088358        -0.072829   \n",
            "PC8         0.073951                 -0.008747   -0.118762         0.096209   \n",
            "PC9         0.237323                 -0.165543   -0.041815         0.099074   \n",
            "PC10       -0.123353                  0.134631    0.072325        -0.039811   \n",
            "\n",
            "      thal_normal  thal_reversable defect    ca_1.0    ca_2.0    ca_3.0  \n",
            "PC1      0.371751               -0.356467 -0.076920 -0.103542 -0.111858  \n",
            "PC2     -0.288014                0.312237  0.244774  0.187857  0.095315  \n",
            "PC3     -0.268806                0.278620  0.011643 -0.025228 -0.000787  \n",
            "PC4     -0.082321                0.079354 -0.000210  0.272692  0.177488  \n",
            "PC5      0.366750               -0.347364 -0.132357  0.178741 -0.090948  \n",
            "PC6      0.096592               -0.095109  0.175267 -0.126041  0.226964  \n",
            "PC7     -0.035127                0.006810 -0.341916  0.373801 -0.130573  \n",
            "PC8     -0.019680                0.018766 -0.616619  0.000560  0.656568  \n",
            "PC9     -0.010054                0.018555  0.096655  0.010552 -0.295169  \n",
            "PC10    -0.074344                0.081987 -0.218502  0.574420 -0.282838  \n"
          ]
        }
      ],
      "source": [
        "\n",
        "\n",
        "# PCA Loadings Table\n",
        "loadings = pd.DataFrame(pca.components_, columns=X_2.columns, index=[f'PC{i+1}' for i in range(10)])    #\n",
        "print(\"\\nPCA Component Loadings (Feature Contributions):\")\n",
        "print(loadings)"
      ]
    },
    {
      "cell_type": "code",
      "execution_count": null,
      "metadata": {
        "id": "bAFXzr7zWzQP",
        "colab": {
          "base_uri": "https://localhost:8080/"
        },
        "outputId": "4079be91-09c2-4f9b-8249-d8c6e2772b89"
      },
      "outputs": [
        {
          "output_type": "execute_result",
          "data": {
            "text/plain": [
              "Index(['id', 'age', 'sex', 'dataset', 'cp', 'trestbps', 'chol', 'fbs',\n",
              "       'restecg', 'thalch', 'exang', 'oldpeak', 'slope', 'ca', 'thal', 'num',\n",
              "       'age_group'],\n",
              "      dtype='object')"
            ]
          },
          "metadata": {},
          "execution_count": 119
        }
      ],
      "source": [
        "df.columns"
      ]
    },
    {
      "cell_type": "markdown",
      "metadata": {
        "id": "YUwAsPZExwyk"
      },
      "source": [
        "**EXPORT MODEL.**"
      ]
    },
    {
      "cell_type": "code",
      "execution_count": null,
      "metadata": {
        "id": "dwN1BvKiSZbh",
        "colab": {
          "base_uri": "https://localhost:8080/"
        },
        "outputId": "a072c82b-9385-4dff-cac5-cac1edc035b9"
      },
      "outputs": [
        {
          "output_type": "stream",
          "name": "stdout",
          "text": [
            "Best model saved to Random Forest.joblib\n"
          ]
        }
      ],
      "source": [
        "# Export the best model\n",
        "import joblib\n",
        "joblib.dump(best_model, f\"{best_model_name}.joblib\")\n",
        "print(f\"Best model saved to {best_model_name}.joblib\")\n",
        "#"
      ]
    },
    {
      "cell_type": "code",
      "execution_count": null,
      "metadata": {
        "id": "S79d8roPWiyJ"
      },
      "outputs": [],
      "source": []
    },
    {
      "cell_type": "markdown",
      "metadata": {
        "id": "UPbMvtjxw__v"
      },
      "source": [
        "**GRADIO DEPLOYMENT**"
      ]
    },
    {
      "cell_type": "code",
      "execution_count": null,
      "metadata": {
        "id": "EMyP2A259StV"
      },
      "outputs": [],
      "source": [
        "#!pip install gradio"
      ]
    },
    {
      "cell_type": "code",
      "execution_count": null,
      "metadata": {
        "id": "VUd67nYxV2u1",
        "colab": {
          "base_uri": "https://localhost:8080/",
          "height": 646
        },
        "outputId": "c3e0aecb-4580-42d4-cf9e-712227d9a6c3"
      },
      "outputs": [
        {
          "output_type": "stream",
          "name": "stderr",
          "text": [
            "/usr/local/lib/python3.11/dist-packages/gradio/interface.py:403: UserWarning: The `allow_flagging` parameter in `Interface` is deprecated.Use `flagging_mode` instead.\n",
            "  warnings.warn(\n"
          ]
        },
        {
          "output_type": "stream",
          "name": "stdout",
          "text": [
            "Colab notebook detected. To show errors in colab notebook, set debug=True in launch()\n",
            "* Running on public URL: https://be3993e776a3b21759.gradio.live\n",
            "\n",
            "This share link expires in 72 hours. For free permanent hosting and GPU upgrades, run `gradio deploy` from the terminal in the working directory to deploy to Hugging Face Spaces (https://huggingface.co/spaces)\n"
          ]
        },
        {
          "output_type": "display_data",
          "data": {
            "text/plain": [
              "<IPython.core.display.HTML object>"
            ],
            "text/html": [
              "<div><iframe src=\"https://be3993e776a3b21759.gradio.live\" width=\"100%\" height=\"500\" allow=\"autoplay; camera; microphone; clipboard-read; clipboard-write;\" frameborder=\"0\" allowfullscreen></iframe></div>"
            ]
          },
          "metadata": {}
        },
        {
          "output_type": "execute_result",
          "data": {
            "text/plain": []
          },
          "metadata": {},
          "execution_count": 122
        }
      ],
      "source": [
        "\n",
        "import gradio as gr\n",
        "import numpy as np\n",
        "import joblib\n",
        "\n",
        "# Load trained Random Forest model\n",
        "model_path = \"/content/Random Forest.joblib\"\n",
        "model = joblib.load(model_path)\n",
        "\n",
        "# Use precomputed mean and std from training data to normalize numerical features\n",
        "NUM_MEANS = np.array([53.51, 132.13, 199.13, 137.55, 0.88])  # Mean values for numerical columns\n",
        "NUM_STDS = np.array([9.42, 19.07, 110.78, 25.93, 1.09])      # Std deviation for numerical columns\n",
        "\n",
        "def normalize_features(numeric_features):\n",
        "    \"\"\" Normalize numerical features using precomputed mean and std from training. \"\"\"\n",
        "    return (np.array(numeric_features) - NUM_MEANS) / NUM_STDS\n",
        "\n",
        "def predict(age, sex, cp, trestbps, chol, fbs, restecg, thalch, exang, oldpeak, slope, ca, thal):\n",
        "    # Encode categorical variables\n",
        "    sex_encoded = 1 if sex == \"Male\" else 0\n",
        "    cp_encoded = [1 if cp == i else 0 for i in [\"Typical Angina\", \"Atypical Angina\", \"Non-Anginal\", \"Asymptomatic\"]]\n",
        "    restecg_encoded = [1 if restecg == i else 0 for i in [\"Normal\", \"ST-T Abnormality\", \"LV Hypertrophy\"]]\n",
        "    slope_encoded = [1 if slope == i else 0 for i in [\"Upsloping\", \"Flat\", \"Downsloping\"]]\n",
        "    thal_encoded = [1 if thal == i else 0 for i in [\"Normal\", \"Reversible Defect\", \"Fixed Defect\"]]\n",
        "    ca_encoded = [1 if ca == i else 0 for i in [0, 1, 2, 3]]\n",
        "\n",
        "    # Normalize numerical features\n",
        "    numerical_features = [age, trestbps, chol, thalch, oldpeak]\n",
        "    numerical_features_scaled = normalize_features(numerical_features)\n",
        "\n",
        "    # Merge numerical & encoded categorical features\n",
        "    new_data = np.concatenate([numerical_features_scaled, [fbs, exang], cp_encoded, restecg_encoded, slope_encoded, thal_encoded, ca_encoded])\n",
        "\n",
        "    # Ensure input shape matches PCA-transformed feature size (10)\n",
        "    if new_data.shape[0] != 10:\n",
        "        return \"Error: Mismatched feature count. Expected 10 features after PCA.\"\n",
        "\n",
        "    # Predict using trained Random Forest model\n",
        "    prediction = model.predict([new_data])[0]\n",
        "\n",
        "    return f\"Predicted Class: {prediction:.2f}\"\n",
        "\n",
        "# Define Gradio Inputs\n",
        "inputs = [\n",
        "    gr.Slider(28, 77, step=1, label=\"Age\"),\n",
        "    gr.Radio([\"Male\", \"Female\"], label=\"Sex\"),\n",
        "    gr.Radio([\"Typical Angina\", \"Atypical Angina\", \"Non-Anginal\", \"Asymptomatic\"], label=\"Chest Pain Type (CP)\"),\n",
        "    gr.Slider(0, 200, step=1, label=\"Resting Blood Pressure (trestbps)\"),\n",
        "    gr.Slider(0, 603, step=1, label=\"Cholesterol (chol)\"),\n",
        "    gr.Radio([\"True\", \"False\"], label=\"Fasting Blood Sugar > 120mg/dl (FBS)\"),\n",
        "    gr.Radio([\"Normal\", \"ST-T Abnormality\", \"LV Hypertrophy\"], label=\"Resting ECG (restecg)\"),\n",
        "    gr.Slider(60, 202, step=1, label=\"Max Heart Rate Achieved (thalch)\"),\n",
        "    gr.Radio([\"True\", \"False\"], label=\"Exercise Induced Angina (exang)\"),\n",
        "    gr.Slider(-2.6, 6.2, step=0.1, label=\"Oldpeak (ST Depression)\"),\n",
        "    gr.Radio([\"Upsloping\", \"Flat\", \"Downsloping\"], label=\"Slope of ST Segment\"),\n",
        "    gr.Radio([0, 1, 2, 3], label=\"Number of Major Vessels (ca)\"),\n",
        "    gr.Radio([\"Normal\", \"Reversible Defect\", \"Fixed Defect\"], label=\"Thalassemia (thal)\"),\n",
        "]\n",
        "\n",
        "# Define Gradio Interface\n",
        "iface = gr.Interface(\n",
        "    fn=predict,\n",
        "    inputs=inputs,\n",
        "    outputs=\"text\",\n",
        "    title=\"Heart Disease Prediction using PCA & Random Forest\",\n",
        "    description=\"Enter patient data to predict the likelihood of heart disease using PCA-transformed features and a Random Forest model.\",\n",
        "    allow_flagging=\"never\"\n",
        ")\n",
        "\n",
        "# Launch Gradio App\n",
        "iface.launch(share=True, inbrowser=True, server_name=\"0.0.0.0\", server_port=7860)"
      ]
    },
    {
      "cell_type": "code",
      "execution_count": null,
      "metadata": {
        "id": "H_vnFGu6sGHi",
        "colab": {
          "base_uri": "https://localhost:8080/"
        },
        "outputId": "a0c2122d-1f26-4af1-fc1b-ece013d0bef9"
      },
      "outputs": [
        {
          "output_type": "stream",
          "name": "stdout",
          "text": [
            "Couldn't find program: 'no'\n"
          ]
        }
      ],
      "source": [
        "%%script no\n",
        "import gradio as gr\n",
        "import pandas as pd\n",
        "import numpy as np\n",
        "import joblib\n",
        "from sklearn.preprocessing import StandardScaler, OneHotEncoder\n",
        "from sklearn.decomposition import PCA\n",
        "\n",
        "# Load trained model\n",
        "model = joblib.load(\"Random Forest.joblib\")\n",
        "\n",
        "# Define feature lists\n",
        "ENCATCAL_COLS = ['sex', 'cp', 'restecg', 'slope', 'thal', 'ca']\n",
        "NENCATCAL_COLS = ['age', 'trestbps', 'chol', 'fbs', 'thalch', 'exang', 'oldpeak']\n",
        "\n",
        "# Simulated OneHotEncoder fitted on training data\n",
        "ohe = OneHotEncoder(handle_unknown='ignore', sparse_output=False)\n",
        "ohe.fit(pd.DataFrame([\n",
        "    [\"Male\", \"atypical angina\", \"normal\", \"flat\", \"normal\", 0.0],\n",
        "    [\"Female\", \"non-anginal\", \"st-t abnormality\", \"upsloping\", \"reversable defect\", 1.0]\n",
        "], columns=ENCATCAL_COLS))\n",
        "\n",
        "# Simulated StandardScaler fitted on training data\n",
        "scaler = StandardScaler()\n",
        "scaler.fit(np.random.randn(920, len(NENCATCAL_COLS)))  # Adjust shape to match original dataset\n",
        "\n",
        "# Simulated PCA fitted on training data\n",
        "pca = PCA(n_components=10)\n",
        "pca.fit(np.random.randn(920, len(NENCATCAL_COLS) + ohe.transform([[\"Male\", \"asymptomatic\", \"normal\", \"flat\", \"normal\", 0.0]]).shape[1]))\n",
        "\n",
        "# Define prediction function\n",
        "def predict_heart_disease(age, sex, cp, trestbps, chol, fbs, restecg, thalch, exang, oldpeak, slope, ca, thal):\n",
        "    # Create DataFrame\n",
        "    data = pd.DataFrame([[age, sex, cp, trestbps, chol, fbs, restecg, thalch, exang, oldpeak, slope, ca, thal]],\n",
        "                        columns=['age', 'sex', 'cp', 'trestbps', 'chol', 'fbs', 'restecg', 'thalch', 'exang', 'oldpeak', 'slope', 'ca', 'thal'])\n",
        "\n",
        "    # Encode categorical features\n",
        "    encoded_features = ohe.transform(data[ENCATCAL_COLS])\n",
        "\n",
        "    # Scale numerical features\n",
        "    scaled_features = scaler.transform(data[NENCATCAL_COLS])\n",
        "\n",
        "    # Combine and apply PCA\n",
        "    final_features = np.hstack([scaled_features, encoded_features])\n",
        "    pca_features = pca.transform(final_features)\n",
        "\n",
        "    # Predict\n",
        "    prediction = model.predict(pca_features)[0]\n",
        "\n",
        "    return f\"Predicted Heart Disease Class: {prediction}\"\n",
        "\n",
        "# Gradio Interface\n",
        "demo = gr.Interface(\n",
        "    fn=predict_heart_disease,\n",
        "    inputs=[\n",
        "        gr.Number(label=\"Age\"),\n",
        "        gr.Radio([\"Male\", \"Female\"], label=\"Sex\"),\n",
        "        gr.Radio([\"asymptomatic\", \"non-anginal\", \"atypical angina\", \"typical angina\"], label=\"Chest Pain Type (cp)\"),\n",
        "        gr.Number(label=\"Resting Blood Pressure (trestbps)\"),\n",
        "        gr.Number(label=\"Serum Cholesterol (chol)\"),\n",
        "        gr.Radio([\"False\", \"True\"], label=\"Fasting Blood Sugar > 120 mg/dl (fbs)\"),\n",
        "        gr.Radio([\"normal\", \"st-t abnormality\", \"lv hypertrophy\"], label=\"Resting ECG (restecg)\"),\n",
        "        gr.Number(label=\"Max Heart Rate Achieved (thalch)\"),\n",
        "        gr.Radio([\"False\", \"True\"], label=\"Exercise Induced Angina (exang)\"),\n",
        "        gr.Number(label=\"ST Depression (oldpeak)\"),\n",
        "        gr.Radio([\"flat\", \"upsloping\", \"downsloping\"], label=\"Slope of ST Segment\"),\n",
        "        gr.Radio([\"0.0\", \"1.0\", \"2.0\", \"3.0\"], label=\"Number of Major Vessels Colored by Fluoroscopy (ca)\"),\n",
        "        gr.Radio([\"normal\", \"fixed defect\", \"reversable defect\"], label=\"Thalassemia (thal)\")\n",
        "    ],\n",
        "    outputs=\"text\"\n",
        ")\n",
        "\n",
        "# Launch App\n",
        "demo.launch()"
      ]
    },
    {
      "cell_type": "code",
      "execution_count": null,
      "metadata": {
        "id": "rJ1X8ocztHvm",
        "colab": {
          "base_uri": "https://localhost:8080/",
          "height": 646
        },
        "outputId": "52cc7f0d-d3dd-4c1e-e4c6-1d80ea483976"
      },
      "outputs": [
        {
          "output_type": "stream",
          "name": "stdout",
          "text": [
            "Running Gradio in a Colab notebook requires sharing enabled. Automatically setting `share=True` (you can turn this off by setting `share=False` in `launch()` explicitly).\n",
            "\n",
            "Colab notebook detected. To show errors in colab notebook, set debug=True in launch()\n",
            "* Running on public URL: https://f631c7d3b83ba4ef2e.gradio.live\n",
            "\n",
            "This share link expires in 72 hours. For free permanent hosting and GPU upgrades, run `gradio deploy` from the terminal in the working directory to deploy to Hugging Face Spaces (https://huggingface.co/spaces)\n"
          ]
        },
        {
          "output_type": "display_data",
          "data": {
            "text/plain": [
              "<IPython.core.display.HTML object>"
            ],
            "text/html": [
              "<div><iframe src=\"https://f631c7d3b83ba4ef2e.gradio.live\" width=\"100%\" height=\"500\" allow=\"autoplay; camera; microphone; clipboard-read; clipboard-write;\" frameborder=\"0\" allowfullscreen></iframe></div>"
            ]
          },
          "metadata": {}
        },
        {
          "output_type": "execute_result",
          "data": {
            "text/plain": []
          },
          "metadata": {},
          "execution_count": 124
        }
      ],
      "source": [
        "import gradio as gr\n",
        "import joblib\n",
        "import numpy as np\n",
        "import pandas as pd\n",
        "\n",
        "# Load trained model\n",
        "model = joblib.load(\"Random Forest.joblib\")\n",
        "\n",
        "# PCA Loadings (Provided by you)\n",
        "pca_loadings = np.array([\n",
        "    [-0.316762, -0.187612,  0.103165, -0.128897,  0.328283, -0.351129, -0.313825, -0.199027,  0.289353,  0.094553,  0.003036,  0.175429, -0.116113],\n",
        "    [ 0.033252, -0.044263,  0.049938, -0.026301,  0.266103, -0.049443,  0.057348, -0.063358, -0.048510,  0.075796,  0.050982,  0.010781, -0.245492],\n",
        "    [-0.272271, -0.146075, -0.020618, -0.249208, -0.052764,  0.093187, -0.042227,  0.067991,  0.077763, -0.089664, -0.113173,  0.534433, -0.496933],\n",
        "    [ 0.007509,  0.283762,  0.564254,  0.227701,  0.228773, -0.083515,  0.113858, -0.298945,  0.294071, -0.238744,  0.157231, -0.093791, -0.092558],\n",
        "    [ 0.151223,  0.171006,  0.091211, -0.125271, -0.164728,  0.352041,  0.405162, -0.078128, -0.099113, -0.193458,  0.063514,  0.310465, -0.273889],\n",
        "    [ 0.118609,  0.079816,  0.261413,  0.114805,  0.012635, -0.041966,  0.054991, -0.163650, -0.391915,  0.692971, -0.179340,  0.098765, -0.211190],\n",
        "    [ 0.064361,  0.000550, -0.217868,  0.209927,  0.072608, -0.299616, -0.097062,  0.131547, -0.302248,  0.145179,  0.582892,  0.145106, -0.145703],\n",
        "    [ 0.014227,  0.080399, -0.147657,  0.083250, -0.030320, -0.114205,  0.018544,  0.071489,  0.121452,  0.001471, -0.299141,  0.073951, -0.008747],\n",
        "    [ 0.370262,  0.324449, -0.114217,  0.447689, -0.226539, -0.113951, -0.361401,  0.004834,  0.263676, -0.014000, -0.295284,  0.237323, -0.165543],\n",
        "    [ 0.022681, -0.086705, -0.107206, -0.276290, -0.029594,  0.028499, -0.017877, -0.440172, -0.018429,  0.190285, -0.402152, -0.123353,  0.134631]\n",
        "])\n",
        "\n",
        "# Feature names\n",
        "features = ['age', 'trestbps', 'chol', 'fbs', 'thalch', 'exang', 'oldpeak',\n",
        "            'sex_Male', 'cp_atypical angina', 'cp_non-anginal', 'cp_typical angina',\n",
        "            'restecg_normal', 'restecg_st-t abnormality']\n",
        "\n",
        "# Sample mean and std (You need to replace these with actual values from training data)\n",
        "means = np.array([53.51, 132.13, 199.13, 0.67, 137.54, 0.87, 0.87, 0.78, 0.19, 0.21, 0.06, 0.6, 0.2])\n",
        "stds = np.array([9.42, 19.07, 110.78, 0.93, 25.92, 1.09, 1.09, 0.41, 0.39, 0.4, 0.24, 0.49, 0.4])\n",
        "\n",
        "def preprocess_and_predict(age, trestbps, chol, fbs, thalch, exang, oldpeak, sex, cp, restecg):\n",
        "    # Encode categorical features\n",
        "    sex_encoded = 1 if sex == \"Male\" else 0\n",
        "    cp_encoding = [0, 0, 0]  # Default for \"typical angina\"\n",
        "    if cp == \"atypical angina\":\n",
        "        cp_encoding = [1, 0, 0]\n",
        "    elif cp == \"non-anginal\":\n",
        "        cp_encoding = [0, 1, 0]\n",
        "    elif cp == \"asymptomatic\":\n",
        "        cp_encoding = [0, 0, 1]\n",
        "\n",
        "    restecg_encoding = [0, 0]  # Default for \"lv hypertrophy\"\n",
        "    if restecg == \"normal\":\n",
        "        restecg_encoding = [1, 0]\n",
        "    elif restecg == \"st-t abnormality\":\n",
        "        restecg_encoding = [0, 1]\n",
        "\n",
        "    # Convert inputs to a NumPy array\n",
        "    x = np.array([age, trestbps, chol, fbs, thalch, exang, oldpeak, sex_encoded] + cp_encoding + restecg_encoding)\n",
        "\n",
        "    # Standardize\n",
        "    x_scaled = (x - means) / stds\n",
        "\n",
        "    # Apply PCA manually\n",
        "    x_pca = np.dot(pca_loadings, x_scaled)\n",
        "\n",
        "    # Predict using trained model\n",
        "    prediction = model.predict([x_pca])[0]\n",
        "\n",
        "    return f\"Prediction: {prediction}\"\n",
        "\n",
        "# Define Gradio Interface\n",
        "iface = gr.Interface(\n",
        "    fn=preprocess_and_predict,\n",
        "    inputs=[\n",
        "        gr.Number(label=\"Age\"),\n",
        "        gr.Number(label=\"Resting Blood Pressure (trestbps)\"),\n",
        "        gr.Number(label=\"Cholesterol (chol)\"),\n",
        "        gr.Number(label=\"Fasting Blood Sugar (fbs)\"),\n",
        "        gr.Number(label=\"Max Heart Rate (thalch)\"),\n",
        "        gr.Number(label=\"Exercise Induced Angina (exang)\"),\n",
        "        gr.Number(label=\"ST Depression (oldpeak)\"),\n",
        "        gr.Radio([\"Male\", \"Female\"], label=\"Sex\"),\n",
        "        gr.Radio([\"typical angina\", \"atypical angina\", \"non-anginal\", \"asymptomatic\"], label=\"Chest Pain Type (cp)\"),\n",
        "        gr.Radio([\"lv hypertrophy\", \"normal\", \"st-t abnormality\"], label=\"Resting ECG (restecg)\")\n",
        "    ],\n",
        "    outputs=\"text\",\n",
        ")\n",
        "\n",
        "iface.launch()"
      ]
    },
    {
      "cell_type": "code",
      "source": [],
      "metadata": {
        "id": "LD0L03yebn_V"
      },
      "execution_count": null,
      "outputs": []
    }
  ],
  "metadata": {
    "colab": {
      "provenance": [],
      "include_colab_link": true
    },
    "kernelspec": {
      "display_name": "Python 3",
      "name": "python3"
    },
    "language_info": {
      "name": "python"
    }
  },
  "nbformat": 4,
  "nbformat_minor": 0
}